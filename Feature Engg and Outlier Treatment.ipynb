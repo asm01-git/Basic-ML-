{
 "cells": [
  {
   "cell_type": "code",
   "execution_count": 1,
   "metadata": {},
   "outputs": [],
   "source": [
    "#importing libraries \n",
    "import pandas as pd \n",
    "import numpy as np\n",
    "import matplotlib.pyplot as plt\n",
    "%matplotlib inline\n",
    "\n",
    "import warnings\n",
    "warnings.filterwarnings(\"ignore\")"
   ]
  },
  {
   "cell_type": "code",
   "execution_count": 2,
   "metadata": {},
   "outputs": [],
   "source": [
    "df=pd.read_csv('churn_prediction.csv')"
   ]
  },
  {
   "cell_type": "code",
   "execution_count": 63,
   "metadata": {},
   "outputs": [],
   "source": [
    "networth='customer_nw_category'\n",
    "dslt='days_since_last_transaction'\n",
    "pmeb='previous_month_end_balance'\n",
    "ambpq='average_monthly_balance_prevQ'\n",
    "ambpq2='average_monthly_balance_prevQ2'\n",
    "cmc='current_month_credit'\n",
    "pmc='previous_month_credit'\n",
    "cmd='current_month_debit'\n",
    "pmd='previous_month_debit'\n",
    "cmb='current_month_balance'\n",
    "pmb='previous_month_balance'\n",
    "cmcd='current_month_credit/debit'\n",
    "pmcd='previous_month_credit/debit'\n",
    "mg='monthly_gain'\n",
    "qg='quartile_gain'\n",
    "cb='current_balance'\n",
    "gtm='gain_this_month'\n",
    "ambc='average_monthly_balance_comparison'\n",
    "ac='avg_credit'\n",
    "ad='avg_debit'\n",
    "amb='avg_monthly_balance'\n",
    "aqb='avg_quartile_balance'\n",
    "pmngr='previous_month_net_gain_ratio'\n",
    "cmngr='current_month_net_gain_ratio'"
   ]
  },
  {
   "cell_type": "code",
   "execution_count": 64,
   "metadata": {
    "scrolled": true
   },
   "outputs": [
    {
     "data": {
      "text/html": [
       "<div>\n",
       "<style scoped>\n",
       "    .dataframe tbody tr th:only-of-type {\n",
       "        vertical-align: middle;\n",
       "    }\n",
       "\n",
       "    .dataframe tbody tr th {\n",
       "        vertical-align: top;\n",
       "    }\n",
       "\n",
       "    .dataframe thead th {\n",
       "        text-align: right;\n",
       "    }\n",
       "</style>\n",
       "<table border=\"1\" class=\"dataframe\">\n",
       "  <thead>\n",
       "    <tr style=\"text-align: right;\">\n",
       "      <th></th>\n",
       "      <th>customer_id</th>\n",
       "      <th>vintage</th>\n",
       "      <th>age</th>\n",
       "      <th>gender</th>\n",
       "      <th>dependents</th>\n",
       "      <th>occupation</th>\n",
       "      <th>city</th>\n",
       "      <th>customer_nw_category</th>\n",
       "      <th>branch_code</th>\n",
       "      <th>days_since_last_transaction</th>\n",
       "      <th>...</th>\n",
       "      <th>avg_credit</th>\n",
       "      <th>avg_debit</th>\n",
       "      <th>avg_quartile_balance</th>\n",
       "      <th>avg_monthly_balance</th>\n",
       "      <th>abc</th>\n",
       "      <th>prev_quartile_balance_category</th>\n",
       "      <th>avg_monthly_balance_category</th>\n",
       "      <th>credit_category</th>\n",
       "      <th>current_month_net_gain_ratio</th>\n",
       "      <th>previous_month_net_gain_ratio</th>\n",
       "    </tr>\n",
       "  </thead>\n",
       "  <tbody>\n",
       "    <tr>\n",
       "      <th>0</th>\n",
       "      <td>1</td>\n",
       "      <td>3135</td>\n",
       "      <td>66</td>\n",
       "      <td>Male</td>\n",
       "      <td>0.0</td>\n",
       "      <td>self_employed</td>\n",
       "      <td>187.0</td>\n",
       "      <td>2</td>\n",
       "      <td>755</td>\n",
       "      <td>224.0</td>\n",
       "      <td>...</td>\n",
       "      <td>0.20</td>\n",
       "      <td>0.200</td>\n",
       "      <td>1453.890</td>\n",
       "      <td>1458.7100</td>\n",
       "      <td>(-7426.0, 2139.0]</td>\n",
       "      <td>Dangerously Low</td>\n",
       "      <td>Dangerously Low</td>\n",
       "      <td>(0.009000000000000001, 0.41]</td>\n",
       "      <td>0.000000</td>\n",
       "      <td>0.000000</td>\n",
       "    </tr>\n",
       "    <tr>\n",
       "      <th>1</th>\n",
       "      <td>2</td>\n",
       "      <td>310</td>\n",
       "      <td>35</td>\n",
       "      <td>Male</td>\n",
       "      <td>0.0</td>\n",
       "      <td>self_employed</td>\n",
       "      <td>NaN</td>\n",
       "      <td>2</td>\n",
       "      <td>3214</td>\n",
       "      <td>60.0</td>\n",
       "      <td>...</td>\n",
       "      <td>0.56</td>\n",
       "      <td>2793.415</td>\n",
       "      <td>10109.335</td>\n",
       "      <td>7344.8550</td>\n",
       "      <td>(6620.0, 5355230.0]</td>\n",
       "      <td>High</td>\n",
       "      <td>Good</td>\n",
       "      <td>(0.41, 72.1]</td>\n",
       "      <td>0.844374</td>\n",
       "      <td>-0.612875</td>\n",
       "    </tr>\n",
       "    <tr>\n",
       "      <th>2</th>\n",
       "      <td>4</td>\n",
       "      <td>2356</td>\n",
       "      <td>31</td>\n",
       "      <td>Male</td>\n",
       "      <td>0.0</td>\n",
       "      <td>salaried</td>\n",
       "      <td>146.0</td>\n",
       "      <td>2</td>\n",
       "      <td>41</td>\n",
       "      <td>NaN</td>\n",
       "      <td>...</td>\n",
       "      <td>0.61</td>\n",
       "      <td>3152.980</td>\n",
       "      <td>3863.055</td>\n",
       "      <td>4951.2175</td>\n",
       "      <td>(3557.0, 6620.0]</td>\n",
       "      <td>Low</td>\n",
       "      <td>Satisfactory</td>\n",
       "      <td>(0.41, 72.1]</td>\n",
       "      <td>1.207707</td>\n",
       "      <td>-1.141487</td>\n",
       "    </tr>\n",
       "    <tr>\n",
       "      <th>3</th>\n",
       "      <td>5</td>\n",
       "      <td>478</td>\n",
       "      <td>90</td>\n",
       "      <td>NaN</td>\n",
       "      <td>NaN</td>\n",
       "      <td>self_employed</td>\n",
       "      <td>1020.0</td>\n",
       "      <td>2</td>\n",
       "      <td>582</td>\n",
       "      <td>147.0</td>\n",
       "      <td>...</td>\n",
       "      <td>0.47</td>\n",
       "      <td>1071.900</td>\n",
       "      <td>1545.540</td>\n",
       "      <td>2136.3800</td>\n",
       "      <td>(-7426.0, 2139.0]</td>\n",
       "      <td>Dangerously Low</td>\n",
       "      <td>Low</td>\n",
       "      <td>(0.41, 72.1]</td>\n",
       "      <td>0.000000</td>\n",
       "      <td>1.283311</td>\n",
       "    </tr>\n",
       "    <tr>\n",
       "      <th>4</th>\n",
       "      <td>6</td>\n",
       "      <td>2531</td>\n",
       "      <td>42</td>\n",
       "      <td>Male</td>\n",
       "      <td>2.0</td>\n",
       "      <td>self_employed</td>\n",
       "      <td>1494.0</td>\n",
       "      <td>3</td>\n",
       "      <td>388</td>\n",
       "      <td>58.0</td>\n",
       "      <td>...</td>\n",
       "      <td>357.47</td>\n",
       "      <td>1063.340</td>\n",
       "      <td>1757.215</td>\n",
       "      <td>1290.9375</td>\n",
       "      <td>(-7426.0, 2139.0]</td>\n",
       "      <td>Dangerously Low</td>\n",
       "      <td>Dangerously Low</td>\n",
       "      <td>(72.1, 1226.926]</td>\n",
       "      <td>0.508396</td>\n",
       "      <td>0.566100</td>\n",
       "    </tr>\n",
       "  </tbody>\n",
       "</table>\n",
       "<p>5 rows × 31 columns</p>\n",
       "</div>"
      ],
      "text/plain": [
       "   customer_id  vintage  age gender  dependents     occupation    city  \\\n",
       "0            1     3135   66   Male         0.0  self_employed   187.0   \n",
       "1            2      310   35   Male         0.0  self_employed     NaN   \n",
       "2            4     2356   31   Male         0.0       salaried   146.0   \n",
       "3            5      478   90    NaN         NaN  self_employed  1020.0   \n",
       "4            6     2531   42   Male         2.0  self_employed  1494.0   \n",
       "\n",
       "   customer_nw_category  branch_code  days_since_last_transaction  ...  \\\n",
       "0                     2          755                        224.0  ...   \n",
       "1                     2         3214                         60.0  ...   \n",
       "2                     2           41                          NaN  ...   \n",
       "3                     2          582                        147.0  ...   \n",
       "4                     3          388                         58.0  ...   \n",
       "\n",
       "   avg_credit  avg_debit  avg_quartile_balance  avg_monthly_balance  \\\n",
       "0        0.20      0.200              1453.890            1458.7100   \n",
       "1        0.56   2793.415             10109.335            7344.8550   \n",
       "2        0.61   3152.980              3863.055            4951.2175   \n",
       "3        0.47   1071.900              1545.540            2136.3800   \n",
       "4      357.47   1063.340              1757.215            1290.9375   \n",
       "\n",
       "                   abc  prev_quartile_balance_category  \\\n",
       "0    (-7426.0, 2139.0]                 Dangerously Low   \n",
       "1  (6620.0, 5355230.0]                            High   \n",
       "2     (3557.0, 6620.0]                             Low   \n",
       "3    (-7426.0, 2139.0]                 Dangerously Low   \n",
       "4    (-7426.0, 2139.0]                 Dangerously Low   \n",
       "\n",
       "   avg_monthly_balance_category               credit_category  \\\n",
       "0               Dangerously Low  (0.009000000000000001, 0.41]   \n",
       "1                          Good                  (0.41, 72.1]   \n",
       "2                  Satisfactory                  (0.41, 72.1]   \n",
       "3                           Low                  (0.41, 72.1]   \n",
       "4               Dangerously Low              (72.1, 1226.926]   \n",
       "\n",
       "   current_month_net_gain_ratio  previous_month_net_gain_ratio  \n",
       "0                      0.000000                       0.000000  \n",
       "1                      0.844374                      -0.612875  \n",
       "2                      1.207707                      -1.141487  \n",
       "3                      0.000000                       1.283311  \n",
       "4                      0.508396                       0.566100  \n",
       "\n",
       "[5 rows x 31 columns]"
      ]
     },
     "execution_count": 64,
     "metadata": {},
     "output_type": "execute_result"
    }
   ],
   "source": [
    "df.head()"
   ]
  },
  {
   "cell_type": "code",
   "execution_count": 27,
   "metadata": {},
   "outputs": [
    {
     "data": {
      "text/plain": [
       "(28382, 25)"
      ]
     },
     "execution_count": 27,
     "metadata": {},
     "output_type": "execute_result"
    }
   ],
   "source": [
    "df.shape"
   ]
  },
  {
   "cell_type": "code",
   "execution_count": 46,
   "metadata": {},
   "outputs": [
    {
     "data": {
      "text/plain": [
       "Index(['customer_id', 'vintage', 'age', 'gender', 'dependents', 'occupation',\n",
       "       'city', 'customer_nw_category', 'branch_code',\n",
       "       'days_since_last_transaction', 'current_balance',\n",
       "       'previous_month_end_balance', 'average_monthly_balance_prevQ',\n",
       "       'average_monthly_balance_prevQ2', 'current_month_credit',\n",
       "       'previous_month_credit', 'current_month_debit', 'previous_month_debit',\n",
       "       'current_month_balance', 'previous_month_balance', 'churn'],\n",
       "      dtype='object')"
      ]
     },
     "execution_count": 46,
     "metadata": {},
     "output_type": "execute_result"
    }
   ],
   "source": [
    "df.columns"
   ]
  },
  {
   "cell_type": "code",
   "execution_count": 4,
   "metadata": {},
   "outputs": [],
   "source": [
    "#Imputing missing gender values\n",
    "for i in range(len(df)):\n",
    "    if pd.isnull(df['gender'][i]):\n",
    "        if df['occupation'][i]=='retired':\n",
    "            df['gender'][i]='Male'\n",
    "        elif df['occupation'][i]=='salaried':\n",
    "            df['gender'][i]='Male'\n",
    "        elif df['customer_nw_category'][i]==3:\n",
    "            df['gender'][i]='Male'\n",
    "        elif df['dependents'][i]>=2:\n",
    "            df['gender'][i]='Male'\n",
    "        else:\n",
    "            df['gender'][i]='Female'"
   ]
  },
  {
   "cell_type": "code",
   "execution_count": 5,
   "metadata": {},
   "outputs": [
    {
     "data": {
      "text/plain": [
       "0.0    21435\n",
       "2.0     2150\n",
       "1.0     1395\n",
       "3.0      939\n",
       "Name: dependents, dtype: int64"
      ]
     },
     "execution_count": 5,
     "metadata": {},
     "output_type": "execute_result"
    }
   ],
   "source": [
    "#Convert dependents into categorical\n",
    "for i in range(len(df)):\n",
    "    if df['dependents'][i]>2:\n",
    "        df['dependents'][i]=3\n",
    "df['dependents'].value_counts()"
   ]
  },
  {
   "cell_type": "code",
   "execution_count": 64,
   "metadata": {},
   "outputs": [],
   "source": [
    "df=df.astype({'dependents':'object','city':'object'})\n",
    "df['dependents']=df['dependents'].fillna(0)\n",
    "df['occupation']=df['occupation'].fillna('self_employed')\n",
    "df['city']=df['city'].fillna(0)"
   ]
  },
  {
   "cell_type": "code",
   "execution_count": 7,
   "metadata": {},
   "outputs": [],
   "source": [
    "mean_days=np.mean(df['days_since_last_transaction'])\n",
    "for i in range(len(df)):\n",
    "    if pd.isnull(df['days_since_last_transaction'][i])==True:\n",
    "        if df['dependents'][i]==0:\n",
    "            df['days_since_last_transaction'][i]=74\n",
    "        elif df['customer_nw_category'][i]==1:\n",
    "            df['days_since_last_transaction'][i]=56\n",
    "        elif df['occupation'][i]=='student':\n",
    "            df['days_since_last_transaction'][i]=92\n",
    "        else:\n",
    "            df['days_since_last_transaction'][i]=mean_days"
   ]
  },
  {
   "cell_type": "code",
   "execution_count": 28,
   "metadata": {},
   "outputs": [
    {
     "data": {
      "text/plain": [
       "customer_id                          0\n",
       "vintage                              0\n",
       "age                                  0\n",
       "gender                             373\n",
       "dependents                           0\n",
       "occupation                           0\n",
       "city                                 0\n",
       "customer_nw_category                 0\n",
       "branch_code                          0\n",
       "days_since_last_transaction       2927\n",
       "current_balance                      0\n",
       "previous_month_end_balance           0\n",
       "average_monthly_balance_prevQ        0\n",
       "average_monthly_balance_prevQ2       0\n",
       "current_month_credit                 0\n",
       "previous_month_credit                0\n",
       "current_month_debit                  0\n",
       "previous_month_debit                 0\n",
       "current_month_balance                0\n",
       "previous_month_balance               0\n",
       "churn                                0\n",
       "dtype: int64"
      ]
     },
     "execution_count": 28,
     "metadata": {},
     "output_type": "execute_result"
    }
   ],
   "source": [
    "df.isnull().sum()"
   ]
  },
  {
   "cell_type": "code",
   "execution_count": 11,
   "metadata": {},
   "outputs": [
    {
     "data": {
      "text/plain": [
       "(28382, 21)"
      ]
     },
     "execution_count": 11,
     "metadata": {},
     "output_type": "execute_result"
    }
   ],
   "source": [
    "df.shape"
   ]
  },
  {
   "cell_type": "code",
   "execution_count": 12,
   "metadata": {
    "scrolled": true
   },
   "outputs": [
    {
     "data": {
      "image/png": "[encoded data removed]",
      "text/plain": [
       "<Figure size 432x288 with 1 Axes>"
      ]
     },
     "metadata": {
      "needs_background": "light"
     },
     "output_type": "display_data"
    }
   ],
   "source": [
    "#Normalize the distribution of vintage variable\n",
    "np.power(df['vintage'],1/3).plot.hist(bins=50)\n",
    "df['vintage']=np.power(df['vintage'],1/3)"
   ]
  },
  {
   "cell_type": "code",
   "execution_count": 47,
   "metadata": {
    "scrolled": true
   },
   "outputs": [
    {
     "data": {
      "image/png": "[encoded data removed]",
      "text/plain": [
       "<Figure size 432x288 with 1 Axes>"
      ]
     },
     "metadata": {
      "needs_background": "light"
     },
     "output_type": "display_data"
    }
   ],
   "source": [
    "np.sqrt(df['days_since_last_transaction']).plot.hist(bins=50)\n",
    "df['days_since_last_transaction']=np.sqrt(df['days_since_last_transaction'])"
   ]
  },
  {
   "cell_type": "code",
   "execution_count": 20,
   "metadata": {
    "scrolled": true
   },
   "outputs": [
    {
     "data": {
      "text/plain": [
       "<matplotlib.axes._subplots.AxesSubplot at 0x7fdd06c54410>"
      ]
     },
     "execution_count": 20,
     "metadata": {},
     "output_type": "execute_result"
    },
    {
     "data": {
      "image/png": "[encoded data removed]",
      "text/plain": [
       "<Figure size 432x288 with 1 Axes>"
      ]
     },
     "metadata": {
      "needs_background": "light"
     },
     "output_type": "display_data"
    }
   ],
   "source": [
    "df.loc[df[cmb]<0][cmb].plot.hist(bins=50)"
   ]
  },
  {
   "cell_type": "code",
   "execution_count": 23,
   "metadata": {},
   "outputs": [
    {
     "data": {
      "text/plain": [
       "<matplotlib.axes._subplots.AxesSubplot at 0x7fdd073fc4d0>"
      ]
     },
     "execution_count": 23,
     "metadata": {},
     "output_type": "execute_result"
    },
    {
     "data": {
      "image/png": "[encoded data removed]",
      "text/plain": [
       "<Figure size 432x288 with 1 Axes>"
      ]
     },
     "metadata": {
      "needs_background": "light"
     },
     "output_type": "display_data"
    }
   ],
   "source": [
    "df.loc[df[pmb]<0][pmb].plot.box()"
   ]
  },
  {
   "cell_type": "code",
   "execution_count": 52,
   "metadata": {},
   "outputs": [
    {
     "data": {
      "text/plain": [
       "Index(['customer_id', 'vintage', 'age', 'gender', 'dependents', 'occupation',\n",
       "       'city', 'customer_nw_category', 'branch_code',\n",
       "       'days_since_last_transaction', 'current_balance',\n",
       "       'previous_month_end_balance', 'average_monthly_balance_prevQ',\n",
       "       'average_monthly_balance_prevQ2', 'current_month_credit',\n",
       "       'previous_month_credit', 'current_month_debit', 'previous_month_debit',\n",
       "       'current_month_balance', 'previous_month_balance', 'churn',\n",
       "       'current_month_gain', 'previous_month_gain', 'monthly_comparison',\n",
       "       'quartile_comparison', 'expenditure_this_month', 'monthly_comparison_2',\n",
       "       'current_month_gain2', 'monthly_gain', 'quartile_gain',\n",
       "       'gain_this_month', 'current_month_credit/debit',\n",
       "       'previous_month_credit/debit', 'average_monthly_balance_comparison'],\n",
       "      dtype='object')"
      ]
     },
     "execution_count": 52,
     "metadata": {},
     "output_type": "execute_result"
    }
   ],
   "source": [
    "df['current_month_credit/debit']=(df[cmc])/(df[cmd])\n",
    "df['previous_month_credit/debit']=(df[pmc])/(df[pmd])\n",
    "df['monthly_gain']=(df[cmb])-(df[pmb])\n",
    "df['quartile_gain']=df[ambpq]-df[ambpq2]\n",
    "df['gain_this_month']=df[cb]-df[pmeb]\n",
    "df['average_monthly_balance_comparison']=(df[cmb]+3500)/(df[pmb]+5500)\n",
    "df.columns"
   ]
  },
  {
   "cell_type": "code",
   "execution_count": 56,
   "metadata": {},
   "outputs": [
    {
     "data": {
      "text/html": [
       "<div>\n",
       "<style scoped>\n",
       "    .dataframe tbody tr th:only-of-type {\n",
       "        vertical-align: middle;\n",
       "    }\n",
       "\n",
       "    .dataframe tbody tr th {\n",
       "        vertical-align: top;\n",
       "    }\n",
       "\n",
       "    .dataframe thead th {\n",
       "        text-align: right;\n",
       "    }\n",
       "</style>\n",
       "<table border=\"1\" class=\"dataframe\">\n",
       "  <thead>\n",
       "    <tr style=\"text-align: right;\">\n",
       "      <th></th>\n",
       "      <th>current_month_credit/debit</th>\n",
       "      <th>previous_month_credit/debit</th>\n",
       "      <th>monthly_gain</th>\n",
       "      <th>quartile_gain</th>\n",
       "      <th>gain_this_month</th>\n",
       "      <th>average_monthly_balance_comparison</th>\n",
       "    </tr>\n",
       "  </thead>\n",
       "  <tbody>\n",
       "    <tr>\n",
       "      <th>0</th>\n",
       "      <td>1.000000</td>\n",
       "      <td>1.000000</td>\n",
       "      <td>0.00</td>\n",
       "      <td>9.64</td>\n",
       "      <td>0.00</td>\n",
       "      <td>0.712590</td>\n",
       "    </tr>\n",
       "    <tr>\n",
       "      <th>1</th>\n",
       "      <td>0.000102</td>\n",
       "      <td>0.005569</td>\n",
       "      <td>-2290.83</td>\n",
       "      <td>-4620.15</td>\n",
       "      <td>-3314.29</td>\n",
       "      <td>0.699682</td>\n",
       "    </tr>\n",
       "    <tr>\n",
       "      <th>2</th>\n",
       "      <td>0.000101</td>\n",
       "      <td>0.002353</td>\n",
       "      <td>-63.86</td>\n",
       "      <td>2094.23</td>\n",
       "      <td>-1902.13</td>\n",
       "      <td>0.804746</td>\n",
       "    </tr>\n",
       "    <tr>\n",
       "      <th>3</th>\n",
       "      <td>1.000000</td>\n",
       "      <td>0.000219</td>\n",
       "      <td>622.12</td>\n",
       "      <td>1078.00</td>\n",
       "      <td>0.00</td>\n",
       "      <td>0.807821</td>\n",
       "    </tr>\n",
       "    <tr>\n",
       "      <th>4</th>\n",
       "      <td>0.000561</td>\n",
       "      <td>0.464618</td>\n",
       "      <td>-520.01</td>\n",
       "      <td>-227.81</td>\n",
       "      <td>-474.00</td>\n",
       "      <td>0.648885</td>\n",
       "    </tr>\n",
       "    <tr>\n",
       "      <th>...</th>\n",
       "      <td>...</td>\n",
       "      <td>...</td>\n",
       "      <td>...</td>\n",
       "      <td>...</td>\n",
       "      <td>...</td>\n",
       "      <td>...</td>\n",
       "    </tr>\n",
       "    <tr>\n",
       "      <th>28377</th>\n",
       "      <td>1.000000</td>\n",
       "      <td>1.000000</td>\n",
       "      <td>0.00</td>\n",
       "      <td>-505.51</td>\n",
       "      <td>0.00</td>\n",
       "      <td>0.695884</td>\n",
       "    </tr>\n",
       "    <tr>\n",
       "      <th>28378</th>\n",
       "      <td>0.001898</td>\n",
       "      <td>0.002258</td>\n",
       "      <td>48.22</td>\n",
       "      <td>-196.72</td>\n",
       "      <td>-225.11</td>\n",
       "      <td>0.787627</td>\n",
       "    </tr>\n",
       "    <tr>\n",
       "      <th>28379</th>\n",
       "      <td>27.740831</td>\n",
       "      <td>54.081616</td>\n",
       "      <td>3514.26</td>\n",
       "      <td>31519.00</td>\n",
       "      <td>4494.42</td>\n",
       "      <td>1.024011</td>\n",
       "    </tr>\n",
       "    <tr>\n",
       "      <th>28380</th>\n",
       "      <td>1.000000</td>\n",
       "      <td>1.000000</td>\n",
       "      <td>0.00</td>\n",
       "      <td>-174.22</td>\n",
       "      <td>0.00</td>\n",
       "      <td>0.719320</td>\n",
       "    </tr>\n",
       "    <tr>\n",
       "      <th>28381</th>\n",
       "      <td>0.000154</td>\n",
       "      <td>0.006800</td>\n",
       "      <td>-857.96</td>\n",
       "      <td>-1234.01</td>\n",
       "      <td>-714.29</td>\n",
       "      <td>0.673770</td>\n",
       "    </tr>\n",
       "  </tbody>\n",
       "</table>\n",
       "<p>28382 rows × 6 columns</p>\n",
       "</div>"
      ],
      "text/plain": [
       "       current_month_credit/debit  previous_month_credit/debit  monthly_gain  \\\n",
       "0                        1.000000                     1.000000          0.00   \n",
       "1                        0.000102                     0.005569      -2290.83   \n",
       "2                        0.000101                     0.002353        -63.86   \n",
       "3                        1.000000                     0.000219        622.12   \n",
       "4                        0.000561                     0.464618       -520.01   \n",
       "...                           ...                          ...           ...   \n",
       "28377                    1.000000                     1.000000          0.00   \n",
       "28378                    0.001898                     0.002258         48.22   \n",
       "28379                   27.740831                    54.081616       3514.26   \n",
       "28380                    1.000000                     1.000000          0.00   \n",
       "28381                    0.000154                     0.006800       -857.96   \n",
       "\n",
       "       quartile_gain  gain_this_month  average_monthly_balance_comparison  \n",
       "0               9.64             0.00                            0.712590  \n",
       "1           -4620.15         -3314.29                            0.699682  \n",
       "2            2094.23         -1902.13                            0.804746  \n",
       "3            1078.00             0.00                            0.807821  \n",
       "4            -227.81          -474.00                            0.648885  \n",
       "...              ...              ...                                 ...  \n",
       "28377        -505.51             0.00                            0.695884  \n",
       "28378        -196.72          -225.11                            0.787627  \n",
       "28379       31519.00          4494.42                            1.024011  \n",
       "28380        -174.22             0.00                            0.719320  \n",
       "28381       -1234.01          -714.29                            0.673770  \n",
       "\n",
       "[28382 rows x 6 columns]"
      ]
     },
     "execution_count": 56,
     "metadata": {},
     "output_type": "execute_result"
    }
   ],
   "source": [
    "df[[cmcd,pmcd,mg,qg,gtm,ambc]]"
   ]
  },
  {
   "cell_type": "code",
   "execution_count": 54,
   "metadata": {},
   "outputs": [
    {
     "data": {
      "text/plain": [
       "Index(['customer_id', 'vintage', 'age', 'gender', 'dependents', 'occupation',\n",
       "       'city', 'customer_nw_category', 'branch_code',\n",
       "       'days_since_last_transaction', 'current_balance',\n",
       "       'previous_month_end_balance', 'average_monthly_balance_prevQ',\n",
       "       'average_monthly_balance_prevQ2', 'current_month_credit',\n",
       "       'previous_month_credit', 'current_month_debit', 'previous_month_debit',\n",
       "       'current_month_balance', 'previous_month_balance', 'churn',\n",
       "       'monthly_gain', 'quartile_gain', 'gain_this_month',\n",
       "       'current_month_credit/debit', 'previous_month_credit/debit',\n",
       "       'average_monthly_balance_comparison'],\n",
       "      dtype='object')"
      ]
     },
     "execution_count": 54,
     "metadata": {},
     "output_type": "execute_result"
    }
   ],
   "source": [
    "df=df.drop(['monthly_comparison_2','quartile_comparison',\n",
    "            'current_month_gain','previous_month_gain',\n",
    "            'monthly_comparison','expenditure_this_month',\n",
    "            'current_month_gain2'],axis=1)\n",
    "df.columns"
   ]
  },
  {
   "cell_type": "code",
   "execution_count": 86,
   "metadata": {},
   "outputs": [
    {
     "data": {
      "text/plain": [
       "count     28382.000000\n",
       "mean       -115.218744\n",
       "std       13821.947904\n",
       "min     -869454.600000\n",
       "25%        -376.290000\n",
       "50%           0.000000\n",
       "75%         209.712500\n",
       "max      574712.380000\n",
       "Name: gain_this_month, dtype: float64"
      ]
     },
     "execution_count": 86,
     "metadata": {},
     "output_type": "execute_result"
    }
   ],
   "source": [
    "df[gtm].describe()"
   ]
  },
  {
   "cell_type": "code",
   "execution_count": 60,
   "metadata": {},
   "outputs": [
    {
     "data": {
      "text/plain": [
       "(24758, 27)"
      ]
     },
     "execution_count": 60,
     "metadata": {},
     "output_type": "execute_result"
    },
    {
     "data": {
      "image/png": "[encoded data removed]",
      "text/plain": [
       "<Figure size 432x288 with 1 Axes>"
      ]
     },
     "metadata": {
      "needs_background": "light"
     },
     "output_type": "display_data"
    }
   ],
   "source": [
    "df.loc[df[cmcd]<10][cmcd].plot.box()\n",
    "df.loc[df[cmcd]<10].shape"
   ]
  },
  {
   "cell_type": "code",
   "execution_count": 62,
   "metadata": {},
   "outputs": [
    {
     "data": {
      "text/plain": [
       "(24616, 27)"
      ]
     },
     "execution_count": 62,
     "metadata": {},
     "output_type": "execute_result"
    },
    {
     "data": {
      "image/png": "[encoded data removed]",
      "text/plain": [
       "<Figure size 432x288 with 1 Axes>"
      ]
     },
     "metadata": {
      "needs_background": "light"
     },
     "output_type": "display_data"
    }
   ],
   "source": [
    "df.loc[df[pmcd]<10][pmcd].plot.box()\n",
    "df.loc[df[pmcd]<10].shape"
   ]
  },
  {
   "cell_type": "code",
   "execution_count": 74,
   "metadata": {},
   "outputs": [
    {
     "data": {
      "text/plain": [
       "(23922, 27)"
      ]
     },
     "execution_count": 74,
     "metadata": {},
     "output_type": "execute_result"
    },
    {
     "data": {
      "image/png": "[encoded data removed]",
      "text/plain": [
       "<Figure size 432x288 with 1 Axes>"
      ]
     },
     "metadata": {
      "needs_background": "light"
     },
     "output_type": "display_data"
    }
   ],
   "source": [
    "tmp=df.loc[df[mg]<2500]\n",
    "tmp.loc[tmp[mg]>-2500][mg].plot.box()\n",
    "tmp.loc[tmp[mg]>-2500].shape"
   ]
  },
  {
   "cell_type": "code",
   "execution_count": 82,
   "metadata": {},
   "outputs": [
    {
     "data": {
      "text/plain": [
       "(23746, 27)"
      ]
     },
     "execution_count": 82,
     "metadata": {},
     "output_type": "execute_result"
    },
    {
     "data": {
      "image/png": "[encoded data removed]",
      "text/plain": [
       "<Figure size 432x288 with 1 Axes>"
      ]
     },
     "metadata": {
      "needs_background": "light"
     },
     "output_type": "display_data"
    }
   ],
   "source": [
    "tmp=df.loc[df[qg]<3500]\n",
    "tmp.loc[tmp[qg]>-3500][qg].plot.box()\n",
    "tmp.loc[tmp[qg]>-3500].shape"
   ]
  },
  {
   "cell_type": "code",
   "execution_count": 84,
   "metadata": {},
   "outputs": [
    {
     "data": {
      "text/plain": [
       "<matplotlib.axes._subplots.AxesSubplot at 0x7fdcfb293590>"
      ]
     },
     "execution_count": 84,
     "metadata": {},
     "output_type": "execute_result"
    },
    {
     "data": {
      "image/png": "[encoded data removed]",
      "text/plain": [
       "<Figure size 432x288 with 1 Axes>"
      ]
     },
     "metadata": {
      "needs_background": "light"
     },
     "output_type": "display_data"
    }
   ],
   "source": [
    "tmp.loc[tmp[qg]>-3500][qg].plot.hist(bins=50)"
   ]
  },
  {
   "cell_type": "code",
   "execution_count": 89,
   "metadata": {},
   "outputs": [
    {
     "data": {
      "text/plain": [
       "(23766, 27)"
      ]
     },
     "execution_count": 89,
     "metadata": {},
     "output_type": "execute_result"
    },
    {
     "data": {
      "image/png": "[encoded data removed]",
      "text/plain": [
       "<Figure size 432x288 with 1 Axes>"
      ]
     },
     "metadata": {
      "needs_background": "light"
     },
     "output_type": "display_data"
    }
   ],
   "source": [
    "tmp=df.loc[df[gtm]<2500]\n",
    "tmp.loc[tmp[gtm]>-2500][gtm].plot.box()\n",
    "tmp.loc[tmp[gtm]>-2500].shape"
   ]
  },
  {
   "cell_type": "code",
   "execution_count": 90,
   "metadata": {},
   "outputs": [],
   "source": [
    "#gtm,mg,qg are symmetric as a whole but have many outliers"
   ]
  },
  {
   "cell_type": "code",
   "execution_count": 11,
   "metadata": {
    "scrolled": true
   },
   "outputs": [
    {
     "data": {
      "text/html": [
       "<div>\n",
       "<style scoped>\n",
       "    .dataframe tbody tr th:only-of-type {\n",
       "        vertical-align: middle;\n",
       "    }\n",
       "\n",
       "    .dataframe tbody tr th {\n",
       "        vertical-align: top;\n",
       "    }\n",
       "\n",
       "    .dataframe thead th {\n",
       "        text-align: right;\n",
       "    }\n",
       "</style>\n",
       "<table border=\"1\" class=\"dataframe\">\n",
       "  <thead>\n",
       "    <tr style=\"text-align: right;\">\n",
       "      <th></th>\n",
       "      <th>customer_id</th>\n",
       "      <th>vintage</th>\n",
       "      <th>age</th>\n",
       "      <th>gender</th>\n",
       "      <th>dependents</th>\n",
       "      <th>occupation</th>\n",
       "      <th>city</th>\n",
       "      <th>customer_nw_category</th>\n",
       "      <th>branch_code</th>\n",
       "      <th>days_since_last_transaction</th>\n",
       "      <th>...</th>\n",
       "      <th>previous_month_end_balance</th>\n",
       "      <th>average_monthly_balance_prevQ</th>\n",
       "      <th>average_monthly_balance_prevQ2</th>\n",
       "      <th>current_month_credit</th>\n",
       "      <th>previous_month_credit</th>\n",
       "      <th>current_month_debit</th>\n",
       "      <th>previous_month_debit</th>\n",
       "      <th>current_month_balance</th>\n",
       "      <th>previous_month_balance</th>\n",
       "      <th>churn</th>\n",
       "    </tr>\n",
       "  </thead>\n",
       "  <tbody>\n",
       "    <tr>\n",
       "      <th>0</th>\n",
       "      <td>1</td>\n",
       "      <td>3135</td>\n",
       "      <td>66</td>\n",
       "      <td>Male</td>\n",
       "      <td>0.0</td>\n",
       "      <td>self_employed</td>\n",
       "      <td>187.0</td>\n",
       "      <td>2</td>\n",
       "      <td>755</td>\n",
       "      <td>224.0</td>\n",
       "      <td>...</td>\n",
       "      <td>1458.71</td>\n",
       "      <td>1458.71</td>\n",
       "      <td>1449.07</td>\n",
       "      <td>0.20</td>\n",
       "      <td>0.20</td>\n",
       "      <td>0.20</td>\n",
       "      <td>0.20</td>\n",
       "      <td>1458.71</td>\n",
       "      <td>1458.71</td>\n",
       "      <td>0</td>\n",
       "    </tr>\n",
       "    <tr>\n",
       "      <th>1</th>\n",
       "      <td>2</td>\n",
       "      <td>310</td>\n",
       "      <td>35</td>\n",
       "      <td>Male</td>\n",
       "      <td>0.0</td>\n",
       "      <td>self_employed</td>\n",
       "      <td>NaN</td>\n",
       "      <td>2</td>\n",
       "      <td>3214</td>\n",
       "      <td>60.0</td>\n",
       "      <td>...</td>\n",
       "      <td>8704.66</td>\n",
       "      <td>7799.26</td>\n",
       "      <td>12419.41</td>\n",
       "      <td>0.56</td>\n",
       "      <td>0.56</td>\n",
       "      <td>5486.27</td>\n",
       "      <td>100.56</td>\n",
       "      <td>6496.78</td>\n",
       "      <td>8787.61</td>\n",
       "      <td>0</td>\n",
       "    </tr>\n",
       "    <tr>\n",
       "      <th>2</th>\n",
       "      <td>4</td>\n",
       "      <td>2356</td>\n",
       "      <td>31</td>\n",
       "      <td>Male</td>\n",
       "      <td>0.0</td>\n",
       "      <td>salaried</td>\n",
       "      <td>146.0</td>\n",
       "      <td>2</td>\n",
       "      <td>41</td>\n",
       "      <td>NaN</td>\n",
       "      <td>...</td>\n",
       "      <td>5815.29</td>\n",
       "      <td>4910.17</td>\n",
       "      <td>2815.94</td>\n",
       "      <td>0.61</td>\n",
       "      <td>0.61</td>\n",
       "      <td>6046.73</td>\n",
       "      <td>259.23</td>\n",
       "      <td>5006.28</td>\n",
       "      <td>5070.14</td>\n",
       "      <td>0</td>\n",
       "    </tr>\n",
       "    <tr>\n",
       "      <th>3</th>\n",
       "      <td>5</td>\n",
       "      <td>478</td>\n",
       "      <td>90</td>\n",
       "      <td>NaN</td>\n",
       "      <td>NaN</td>\n",
       "      <td>self_employed</td>\n",
       "      <td>1020.0</td>\n",
       "      <td>2</td>\n",
       "      <td>582</td>\n",
       "      <td>147.0</td>\n",
       "      <td>...</td>\n",
       "      <td>2291.91</td>\n",
       "      <td>2084.54</td>\n",
       "      <td>1006.54</td>\n",
       "      <td>0.47</td>\n",
       "      <td>0.47</td>\n",
       "      <td>0.47</td>\n",
       "      <td>2143.33</td>\n",
       "      <td>2291.91</td>\n",
       "      <td>1669.79</td>\n",
       "      <td>1</td>\n",
       "    </tr>\n",
       "    <tr>\n",
       "      <th>4</th>\n",
       "      <td>6</td>\n",
       "      <td>2531</td>\n",
       "      <td>42</td>\n",
       "      <td>Male</td>\n",
       "      <td>2.0</td>\n",
       "      <td>self_employed</td>\n",
       "      <td>1494.0</td>\n",
       "      <td>3</td>\n",
       "      <td>388</td>\n",
       "      <td>58.0</td>\n",
       "      <td>...</td>\n",
       "      <td>1401.72</td>\n",
       "      <td>1643.31</td>\n",
       "      <td>1871.12</td>\n",
       "      <td>0.33</td>\n",
       "      <td>714.61</td>\n",
       "      <td>588.62</td>\n",
       "      <td>1538.06</td>\n",
       "      <td>1157.15</td>\n",
       "      <td>1677.16</td>\n",
       "      <td>1</td>\n",
       "    </tr>\n",
       "    <tr>\n",
       "      <th>...</th>\n",
       "      <td>...</td>\n",
       "      <td>...</td>\n",
       "      <td>...</td>\n",
       "      <td>...</td>\n",
       "      <td>...</td>\n",
       "      <td>...</td>\n",
       "      <td>...</td>\n",
       "      <td>...</td>\n",
       "      <td>...</td>\n",
       "      <td>...</td>\n",
       "      <td>...</td>\n",
       "      <td>...</td>\n",
       "      <td>...</td>\n",
       "      <td>...</td>\n",
       "      <td>...</td>\n",
       "      <td>...</td>\n",
       "      <td>...</td>\n",
       "      <td>...</td>\n",
       "      <td>...</td>\n",
       "      <td>...</td>\n",
       "      <td>...</td>\n",
       "    </tr>\n",
       "    <tr>\n",
       "      <th>28376</th>\n",
       "      <td>30296</td>\n",
       "      <td>2155</td>\n",
       "      <td>85</td>\n",
       "      <td>Male</td>\n",
       "      <td>0.0</td>\n",
       "      <td>retired</td>\n",
       "      <td>1589.0</td>\n",
       "      <td>2</td>\n",
       "      <td>389</td>\n",
       "      <td>NaN</td>\n",
       "      <td>...</td>\n",
       "      <td>1741.50</td>\n",
       "      <td>1741.50</td>\n",
       "      <td>1730.46</td>\n",
       "      <td>0.04</td>\n",
       "      <td>0.04</td>\n",
       "      <td>0.04</td>\n",
       "      <td>0.04</td>\n",
       "      <td>1741.50</td>\n",
       "      <td>1741.50</td>\n",
       "      <td>0</td>\n",
       "    </tr>\n",
       "    <tr>\n",
       "      <th>28377</th>\n",
       "      <td>30297</td>\n",
       "      <td>1845</td>\n",
       "      <td>10</td>\n",
       "      <td>Female</td>\n",
       "      <td>0.0</td>\n",
       "      <td>student</td>\n",
       "      <td>1020.0</td>\n",
       "      <td>2</td>\n",
       "      <td>1207</td>\n",
       "      <td>70.0</td>\n",
       "      <td>...</td>\n",
       "      <td>1076.43</td>\n",
       "      <td>2282.19</td>\n",
       "      <td>2787.70</td>\n",
       "      <td>0.30</td>\n",
       "      <td>0.30</td>\n",
       "      <td>0.30</td>\n",
       "      <td>0.30</td>\n",
       "      <td>1076.43</td>\n",
       "      <td>1076.43</td>\n",
       "      <td>0</td>\n",
       "    </tr>\n",
       "    <tr>\n",
       "      <th>28378</th>\n",
       "      <td>30298</td>\n",
       "      <td>4919</td>\n",
       "      <td>34</td>\n",
       "      <td>Female</td>\n",
       "      <td>0.0</td>\n",
       "      <td>self_employed</td>\n",
       "      <td>1046.0</td>\n",
       "      <td>2</td>\n",
       "      <td>223</td>\n",
       "      <td>14.0</td>\n",
       "      <td>...</td>\n",
       "      <td>4069.21</td>\n",
       "      <td>3668.83</td>\n",
       "      <td>3865.55</td>\n",
       "      <td>1.71</td>\n",
       "      <td>2.29</td>\n",
       "      <td>901.00</td>\n",
       "      <td>1014.07</td>\n",
       "      <td>3738.54</td>\n",
       "      <td>3690.32</td>\n",
       "      <td>0</td>\n",
       "    </tr>\n",
       "    <tr>\n",
       "      <th>28380</th>\n",
       "      <td>30300</td>\n",
       "      <td>2585</td>\n",
       "      <td>50</td>\n",
       "      <td>Male</td>\n",
       "      <td>3.0</td>\n",
       "      <td>self_employed</td>\n",
       "      <td>1219.0</td>\n",
       "      <td>3</td>\n",
       "      <td>274</td>\n",
       "      <td>NaN</td>\n",
       "      <td>...</td>\n",
       "      <td>1625.55</td>\n",
       "      <td>1683.20</td>\n",
       "      <td>1857.42</td>\n",
       "      <td>0.20</td>\n",
       "      <td>0.20</td>\n",
       "      <td>0.20</td>\n",
       "      <td>0.20</td>\n",
       "      <td>1625.55</td>\n",
       "      <td>1625.55</td>\n",
       "      <td>0</td>\n",
       "    </tr>\n",
       "    <tr>\n",
       "      <th>28381</th>\n",
       "      <td>30301</td>\n",
       "      <td>2349</td>\n",
       "      <td>18</td>\n",
       "      <td>Male</td>\n",
       "      <td>0.0</td>\n",
       "      <td>student</td>\n",
       "      <td>1232.0</td>\n",
       "      <td>2</td>\n",
       "      <td>474</td>\n",
       "      <td>59.0</td>\n",
       "      <td>...</td>\n",
       "      <td>2821.34</td>\n",
       "      <td>3213.44</td>\n",
       "      <td>4447.45</td>\n",
       "      <td>0.11</td>\n",
       "      <td>7.44</td>\n",
       "      <td>714.40</td>\n",
       "      <td>1094.09</td>\n",
       "      <td>2402.62</td>\n",
       "      <td>3260.58</td>\n",
       "      <td>1</td>\n",
       "    </tr>\n",
       "  </tbody>\n",
       "</table>\n",
       "<p>23531 rows × 21 columns</p>\n",
       "</div>"
      ],
      "text/plain": [
       "       customer_id  vintage  age  gender  dependents     occupation    city  \\\n",
       "0                1     3135   66    Male         0.0  self_employed   187.0   \n",
       "1                2      310   35    Male         0.0  self_employed     NaN   \n",
       "2                4     2356   31    Male         0.0       salaried   146.0   \n",
       "3                5      478   90     NaN         NaN  self_employed  1020.0   \n",
       "4                6     2531   42    Male         2.0  self_employed  1494.0   \n",
       "...            ...      ...  ...     ...         ...            ...     ...   \n",
       "28376        30296     2155   85    Male         0.0        retired  1589.0   \n",
       "28377        30297     1845   10  Female         0.0        student  1020.0   \n",
       "28378        30298     4919   34  Female         0.0  self_employed  1046.0   \n",
       "28380        30300     2585   50    Male         3.0  self_employed  1219.0   \n",
       "28381        30301     2349   18    Male         0.0        student  1232.0   \n",
       "\n",
       "       customer_nw_category  branch_code  days_since_last_transaction  ...  \\\n",
       "0                         2          755                        224.0  ...   \n",
       "1                         2         3214                         60.0  ...   \n",
       "2                         2           41                          NaN  ...   \n",
       "3                         2          582                        147.0  ...   \n",
       "4                         3          388                         58.0  ...   \n",
       "...                     ...          ...                          ...  ...   \n",
       "28376                     2          389                          NaN  ...   \n",
       "28377                     2         1207                         70.0  ...   \n",
       "28378                     2          223                         14.0  ...   \n",
       "28380                     3          274                          NaN  ...   \n",
       "28381                     2          474                         59.0  ...   \n",
       "\n",
       "       previous_month_end_balance  average_monthly_balance_prevQ  \\\n",
       "0                         1458.71                        1458.71   \n",
       "1                         8704.66                        7799.26   \n",
       "2                         5815.29                        4910.17   \n",
       "3                         2291.91                        2084.54   \n",
       "4                         1401.72                        1643.31   \n",
       "...                           ...                            ...   \n",
       "28376                     1741.50                        1741.50   \n",
       "28377                     1076.43                        2282.19   \n",
       "28378                     4069.21                        3668.83   \n",
       "28380                     1625.55                        1683.20   \n",
       "28381                     2821.34                        3213.44   \n",
       "\n",
       "       average_monthly_balance_prevQ2  current_month_credit  \\\n",
       "0                             1449.07                  0.20   \n",
       "1                            12419.41                  0.56   \n",
       "2                             2815.94                  0.61   \n",
       "3                             1006.54                  0.47   \n",
       "4                             1871.12                  0.33   \n",
       "...                               ...                   ...   \n",
       "28376                         1730.46                  0.04   \n",
       "28377                         2787.70                  0.30   \n",
       "28378                         3865.55                  1.71   \n",
       "28380                         1857.42                  0.20   \n",
       "28381                         4447.45                  0.11   \n",
       "\n",
       "       previous_month_credit  current_month_debit  previous_month_debit  \\\n",
       "0                       0.20                 0.20                  0.20   \n",
       "1                       0.56              5486.27                100.56   \n",
       "2                       0.61              6046.73                259.23   \n",
       "3                       0.47                 0.47               2143.33   \n",
       "4                     714.61               588.62               1538.06   \n",
       "...                      ...                  ...                   ...   \n",
       "28376                   0.04                 0.04                  0.04   \n",
       "28377                   0.30                 0.30                  0.30   \n",
       "28378                   2.29               901.00               1014.07   \n",
       "28380                   0.20                 0.20                  0.20   \n",
       "28381                   7.44               714.40               1094.09   \n",
       "\n",
       "       current_month_balance  previous_month_balance  churn  \n",
       "0                    1458.71                 1458.71      0  \n",
       "1                    6496.78                 8787.61      0  \n",
       "2                    5006.28                 5070.14      0  \n",
       "3                    2291.91                 1669.79      1  \n",
       "4                    1157.15                 1677.16      1  \n",
       "...                      ...                     ...    ...  \n",
       "28376                1741.50                 1741.50      0  \n",
       "28377                1076.43                 1076.43      0  \n",
       "28378                3738.54                 3690.32      0  \n",
       "28380                1625.55                 1625.55      0  \n",
       "28381                2402.62                 3260.58      1  \n",
       "\n",
       "[23531 rows x 21 columns]"
      ]
     },
     "execution_count": 11,
     "metadata": {},
     "output_type": "execute_result"
    }
   ],
   "source": [
    "#Now,get rid of outliers using all factors\n",
    "l=[(cb,12000),(pmeb,12000),(cmc,12000),(ambpq,12000)]\n",
    "for i in l:\n",
    "    df=df.loc[df[i[0]]<i[1]]\n",
    "df"
   ]
  },
  {
   "cell_type": "code",
   "execution_count": 106,
   "metadata": {},
   "outputs": [
    {
     "data": {
      "text/plain": [
       "<matplotlib.axes._subplots.AxesSubplot at 0x7fdcfb76a8d0>"
      ]
     },
     "execution_count": 106,
     "metadata": {},
     "output_type": "execute_result"
    },
    {
     "data": {
      "image/png": "[encoded data removed]",
      "text/plain": [
       "<Figure size 432x288 with 1 Axes>"
      ]
     },
     "metadata": {
      "needs_background": "light"
     },
     "output_type": "display_data"
    }
   ],
   "source": [
    "df[ambpq2].plot.box()"
   ]
  },
  {
   "cell_type": "code",
   "execution_count": 49,
   "metadata": {},
   "outputs": [
    {
     "data": {
      "text/plain": [
       "2016"
      ]
     },
     "execution_count": 49,
     "metadata": {},
     "output_type": "execute_result"
    }
   ],
   "source": [
    "#City variable\n",
    "count=df['city'].value_counts()\n",
    "df['city'][5]\n",
    "count[df['city'][5]]"
   ]
  },
  {
   "cell_type": "code",
   "execution_count": 65,
   "metadata": {},
   "outputs": [],
   "source": [
    "for i in range(len(df)):\n",
    "    if count[df['city'][i]]<100:\n",
    "        df['city'][i]=0\n",
    "    elif count[df['city'][i]]<200:\n",
    "        df['city'][i]=1\n",
    "    elif count[df['city'][i]]<300:\n",
    "        df['city'][i]=2\n",
    "    elif count[df['city'][i]]<400:\n",
    "        df['city'][i]=3\n",
    "    elif count[df['city'][i]]<800:\n",
    "        df['city'][i]=4\n",
    "    elif count[df['city'][i]]<1000:\n",
    "        df['city'][i]=5"
   ]
  },
  {
   "cell_type": "code",
   "execution_count": 66,
   "metadata": {
    "scrolled": true
   },
   "outputs": [
    {
     "data": {
      "text/plain": [
       "0.0       9576\n",
       "1020.0    3479\n",
       "5.0       2589\n",
       "4.0       2078\n",
       "1096.0    2016\n",
       "2.0       1770\n",
       "1.0       1767\n",
       "3.0       1344\n",
       "409.0     1334\n",
       "146.0     1291\n",
       "834.0     1138\n",
       "Name: city, dtype: int64"
      ]
     },
     "execution_count": 66,
     "metadata": {},
     "output_type": "execute_result"
    }
   ],
   "source": [
    "df['city'].value_counts()"
   ]
  },
  {
   "cell_type": "code",
   "execution_count": 80,
   "metadata": {},
   "outputs": [
    {
     "data": {
      "text/plain": [
       "<matplotlib.axes._subplots.AxesSubplot at 0x7fd852d5c5d0>"
      ]
     },
     "execution_count": 80,
     "metadata": {},
     "output_type": "execute_result"
    },
    {
     "data": {
      "image/png": "[encoded data removed]",
      "text/plain": [
       "<Figure size 432x288 with 1 Axes>"
      ]
     },
     "metadata": {
      "needs_background": "light"
     },
     "output_type": "display_data"
    }
   ],
   "source": [
    "df=df.astype({'city':'object'})\n",
    "df['city']=df['city'].replace({0:'Group0',1:'Group1',2:'Group2',3:'Group3',4:'Group4',5:'Group5',\n",
    "                              146:'City1',409:'City2',834:'City3',1020:'City4',1096:'City5'})\n",
    "df['city'].value_counts().plot.bar()"
   ]
  },
  {
   "cell_type": "code",
   "execution_count": 83,
   "metadata": {},
   "outputs": [
    {
     "name": "stdout",
     "output_type": "stream",
     "text": [
      "Analysis of  Class 0 \n",
      "\n",
      "0    80.179616\n",
      "1    19.820384\n",
      "Name: churn, dtype: float64 \n",
      "\n",
      "Analysis of  Group1 \n",
      "\n",
      "0    82.116582\n",
      "1    17.883418\n",
      "Name: churn, dtype: float64 \n",
      "\n",
      "Analysis of  Group2 \n",
      "\n",
      "0    81.694915\n",
      "1    18.305085\n",
      "Name: churn, dtype: float64 \n",
      "\n",
      "Analysis of  Group3 \n",
      "\n",
      "0    83.407738\n",
      "1    16.592262\n",
      "Name: churn, dtype: float64 \n",
      "\n",
      "Analysis of  Group 4 \n",
      "\n",
      "0    80.413859\n",
      "1    19.586141\n",
      "Name: churn, dtype: float64 \n",
      "\n",
      "Analysis of  Group5 \n",
      "\n",
      "0    80.726149\n",
      "1    19.273851\n",
      "Name: churn, dtype: float64 \n",
      "\n",
      "Analysis of  City1 \n",
      "\n",
      "0    82.649109\n",
      "1    17.350891\n",
      "Name: churn, dtype: float64 \n",
      "\n",
      "Analysis of  City2 \n",
      "\n",
      "0    83.208396\n",
      "1    16.791604\n",
      "Name: churn, dtype: float64 \n",
      "\n",
      "Analysis of  City3 \n",
      "\n",
      "0    81.72232\n",
      "1    18.27768\n",
      "Name: churn, dtype: float64 \n",
      "\n",
      "Analysis of  City4 \n",
      "\n",
      "0    82.466226\n",
      "1    17.533774\n",
      "Name: churn, dtype: float64 \n",
      "\n",
      "Analysis of  City5 \n",
      "\n",
      "0    83.779762\n",
      "1    16.220238\n",
      "Name: churn, dtype: float64 \n",
      "\n"
     ]
    }
   ],
   "source": [
    "l=['Class 0','Group1','Group2','Group3','Group 4','Group5','City1','City2','City3','City4','City5']\n",
    "for i in l:\n",
    "    print('Analysis of ',i,'\\n')\n",
    "    print(df[df['city']==i]['churn'].value_counts()/len(df[df['city']==i])*100,'\\n')"
   ]
  },
  {
   "cell_type": "code",
   "execution_count": 5,
   "metadata": {},
   "outputs": [
    {
     "data": {
      "text/html": [
       "<div>\n",
       "<style scoped>\n",
       "    .dataframe tbody tr th:only-of-type {\n",
       "        vertical-align: middle;\n",
       "    }\n",
       "\n",
       "    .dataframe tbody tr th {\n",
       "        vertical-align: top;\n",
       "    }\n",
       "\n",
       "    .dataframe thead th {\n",
       "        text-align: right;\n",
       "    }\n",
       "</style>\n",
       "<table border=\"1\" class=\"dataframe\">\n",
       "  <thead>\n",
       "    <tr style=\"text-align: right;\">\n",
       "      <th></th>\n",
       "      <th>avg_credit</th>\n",
       "      <th>avg_debit</th>\n",
       "      <th>avg_quartile_balance</th>\n",
       "      <th>avg_monthly_balance</th>\n",
       "    </tr>\n",
       "  </thead>\n",
       "  <tbody>\n",
       "    <tr>\n",
       "      <th>0</th>\n",
       "      <td>0.200</td>\n",
       "      <td>0.200</td>\n",
       "      <td>1453.890</td>\n",
       "      <td>1458.7100</td>\n",
       "    </tr>\n",
       "    <tr>\n",
       "      <th>1</th>\n",
       "      <td>0.560</td>\n",
       "      <td>2793.415</td>\n",
       "      <td>10109.335</td>\n",
       "      <td>7344.8550</td>\n",
       "    </tr>\n",
       "    <tr>\n",
       "      <th>2</th>\n",
       "      <td>0.610</td>\n",
       "      <td>3152.980</td>\n",
       "      <td>3863.055</td>\n",
       "      <td>4951.2175</td>\n",
       "    </tr>\n",
       "    <tr>\n",
       "      <th>3</th>\n",
       "      <td>0.470</td>\n",
       "      <td>1071.900</td>\n",
       "      <td>1545.540</td>\n",
       "      <td>2136.3800</td>\n",
       "    </tr>\n",
       "    <tr>\n",
       "      <th>4</th>\n",
       "      <td>357.470</td>\n",
       "      <td>1063.340</td>\n",
       "      <td>1757.215</td>\n",
       "      <td>1290.9375</td>\n",
       "    </tr>\n",
       "    <tr>\n",
       "      <th>...</th>\n",
       "      <td>...</td>\n",
       "      <td>...</td>\n",
       "      <td>...</td>\n",
       "      <td>...</td>\n",
       "    </tr>\n",
       "    <tr>\n",
       "      <th>28377</th>\n",
       "      <td>0.300</td>\n",
       "      <td>0.300</td>\n",
       "      <td>2534.945</td>\n",
       "      <td>1076.4300</td>\n",
       "    </tr>\n",
       "    <tr>\n",
       "      <th>28378</th>\n",
       "      <td>2.000</td>\n",
       "      <td>957.535</td>\n",
       "      <td>3767.190</td>\n",
       "      <td>3835.5425</td>\n",
       "    </tr>\n",
       "    <tr>\n",
       "      <th>28379</th>\n",
       "      <td>4274.950</td>\n",
       "      <td>120.015</td>\n",
       "      <td>37685.310</td>\n",
       "      <td>61293.0650</td>\n",
       "    </tr>\n",
       "    <tr>\n",
       "      <th>28380</th>\n",
       "      <td>0.200</td>\n",
       "      <td>0.200</td>\n",
       "      <td>1770.310</td>\n",
       "      <td>1625.5500</td>\n",
       "    </tr>\n",
       "    <tr>\n",
       "      <th>28381</th>\n",
       "      <td>3.775</td>\n",
       "      <td>904.245</td>\n",
       "      <td>3830.445</td>\n",
       "      <td>2647.8975</td>\n",
       "    </tr>\n",
       "  </tbody>\n",
       "</table>\n",
       "<p>28382 rows × 4 columns</p>\n",
       "</div>"
      ],
      "text/plain": [
       "       avg_credit  avg_debit  avg_quartile_balance  avg_monthly_balance\n",
       "0           0.200      0.200              1453.890            1458.7100\n",
       "1           0.560   2793.415             10109.335            7344.8550\n",
       "2           0.610   3152.980              3863.055            4951.2175\n",
       "3           0.470   1071.900              1545.540            2136.3800\n",
       "4         357.470   1063.340              1757.215            1290.9375\n",
       "...           ...        ...                   ...                  ...\n",
       "28377       0.300      0.300              2534.945            1076.4300\n",
       "28378       2.000    957.535              3767.190            3835.5425\n",
       "28379    4274.950    120.015             37685.310           61293.0650\n",
       "28380       0.200      0.200              1770.310            1625.5500\n",
       "28381       3.775    904.245              3830.445            2647.8975\n",
       "\n",
       "[28382 rows x 4 columns]"
      ]
     },
     "execution_count": 5,
     "metadata": {},
     "output_type": "execute_result"
    }
   ],
   "source": [
    "#Checking out new categorical variables\n",
    "df['avg_credit']=(df[cmc]+df[pmc])/2\n",
    "df['avg_debit']=(df[cmd]+df[pmd])/2\n",
    "df['avg_quartile_balance']=(df[ambpq]+df[ambpq2])/2\n",
    "df['avg_monthly_balance']=(df[cmb]+df[pmb]+df[pmeb]+df[cb])/4\n",
    "df[['avg_credit','avg_debit','avg_quartile_balance','avg_monthly_balance']]"
   ]
  },
  {
   "cell_type": "code",
   "execution_count": 35,
   "metadata": {},
   "outputs": [
    {
     "data": {
      "text/plain": [
       "5355229.835"
      ]
     },
     "execution_count": 35,
     "metadata": {},
     "output_type": "execute_result"
    },
    {
     "data": {
      "image/png": "[encoded data removed]",
      "text/plain": [
       "<Figure size 432x288 with 1 Axes>"
      ]
     },
     "metadata": {
      "needs_background": "light"
     },
     "output_type": "display_data"
    }
   ],
   "source": [
    "df.loc[df[aqb]<20000][aqb].plot.hist(bins=20)\n",
    "df.loc[df[aqb]<10000].shape\n",
    "df[aqb].max()"
   ]
  },
  {
   "cell_type": "code",
   "execution_count": 53,
   "metadata": {},
   "outputs": [
    {
     "data": {
      "text/plain": [
       "Low                12225\n",
       "Dangerously Low     6206\n",
       "Satisfactory        5870\n",
       "High                4081\n",
       "Name: prev_quartile_balance_category, dtype: int64"
      ]
     },
     "execution_count": 53,
     "metadata": {},
     "output_type": "execute_result"
    }
   ],
   "source": [
    "bin=[-10000,2000,5000,10000,6000000]\n",
    "label=['Dangerously Low','Low','Satisfactory','High']\n",
    "df['prev_quartile_balance_category']=pd.cut(df[aqb],bins=bin,labels=label)\n",
    "df['prev_quartile_balance_category'].value_counts()"
   ]
  },
  {
   "cell_type": "code",
   "execution_count": 51,
   "metadata": {},
   "outputs": [
    {
     "data": {
      "text/plain": [
       "Good               7096\n",
       "Dangerously Low    7096\n",
       "Satisfactory       7095\n",
       "Low                7095\n",
       "Name: avg_monthly_balance_category, dtype: int64"
      ]
     },
     "execution_count": 51,
     "metadata": {},
     "output_type": "execute_result"
    }
   ],
   "source": [
    "label=['Dangerously Low','Low','Satisfactory','Good']\n",
    "df['avg_monthly_balance_category']=pd.qcut(df[amb],q=4,precision=0,labels=label)\n",
    "df['avg_monthly_balance_category'].value_counts()"
   ]
  },
  {
   "cell_type": "code",
   "execution_count": 57,
   "metadata": {},
   "outputs": [
    {
     "data": {
      "text/html": [
       "<div>\n",
       "<style scoped>\n",
       "    .dataframe tbody tr th:only-of-type {\n",
       "        vertical-align: middle;\n",
       "    }\n",
       "\n",
       "    .dataframe tbody tr th {\n",
       "        vertical-align: top;\n",
       "    }\n",
       "\n",
       "    .dataframe thead th {\n",
       "        text-align: right;\n",
       "    }\n",
       "</style>\n",
       "<table border=\"1\" class=\"dataframe\">\n",
       "  <thead>\n",
       "    <tr style=\"text-align: right;\">\n",
       "      <th>churn</th>\n",
       "      <th>0</th>\n",
       "      <th>1</th>\n",
       "    </tr>\n",
       "    <tr>\n",
       "      <th>prev_quartile_balance_category</th>\n",
       "      <th></th>\n",
       "      <th></th>\n",
       "    </tr>\n",
       "  </thead>\n",
       "  <tbody>\n",
       "    <tr>\n",
       "      <th>Dangerously Low</th>\n",
       "      <td>4986</td>\n",
       "      <td>1220</td>\n",
       "    </tr>\n",
       "    <tr>\n",
       "      <th>Low</th>\n",
       "      <td>10162</td>\n",
       "      <td>2063</td>\n",
       "    </tr>\n",
       "    <tr>\n",
       "      <th>Satisfactory</th>\n",
       "      <td>4771</td>\n",
       "      <td>1099</td>\n",
       "    </tr>\n",
       "    <tr>\n",
       "      <th>High</th>\n",
       "      <td>3203</td>\n",
       "      <td>878</td>\n",
       "    </tr>\n",
       "  </tbody>\n",
       "</table>\n",
       "</div>"
      ],
      "text/plain": [
       "churn                               0     1\n",
       "prev_quartile_balance_category             \n",
       "Dangerously Low                  4986  1220\n",
       "Low                             10162  2063\n",
       "Satisfactory                     4771  1099\n",
       "High                             3203   878"
      ]
     },
     "execution_count": 57,
     "metadata": {},
     "output_type": "execute_result"
    }
   ],
   "source": [
    "pd.crosstab(df['prev_quartile_balance_category'],df['churn'])"
   ]
  },
  {
   "cell_type": "code",
   "execution_count": 52,
   "metadata": {
    "scrolled": true
   },
   "outputs": [
    {
     "data": {
      "text/html": [
       "<div>\n",
       "<style scoped>\n",
       "    .dataframe tbody tr th:only-of-type {\n",
       "        vertical-align: middle;\n",
       "    }\n",
       "\n",
       "    .dataframe tbody tr th {\n",
       "        vertical-align: top;\n",
       "    }\n",
       "\n",
       "    .dataframe thead th {\n",
       "        text-align: right;\n",
       "    }\n",
       "</style>\n",
       "<table border=\"1\" class=\"dataframe\">\n",
       "  <thead>\n",
       "    <tr style=\"text-align: right;\">\n",
       "      <th>churn</th>\n",
       "      <th>0</th>\n",
       "      <th>1</th>\n",
       "    </tr>\n",
       "    <tr>\n",
       "      <th>avg_monthly_balance_category</th>\n",
       "      <th></th>\n",
       "      <th></th>\n",
       "    </tr>\n",
       "  </thead>\n",
       "  <tbody>\n",
       "    <tr>\n",
       "      <th>Dangerously Low</th>\n",
       "      <td>5210</td>\n",
       "      <td>1886</td>\n",
       "    </tr>\n",
       "    <tr>\n",
       "      <th>Low</th>\n",
       "      <td>6023</td>\n",
       "      <td>1072</td>\n",
       "    </tr>\n",
       "    <tr>\n",
       "      <th>Satisfactory</th>\n",
       "      <td>5991</td>\n",
       "      <td>1104</td>\n",
       "    </tr>\n",
       "    <tr>\n",
       "      <th>Good</th>\n",
       "      <td>5898</td>\n",
       "      <td>1198</td>\n",
       "    </tr>\n",
       "  </tbody>\n",
       "</table>\n",
       "</div>"
      ],
      "text/plain": [
       "churn                            0     1\n",
       "avg_monthly_balance_category            \n",
       "Dangerously Low               5210  1886\n",
       "Low                           6023  1072\n",
       "Satisfactory                  5991  1104\n",
       "Good                          5898  1198"
      ]
     },
     "execution_count": 52,
     "metadata": {},
     "output_type": "execute_result"
    }
   ],
   "source": [
    "pd.crosstab(df['avg_monthly_balance_category'],df['churn'])"
   ]
  },
  {
   "cell_type": "code",
   "execution_count": 81,
   "metadata": {},
   "outputs": [
    {
     "data": {
      "text/html": [
       "<div>\n",
       "<style scoped>\n",
       "    .dataframe tbody tr th:only-of-type {\n",
       "        vertical-align: middle;\n",
       "    }\n",
       "\n",
       "    .dataframe tbody tr th {\n",
       "        vertical-align: top;\n",
       "    }\n",
       "\n",
       "    .dataframe thead th {\n",
       "        text-align: right;\n",
       "    }\n",
       "</style>\n",
       "<table border=\"1\" class=\"dataframe\">\n",
       "  <thead>\n",
       "    <tr style=\"text-align: right;\">\n",
       "      <th></th>\n",
       "      <th>previous_month_net_gain_ratio</th>\n",
       "      <th>current_month_net_gain_ratio</th>\n",
       "    </tr>\n",
       "  </thead>\n",
       "  <tbody>\n",
       "    <tr>\n",
       "      <th>0</th>\n",
       "      <td>0.000000</td>\n",
       "      <td>0.000000</td>\n",
       "    </tr>\n",
       "    <tr>\n",
       "      <th>1</th>\n",
       "      <td>-0.612875</td>\n",
       "      <td>0.844374</td>\n",
       "    </tr>\n",
       "    <tr>\n",
       "      <th>2</th>\n",
       "      <td>-1.141487</td>\n",
       "      <td>1.207707</td>\n",
       "    </tr>\n",
       "    <tr>\n",
       "      <th>3</th>\n",
       "      <td>1.283311</td>\n",
       "      <td>0.000000</td>\n",
       "    </tr>\n",
       "    <tr>\n",
       "      <th>4</th>\n",
       "      <td>0.566100</td>\n",
       "      <td>0.508396</td>\n",
       "    </tr>\n",
       "    <tr>\n",
       "      <th>...</th>\n",
       "      <td>...</td>\n",
       "      <td>...</td>\n",
       "    </tr>\n",
       "    <tr>\n",
       "      <th>28377</th>\n",
       "      <td>0.000000</td>\n",
       "      <td>0.000000</td>\n",
       "    </tr>\n",
       "    <tr>\n",
       "      <th>28378</th>\n",
       "      <td>0.030640</td>\n",
       "      <td>0.240546</td>\n",
       "    </tr>\n",
       "    <tr>\n",
       "      <th>28379</th>\n",
       "      <td>-0.001675</td>\n",
       "      <td>-0.073653</td>\n",
       "    </tr>\n",
       "    <tr>\n",
       "      <th>28380</th>\n",
       "      <td>0.000000</td>\n",
       "      <td>0.000000</td>\n",
       "    </tr>\n",
       "    <tr>\n",
       "      <th>28381</th>\n",
       "      <td>0.116449</td>\n",
       "      <td>0.297296</td>\n",
       "    </tr>\n",
       "  </tbody>\n",
       "</table>\n",
       "<p>28382 rows × 2 columns</p>\n",
       "</div>"
      ],
      "text/plain": [
       "       previous_month_net_gain_ratio  current_month_net_gain_ratio\n",
       "0                           0.000000                      0.000000\n",
       "1                          -0.612875                      0.844374\n",
       "2                          -1.141487                      1.207707\n",
       "3                           1.283311                      0.000000\n",
       "4                           0.566100                      0.508396\n",
       "...                              ...                           ...\n",
       "28377                       0.000000                      0.000000\n",
       "28378                       0.030640                      0.240546\n",
       "28379                      -0.001675                     -0.073653\n",
       "28380                       0.000000                      0.000000\n",
       "28381                       0.116449                      0.297296\n",
       "\n",
       "[28382 rows x 2 columns]"
      ]
     },
     "execution_count": 81,
     "metadata": {},
     "output_type": "execute_result"
    }
   ],
   "source": [
    "df['current_month_net_gain_ratio']=(df[cmd]-df[cmc])/df[cmb]\n",
    "df['previous_month_net_gain_ratio']=(df[pmd]-df[cmd])/df[pmb]\n",
    "df[['previous_month_net_gain_ratio','current_month_net_gain_ratio']]"
   ]
  },
  {
   "cell_type": "code",
   "execution_count": 71,
   "metadata": {},
   "outputs": [
    {
     "data": {
      "text/plain": [
       "(26676, 31)"
      ]
     },
     "execution_count": 71,
     "metadata": {},
     "output_type": "execute_result"
    },
    {
     "data": {
      "image/png": "[encoded data removed]",
      "text/plain": [
       "<Figure size 432x288 with 1 Axes>"
      ]
     },
     "metadata": {
      "needs_background": "light"
     },
     "output_type": "display_data"
    }
   ],
   "source": [
    "tmp=df.loc[df[cmngr]<2]\n",
    "tmp.loc[tmp[cmngr]>-2][cmngr].plot.hist(bins=50)\n",
    "tmp.loc[tmp[cmngr]>-2].shape"
   ]
  },
  {
   "cell_type": "code",
   "execution_count": 73,
   "metadata": {},
   "outputs": [
    {
     "data": {
      "text/plain": [
       "(26617, 31)"
      ]
     },
     "execution_count": 73,
     "metadata": {},
     "output_type": "execute_result"
    },
    {
     "data": {
      "image/png": "[encoded data removed]",
      "text/plain": [
       "<Figure size 432x288 with 1 Axes>"
      ]
     },
     "metadata": {
      "needs_background": "light"
     },
     "output_type": "display_data"
    }
   ],
   "source": [
    "tmp=df.loc[df[pmngr]<3]\n",
    "tmp.loc[tmp[pmngr]>-3][pmngr].plot.hist(bins=50)\n",
    "tmp.loc[tmp[pmngr]>-3].shape"
   ]
  },
  {
   "cell_type": "code",
   "execution_count": null,
   "metadata": {},
   "outputs": [],
   "source": []
  }
 ],
 "metadata": {
  "kernelspec": {
   "display_name": "Python 3",
   "language": "python",
   "name": "python3"
  },
  "language_info": {
   "codemirror_mode": {
    "name": "ipython",
    "version": 3
   },
   "file_extension": ".py",
   "mimetype": "text/x-python",
   "name": "python",
   "nbconvert_exporter": "python",
   "pygments_lexer": "ipython3",
   "version": "3.7.6"
  }
 },
 "nbformat": 4,
 "nbformat_minor": 4
}
