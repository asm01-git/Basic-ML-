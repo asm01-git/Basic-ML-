{
 "cells": [
  {
   "cell_type": "code",
   "execution_count": 1,
   "metadata": {},
   "outputs": [],
   "source": [
    "import pandas as pd\n",
    "import matplotlib.pyplot as plt\n",
    "import numpy as np"
   ]
  },
  {
   "cell_type": "code",
   "execution_count": 225,
   "metadata": {},
   "outputs": [],
   "source": [
    "df=pd.read_csv('churn_prediction.csv')"
   ]
  },
  {
   "cell_type": "code",
   "execution_count": 309,
   "metadata": {},
   "outputs": [],
   "source": [
    "networth='customer_nw_category'\n",
    "dslt='days_since_last_transaction'\n",
    "pmeb='previous_month_end_balance'\n",
    "ambpq='average_monthly_balance_prevQ'\n",
    "ambpq2='average_monthly_balance_prevQ2'\n",
    "cmc='current_month_credit'\n",
    "pmc='previous_month_credit'\n",
    "cmd='current_month_debit'\n",
    "pmd='previous_month_debit'\n",
    "cmb='current_month_balance'\n",
    "pmb='previous_month_balance'"
   ]
  },
  {
   "cell_type": "code",
   "execution_count": 3,
   "metadata": {
    "scrolled": false
   },
   "outputs": [
    {
     "data": {
      "text/html": [
       "<div>\n",
       "<style scoped>\n",
       "    .dataframe tbody tr th:only-of-type {\n",
       "        vertical-align: middle;\n",
       "    }\n",
       "\n",
       "    .dataframe tbody tr th {\n",
       "        vertical-align: top;\n",
       "    }\n",
       "\n",
       "    .dataframe thead th {\n",
       "        text-align: right;\n",
       "    }\n",
       "</style>\n",
       "<table border=\"1\" class=\"dataframe\">\n",
       "  <thead>\n",
       "    <tr style=\"text-align: right;\">\n",
       "      <th></th>\n",
       "      <th>customer_id</th>\n",
       "      <th>vintage</th>\n",
       "      <th>age</th>\n",
       "      <th>gender</th>\n",
       "      <th>dependents</th>\n",
       "      <th>occupation</th>\n",
       "      <th>city</th>\n",
       "      <th>customer_nw_category</th>\n",
       "      <th>branch_code</th>\n",
       "      <th>days_since_last_transaction</th>\n",
       "      <th>...</th>\n",
       "      <th>previous_month_end_balance</th>\n",
       "      <th>average_monthly_balance_prevQ</th>\n",
       "      <th>average_monthly_balance_prevQ2</th>\n",
       "      <th>current_month_credit</th>\n",
       "      <th>previous_month_credit</th>\n",
       "      <th>current_month_debit</th>\n",
       "      <th>previous_month_debit</th>\n",
       "      <th>current_month_balance</th>\n",
       "      <th>previous_month_balance</th>\n",
       "      <th>churn</th>\n",
       "    </tr>\n",
       "  </thead>\n",
       "  <tbody>\n",
       "    <tr>\n",
       "      <th>0</th>\n",
       "      <td>1</td>\n",
       "      <td>3135</td>\n",
       "      <td>66</td>\n",
       "      <td>Male</td>\n",
       "      <td>0.0</td>\n",
       "      <td>self_employed</td>\n",
       "      <td>187.0</td>\n",
       "      <td>2</td>\n",
       "      <td>755</td>\n",
       "      <td>224.0</td>\n",
       "      <td>...</td>\n",
       "      <td>1458.71</td>\n",
       "      <td>1458.71</td>\n",
       "      <td>1449.07</td>\n",
       "      <td>0.20</td>\n",
       "      <td>0.20</td>\n",
       "      <td>0.20</td>\n",
       "      <td>0.20</td>\n",
       "      <td>1458.71</td>\n",
       "      <td>1458.71</td>\n",
       "      <td>0</td>\n",
       "    </tr>\n",
       "    <tr>\n",
       "      <th>1</th>\n",
       "      <td>2</td>\n",
       "      <td>310</td>\n",
       "      <td>35</td>\n",
       "      <td>Male</td>\n",
       "      <td>0.0</td>\n",
       "      <td>self_employed</td>\n",
       "      <td>NaN</td>\n",
       "      <td>2</td>\n",
       "      <td>3214</td>\n",
       "      <td>60.0</td>\n",
       "      <td>...</td>\n",
       "      <td>8704.66</td>\n",
       "      <td>7799.26</td>\n",
       "      <td>12419.41</td>\n",
       "      <td>0.56</td>\n",
       "      <td>0.56</td>\n",
       "      <td>5486.27</td>\n",
       "      <td>100.56</td>\n",
       "      <td>6496.78</td>\n",
       "      <td>8787.61</td>\n",
       "      <td>0</td>\n",
       "    </tr>\n",
       "    <tr>\n",
       "      <th>2</th>\n",
       "      <td>4</td>\n",
       "      <td>2356</td>\n",
       "      <td>31</td>\n",
       "      <td>Male</td>\n",
       "      <td>0.0</td>\n",
       "      <td>salaried</td>\n",
       "      <td>146.0</td>\n",
       "      <td>2</td>\n",
       "      <td>41</td>\n",
       "      <td>NaN</td>\n",
       "      <td>...</td>\n",
       "      <td>5815.29</td>\n",
       "      <td>4910.17</td>\n",
       "      <td>2815.94</td>\n",
       "      <td>0.61</td>\n",
       "      <td>0.61</td>\n",
       "      <td>6046.73</td>\n",
       "      <td>259.23</td>\n",
       "      <td>5006.28</td>\n",
       "      <td>5070.14</td>\n",
       "      <td>0</td>\n",
       "    </tr>\n",
       "    <tr>\n",
       "      <th>3</th>\n",
       "      <td>5</td>\n",
       "      <td>478</td>\n",
       "      <td>90</td>\n",
       "      <td>NaN</td>\n",
       "      <td>NaN</td>\n",
       "      <td>self_employed</td>\n",
       "      <td>1020.0</td>\n",
       "      <td>2</td>\n",
       "      <td>582</td>\n",
       "      <td>147.0</td>\n",
       "      <td>...</td>\n",
       "      <td>2291.91</td>\n",
       "      <td>2084.54</td>\n",
       "      <td>1006.54</td>\n",
       "      <td>0.47</td>\n",
       "      <td>0.47</td>\n",
       "      <td>0.47</td>\n",
       "      <td>2143.33</td>\n",
       "      <td>2291.91</td>\n",
       "      <td>1669.79</td>\n",
       "      <td>1</td>\n",
       "    </tr>\n",
       "    <tr>\n",
       "      <th>4</th>\n",
       "      <td>6</td>\n",
       "      <td>2531</td>\n",
       "      <td>42</td>\n",
       "      <td>Male</td>\n",
       "      <td>2.0</td>\n",
       "      <td>self_employed</td>\n",
       "      <td>1494.0</td>\n",
       "      <td>3</td>\n",
       "      <td>388</td>\n",
       "      <td>58.0</td>\n",
       "      <td>...</td>\n",
       "      <td>1401.72</td>\n",
       "      <td>1643.31</td>\n",
       "      <td>1871.12</td>\n",
       "      <td>0.33</td>\n",
       "      <td>714.61</td>\n",
       "      <td>588.62</td>\n",
       "      <td>1538.06</td>\n",
       "      <td>1157.15</td>\n",
       "      <td>1677.16</td>\n",
       "      <td>1</td>\n",
       "    </tr>\n",
       "  </tbody>\n",
       "</table>\n",
       "<p>5 rows × 21 columns</p>\n",
       "</div>"
      ],
      "text/plain": [
       "   customer_id  vintage  age gender  dependents     occupation    city  \\\n",
       "0            1     3135   66   Male         0.0  self_employed   187.0   \n",
       "1            2      310   35   Male         0.0  self_employed     NaN   \n",
       "2            4     2356   31   Male         0.0       salaried   146.0   \n",
       "3            5      478   90    NaN         NaN  self_employed  1020.0   \n",
       "4            6     2531   42   Male         2.0  self_employed  1494.0   \n",
       "\n",
       "   customer_nw_category  branch_code  days_since_last_transaction  ...  \\\n",
       "0                     2          755                        224.0  ...   \n",
       "1                     2         3214                         60.0  ...   \n",
       "2                     2           41                          NaN  ...   \n",
       "3                     2          582                        147.0  ...   \n",
       "4                     3          388                         58.0  ...   \n",
       "\n",
       "   previous_month_end_balance  average_monthly_balance_prevQ  \\\n",
       "0                     1458.71                        1458.71   \n",
       "1                     8704.66                        7799.26   \n",
       "2                     5815.29                        4910.17   \n",
       "3                     2291.91                        2084.54   \n",
       "4                     1401.72                        1643.31   \n",
       "\n",
       "   average_monthly_balance_prevQ2  current_month_credit  \\\n",
       "0                         1449.07                  0.20   \n",
       "1                        12419.41                  0.56   \n",
       "2                         2815.94                  0.61   \n",
       "3                         1006.54                  0.47   \n",
       "4                         1871.12                  0.33   \n",
       "\n",
       "   previous_month_credit  current_month_debit  previous_month_debit  \\\n",
       "0                   0.20                 0.20                  0.20   \n",
       "1                   0.56              5486.27                100.56   \n",
       "2                   0.61              6046.73                259.23   \n",
       "3                   0.47                 0.47               2143.33   \n",
       "4                 714.61               588.62               1538.06   \n",
       "\n",
       "   current_month_balance  previous_month_balance  churn  \n",
       "0                1458.71                 1458.71      0  \n",
       "1                6496.78                 8787.61      0  \n",
       "2                5006.28                 5070.14      0  \n",
       "3                2291.91                 1669.79      1  \n",
       "4                1157.15                 1677.16      1  \n",
       "\n",
       "[5 rows x 21 columns]"
      ]
     },
     "execution_count": 3,
     "metadata": {},
     "output_type": "execute_result"
    }
   ],
   "source": [
    "df.head()"
   ]
  },
  {
   "cell_type": "code",
   "execution_count": 83,
   "metadata": {},
   "outputs": [
    {
     "data": {
      "text/html": [
       "<div>\n",
       "<style scoped>\n",
       "    .dataframe tbody tr th:only-of-type {\n",
       "        vertical-align: middle;\n",
       "    }\n",
       "\n",
       "    .dataframe tbody tr th {\n",
       "        vertical-align: top;\n",
       "    }\n",
       "\n",
       "    .dataframe thead th {\n",
       "        text-align: right;\n",
       "    }\n",
       "</style>\n",
       "<table border=\"1\" class=\"dataframe\">\n",
       "  <thead>\n",
       "    <tr style=\"text-align: right;\">\n",
       "      <th></th>\n",
       "      <th>customer_id</th>\n",
       "      <th>vintage</th>\n",
       "      <th>age</th>\n",
       "      <th>dependents</th>\n",
       "      <th>city</th>\n",
       "      <th>customer_nw_category</th>\n",
       "      <th>branch_code</th>\n",
       "      <th>days_since_last_transaction</th>\n",
       "      <th>current_balance</th>\n",
       "      <th>previous_month_end_balance</th>\n",
       "      <th>average_monthly_balance_prevQ</th>\n",
       "      <th>average_monthly_balance_prevQ2</th>\n",
       "      <th>current_month_credit</th>\n",
       "      <th>previous_month_credit</th>\n",
       "      <th>current_month_debit</th>\n",
       "      <th>previous_month_debit</th>\n",
       "      <th>current_month_balance</th>\n",
       "      <th>previous_month_balance</th>\n",
       "      <th>churn</th>\n",
       "    </tr>\n",
       "  </thead>\n",
       "  <tbody>\n",
       "    <tr>\n",
       "      <th>count</th>\n",
       "      <td>28382.000000</td>\n",
       "      <td>28382.000000</td>\n",
       "      <td>28382.000000</td>\n",
       "      <td>25919.000000</td>\n",
       "      <td>27579.000000</td>\n",
       "      <td>28382.000000</td>\n",
       "      <td>28382.000000</td>\n",
       "      <td>25159.000000</td>\n",
       "      <td>2.838200e+04</td>\n",
       "      <td>2.838200e+04</td>\n",
       "      <td>2.838200e+04</td>\n",
       "      <td>2.838200e+04</td>\n",
       "      <td>2.838200e+04</td>\n",
       "      <td>2.838200e+04</td>\n",
       "      <td>2.838200e+04</td>\n",
       "      <td>2.838200e+04</td>\n",
       "      <td>2.838200e+04</td>\n",
       "      <td>2.838200e+04</td>\n",
       "      <td>28382.000000</td>\n",
       "    </tr>\n",
       "    <tr>\n",
       "      <th>mean</th>\n",
       "      <td>15143.508667</td>\n",
       "      <td>45.696660</td>\n",
       "      <td>48.208336</td>\n",
       "      <td>0.347236</td>\n",
       "      <td>796.109576</td>\n",
       "      <td>2.225530</td>\n",
       "      <td>925.975019</td>\n",
       "      <td>69.997814</td>\n",
       "      <td>7.380552e+03</td>\n",
       "      <td>7.495771e+03</td>\n",
       "      <td>7.496780e+03</td>\n",
       "      <td>7.124209e+03</td>\n",
       "      <td>3.433252e+03</td>\n",
       "      <td>3.261694e+03</td>\n",
       "      <td>3.658745e+03</td>\n",
       "      <td>3.339761e+03</td>\n",
       "      <td>7.451133e+03</td>\n",
       "      <td>7.495177e+03</td>\n",
       "      <td>0.185329</td>\n",
       "    </tr>\n",
       "    <tr>\n",
       "      <th>std</th>\n",
       "      <td>8746.454456</td>\n",
       "      <td>16.618105</td>\n",
       "      <td>17.807163</td>\n",
       "      <td>0.997661</td>\n",
       "      <td>432.872102</td>\n",
       "      <td>0.660443</td>\n",
       "      <td>937.799129</td>\n",
       "      <td>86.341098</td>\n",
       "      <td>4.259871e+04</td>\n",
       "      <td>4.252935e+04</td>\n",
       "      <td>4.172622e+04</td>\n",
       "      <td>4.457581e+04</td>\n",
       "      <td>7.707145e+04</td>\n",
       "      <td>2.968889e+04</td>\n",
       "      <td>5.198542e+04</td>\n",
       "      <td>2.430111e+04</td>\n",
       "      <td>4.203394e+04</td>\n",
       "      <td>4.243198e+04</td>\n",
       "      <td>0.388571</td>\n",
       "    </tr>\n",
       "    <tr>\n",
       "      <th>min</th>\n",
       "      <td>1.000000</td>\n",
       "      <td>13.416408</td>\n",
       "      <td>1.000000</td>\n",
       "      <td>0.000000</td>\n",
       "      <td>0.000000</td>\n",
       "      <td>1.000000</td>\n",
       "      <td>1.000000</td>\n",
       "      <td>0.000000</td>\n",
       "      <td>-5.503960e+03</td>\n",
       "      <td>-3.149570e+03</td>\n",
       "      <td>1.428690e+03</td>\n",
       "      <td>-1.650610e+04</td>\n",
       "      <td>1.000000e-02</td>\n",
       "      <td>1.000000e-02</td>\n",
       "      <td>1.000000e-02</td>\n",
       "      <td>1.000000e-02</td>\n",
       "      <td>-3.374180e+03</td>\n",
       "      <td>-5.171920e+03</td>\n",
       "      <td>0.000000</td>\n",
       "    </tr>\n",
       "    <tr>\n",
       "      <th>25%</th>\n",
       "      <td>7557.250000</td>\n",
       "      <td>33.481338</td>\n",
       "      <td>36.000000</td>\n",
       "      <td>0.000000</td>\n",
       "      <td>409.000000</td>\n",
       "      <td>2.000000</td>\n",
       "      <td>176.000000</td>\n",
       "      <td>11.000000</td>\n",
       "      <td>1.784470e+03</td>\n",
       "      <td>1.906000e+03</td>\n",
       "      <td>2.180945e+03</td>\n",
       "      <td>1.832507e+03</td>\n",
       "      <td>3.100000e-01</td>\n",
       "      <td>3.300000e-01</td>\n",
       "      <td>4.100000e-01</td>\n",
       "      <td>4.100000e-01</td>\n",
       "      <td>1.996765e+03</td>\n",
       "      <td>2.074408e+03</td>\n",
       "      <td>0.000000</td>\n",
       "    </tr>\n",
       "    <tr>\n",
       "      <th>50%</th>\n",
       "      <td>15150.500000</td>\n",
       "      <td>44.922155</td>\n",
       "      <td>46.000000</td>\n",
       "      <td>0.000000</td>\n",
       "      <td>834.000000</td>\n",
       "      <td>2.000000</td>\n",
       "      <td>572.000000</td>\n",
       "      <td>30.000000</td>\n",
       "      <td>3.281255e+03</td>\n",
       "      <td>3.379915e+03</td>\n",
       "      <td>3.542865e+03</td>\n",
       "      <td>3.359600e+03</td>\n",
       "      <td>6.100000e-01</td>\n",
       "      <td>6.300000e-01</td>\n",
       "      <td>9.193000e+01</td>\n",
       "      <td>1.099600e+02</td>\n",
       "      <td>3.447995e+03</td>\n",
       "      <td>3.465235e+03</td>\n",
       "      <td>0.000000</td>\n",
       "    </tr>\n",
       "    <tr>\n",
       "      <th>75%</th>\n",
       "      <td>22706.750000</td>\n",
       "      <td>56.356011</td>\n",
       "      <td>60.000000</td>\n",
       "      <td>0.000000</td>\n",
       "      <td>1096.000000</td>\n",
       "      <td>3.000000</td>\n",
       "      <td>1440.000000</td>\n",
       "      <td>95.000000</td>\n",
       "      <td>6.635820e+03</td>\n",
       "      <td>6.656535e+03</td>\n",
       "      <td>6.666887e+03</td>\n",
       "      <td>6.517960e+03</td>\n",
       "      <td>7.072725e+02</td>\n",
       "      <td>7.492350e+02</td>\n",
       "      <td>1.360435e+03</td>\n",
       "      <td>1.357553e+03</td>\n",
       "      <td>6.667958e+03</td>\n",
       "      <td>6.654693e+03</td>\n",
       "      <td>0.000000</td>\n",
       "    </tr>\n",
       "    <tr>\n",
       "      <th>max</th>\n",
       "      <td>30301.000000</td>\n",
       "      <td>113.573765</td>\n",
       "      <td>90.000000</td>\n",
       "      <td>52.000000</td>\n",
       "      <td>1649.000000</td>\n",
       "      <td>3.000000</td>\n",
       "      <td>4782.000000</td>\n",
       "      <td>365.000000</td>\n",
       "      <td>5.905904e+06</td>\n",
       "      <td>5.740439e+06</td>\n",
       "      <td>5.700290e+06</td>\n",
       "      <td>5.010170e+06</td>\n",
       "      <td>1.226985e+07</td>\n",
       "      <td>2.361808e+06</td>\n",
       "      <td>7.637857e+06</td>\n",
       "      <td>1.414168e+06</td>\n",
       "      <td>5.778185e+06</td>\n",
       "      <td>5.720144e+06</td>\n",
       "      <td>1.000000</td>\n",
       "    </tr>\n",
       "  </tbody>\n",
       "</table>\n",
       "</div>"
      ],
      "text/plain": [
       "        customer_id       vintage           age    dependents          city  \\\n",
       "count  28382.000000  28382.000000  28382.000000  25919.000000  27579.000000   \n",
       "mean   15143.508667     45.696660     48.208336      0.347236    796.109576   \n",
       "std     8746.454456     16.618105     17.807163      0.997661    432.872102   \n",
       "min        1.000000     13.416408      1.000000      0.000000      0.000000   \n",
       "25%     7557.250000     33.481338     36.000000      0.000000    409.000000   \n",
       "50%    15150.500000     44.922155     46.000000      0.000000    834.000000   \n",
       "75%    22706.750000     56.356011     60.000000      0.000000   1096.000000   \n",
       "max    30301.000000    113.573765     90.000000     52.000000   1649.000000   \n",
       "\n",
       "       customer_nw_category   branch_code  days_since_last_transaction  \\\n",
       "count          28382.000000  28382.000000                 25159.000000   \n",
       "mean               2.225530    925.975019                    69.997814   \n",
       "std                0.660443    937.799129                    86.341098   \n",
       "min                1.000000      1.000000                     0.000000   \n",
       "25%                2.000000    176.000000                    11.000000   \n",
       "50%                2.000000    572.000000                    30.000000   \n",
       "75%                3.000000   1440.000000                    95.000000   \n",
       "max                3.000000   4782.000000                   365.000000   \n",
       "\n",
       "       current_balance  previous_month_end_balance  \\\n",
       "count     2.838200e+04                2.838200e+04   \n",
       "mean      7.380552e+03                7.495771e+03   \n",
       "std       4.259871e+04                4.252935e+04   \n",
       "min      -5.503960e+03               -3.149570e+03   \n",
       "25%       1.784470e+03                1.906000e+03   \n",
       "50%       3.281255e+03                3.379915e+03   \n",
       "75%       6.635820e+03                6.656535e+03   \n",
       "max       5.905904e+06                5.740439e+06   \n",
       "\n",
       "       average_monthly_balance_prevQ  average_monthly_balance_prevQ2  \\\n",
       "count                   2.838200e+04                    2.838200e+04   \n",
       "mean                    7.496780e+03                    7.124209e+03   \n",
       "std                     4.172622e+04                    4.457581e+04   \n",
       "min                     1.428690e+03                   -1.650610e+04   \n",
       "25%                     2.180945e+03                    1.832507e+03   \n",
       "50%                     3.542865e+03                    3.359600e+03   \n",
       "75%                     6.666887e+03                    6.517960e+03   \n",
       "max                     5.700290e+06                    5.010170e+06   \n",
       "\n",
       "       current_month_credit  previous_month_credit  current_month_debit  \\\n",
       "count          2.838200e+04           2.838200e+04         2.838200e+04   \n",
       "mean           3.433252e+03           3.261694e+03         3.658745e+03   \n",
       "std            7.707145e+04           2.968889e+04         5.198542e+04   \n",
       "min            1.000000e-02           1.000000e-02         1.000000e-02   \n",
       "25%            3.100000e-01           3.300000e-01         4.100000e-01   \n",
       "50%            6.100000e-01           6.300000e-01         9.193000e+01   \n",
       "75%            7.072725e+02           7.492350e+02         1.360435e+03   \n",
       "max            1.226985e+07           2.361808e+06         7.637857e+06   \n",
       "\n",
       "       previous_month_debit  current_month_balance  previous_month_balance  \\\n",
       "count          2.838200e+04           2.838200e+04            2.838200e+04   \n",
       "mean           3.339761e+03           7.451133e+03            7.495177e+03   \n",
       "std            2.430111e+04           4.203394e+04            4.243198e+04   \n",
       "min            1.000000e-02          -3.374180e+03           -5.171920e+03   \n",
       "25%            4.100000e-01           1.996765e+03            2.074408e+03   \n",
       "50%            1.099600e+02           3.447995e+03            3.465235e+03   \n",
       "75%            1.357553e+03           6.667958e+03            6.654693e+03   \n",
       "max            1.414168e+06           5.778185e+06            5.720144e+06   \n",
       "\n",
       "              churn  \n",
       "count  28382.000000  \n",
       "mean       0.185329  \n",
       "std        0.388571  \n",
       "min        0.000000  \n",
       "25%        0.000000  \n",
       "50%        0.000000  \n",
       "75%        0.000000  \n",
       "max        1.000000  "
      ]
     },
     "execution_count": 83,
     "metadata": {},
     "output_type": "execute_result"
    }
   ],
   "source": [
    "df.describe()"
   ]
  },
  {
   "cell_type": "code",
   "execution_count": 4,
   "metadata": {},
   "outputs": [
    {
     "data": {
      "text/plain": [
       "(28382, 21)"
      ]
     },
     "execution_count": 4,
     "metadata": {},
     "output_type": "execute_result"
    }
   ],
   "source": [
    "df.shape"
   ]
  },
  {
   "cell_type": "code",
   "execution_count": 5,
   "metadata": {},
   "outputs": [
    {
     "data": {
      "text/plain": [
       "Index(['customer_id', 'vintage', 'age', 'gender', 'dependents', 'occupation',\n",
       "       'city', 'customer_nw_category', 'branch_code',\n",
       "       'days_since_last_transaction', 'current_balance',\n",
       "       'previous_month_end_balance', 'average_monthly_balance_prevQ',\n",
       "       'average_monthly_balance_prevQ2', 'current_month_credit',\n",
       "       'previous_month_credit', 'current_month_debit', 'previous_month_debit',\n",
       "       'current_month_balance', 'previous_month_balance', 'churn'],\n",
       "      dtype='object')"
      ]
     },
     "execution_count": 5,
     "metadata": {},
     "output_type": "execute_result"
    }
   ],
   "source": [
    "df.columns"
   ]
  },
  {
   "cell_type": "code",
   "execution_count": 6,
   "metadata": {},
   "outputs": [
    {
     "data": {
      "text/plain": [
       "customer_id                         int64\n",
       "vintage                             int64\n",
       "age                                 int64\n",
       "gender                             object\n",
       "dependents                        float64\n",
       "occupation                         object\n",
       "city                              float64\n",
       "customer_nw_category                int64\n",
       "branch_code                         int64\n",
       "days_since_last_transaction       float64\n",
       "current_balance                   float64\n",
       "previous_month_end_balance        float64\n",
       "average_monthly_balance_prevQ     float64\n",
       "average_monthly_balance_prevQ2    float64\n",
       "current_month_credit              float64\n",
       "previous_month_credit             float64\n",
       "current_month_debit               float64\n",
       "previous_month_debit              float64\n",
       "current_month_balance             float64\n",
       "previous_month_balance            float64\n",
       "churn                               int64\n",
       "dtype: object"
      ]
     },
     "execution_count": 6,
     "metadata": {},
     "output_type": "execute_result"
    }
   ],
   "source": [
    "df.dtypes"
   ]
  },
  {
   "cell_type": "code",
   "execution_count": 7,
   "metadata": {},
   "outputs": [
    {
     "data": {
      "text/plain": [
       "customer_id                          0\n",
       "vintage                              0\n",
       "age                                  0\n",
       "gender                             525\n",
       "dependents                        2463\n",
       "occupation                          80\n",
       "city                               803\n",
       "customer_nw_category                 0\n",
       "branch_code                          0\n",
       "days_since_last_transaction       3223\n",
       "current_balance                      0\n",
       "previous_month_end_balance           0\n",
       "average_monthly_balance_prevQ        0\n",
       "average_monthly_balance_prevQ2       0\n",
       "current_month_credit                 0\n",
       "previous_month_credit                0\n",
       "current_month_debit                  0\n",
       "previous_month_debit                 0\n",
       "current_month_balance                0\n",
       "previous_month_balance               0\n",
       "churn                                0\n",
       "dtype: int64"
      ]
     },
     "execution_count": 7,
     "metadata": {},
     "output_type": "execute_result"
    }
   ],
   "source": [
    "df.isnull().sum()"
   ]
  },
  {
   "cell_type": "markdown",
   "metadata": {},
   "source": [
    "# Univariate Analysis"
   ]
  },
  {
   "cell_type": "code",
   "execution_count": 8,
   "metadata": {},
   "outputs": [
    {
     "data": {
      "text/plain": [
       "<matplotlib.axes._subplots.AxesSubplot at 0x7fc71bdf12d0>"
      ]
     },
     "execution_count": 8,
     "metadata": {},
     "output_type": "execute_result"
    },
    {
     "data": {
      "image/png": "[encoded data removed]",
      "text/plain": [
       "<Figure size 432x288 with 1 Axes>"
      ]
     },
     "metadata": {
      "needs_background": "light"
     },
     "output_type": "display_data"
    }
   ],
   "source": [
    "#Analysing vintage\n",
    "df['vintage'].plot.hist(bins=50)"
   ]
  },
  {
   "cell_type": "code",
   "execution_count": 9,
   "metadata": {},
   "outputs": [
    {
     "data": {
      "text/plain": [
       "<matplotlib.axes._subplots.AxesSubplot at 0x7fc71a78d450>"
      ]
     },
     "execution_count": 9,
     "metadata": {},
     "output_type": "execute_result"
    },
    {
     "data": {
      "image/png": "[encoded data removed]",
      "text/plain": [
       "<Figure size 432x288 with 1 Axes>"
      ]
     },
     "metadata": {
      "needs_background": "light"
     },
     "output_type": "display_data"
    }
   ],
   "source": [
    "np.sqrt(df['vintage']).plot.hist(bins=50)"
   ]
  },
  {
   "cell_type": "code",
   "execution_count": 10,
   "metadata": {},
   "outputs": [
    {
     "data": {
      "text/plain": [
       "<matplotlib.axes._subplots.AxesSubplot at 0x7fc71a696f10>"
      ]
     },
     "execution_count": 10,
     "metadata": {},
     "output_type": "execute_result"
    },
    {
     "data": {
      "image/png": "[encoded data removed]",
      "text/plain": [
       "<Figure size 432x288 with 1 Axes>"
      ]
     },
     "metadata": {
      "needs_background": "light"
     },
     "output_type": "display_data"
    }
   ],
   "source": [
    "#Taking square root for normal distribution\n",
    "df['vintage']=np.sqrt(df['vintage'])\n",
    "df['vintage'].plot.hist(bins=50)"
   ]
  },
  {
   "cell_type": "code",
   "execution_count": 11,
   "metadata": {},
   "outputs": [
    {
     "data": {
      "text/plain": [
       "<matplotlib.axes._subplots.AxesSubplot at 0x7fc71a7e5a50>"
      ]
     },
     "execution_count": 11,
     "metadata": {},
     "output_type": "execute_result"
    },
    {
     "data": {
      "image/png": "[encoded data removed]",
      "text/plain": [
       "<Figure size 432x288 with 1 Axes>"
      ]
     },
     "metadata": {
      "needs_background": "light"
     },
     "output_type": "display_data"
    }
   ],
   "source": [
    "#Analysing age\n",
    "df['age'].plot.hist(bins=50)"
   ]
  },
  {
   "cell_type": "code",
   "execution_count": 332,
   "metadata": {
    "scrolled": true
   },
   "outputs": [
    {
     "data": {
      "text/plain": [
       "<matplotlib.axes._subplots.AxesSubplot at 0x7fc700c59b90>"
      ]
     },
     "execution_count": 332,
     "metadata": {},
     "output_type": "execute_result"
    },
    {
     "data": {
      "image/png": "[encoded data removed]",
      "text/plain": [
       "<Figure size 432x288 with 1 Axes>"
      ]
     },
     "metadata": {
      "needs_background": "light"
     },
     "output_type": "display_data"
    }
   ],
   "source": [
    "np.sqrt(df['days_since_last_transaction']).plot.hist(bins=30)"
   ]
  },
  {
   "cell_type": "code",
   "execution_count": 234,
   "metadata": {},
   "outputs": [
    {
     "name": "stdout",
     "output_type": "stream",
     "text": [
      "***Categorical variables count***\n",
      "gender \n",
      "\n",
      "Male      16642\n",
      "Female    11740\n",
      "Name: gender, dtype: int64\n",
      "___________\n",
      "\n",
      "occupation \n",
      "\n",
      "self_employed    17476\n",
      "salaried          6704\n",
      "student           2058\n",
      "retired           2024\n",
      "company             40\n",
      "Name: occupation, dtype: int64\n",
      "___________\n",
      "\n",
      "customer_nw_category \n",
      "\n",
      "2    14559\n",
      "3    10112\n",
      "1     3711\n",
      "Name: customer_nw_category, dtype: int64\n",
      "___________\n",
      "\n",
      "churn \n",
      "\n",
      "0    23122\n",
      "1     5260\n",
      "Name: churn, dtype: int64\n",
      "___________\n",
      "\n",
      "city \n",
      "\n",
      "1020.0    3479\n",
      "1096.0    2016\n",
      "409.0     1334\n",
      "146.0     1291\n",
      "834.0     1138\n",
      "          ... \n",
      "629.0        1\n",
      "527.0        1\n",
      "1212.0       1\n",
      "530.0        1\n",
      "70.0         1\n",
      "Name: city, Length: 1604, dtype: int64\n",
      "___________\n",
      "\n"
     ]
    }
   ],
   "source": [
    "categorical_list=['gender','occupation','customer_nw_category','churn','city']\n",
    "print('***Categorical variables count***')\n",
    "for i in categorical_list:\n",
    "    print(i,'\\n')\n",
    "    print(df[i].value_counts())\n",
    "    print('___________\\n')"
   ]
  },
  {
   "cell_type": "code",
   "execution_count": 302,
   "metadata": {},
   "outputs": [
    {
     "data": {
      "text/plain": [
       "(24111, 21)"
      ]
     },
     "execution_count": 302,
     "metadata": {},
     "output_type": "execute_result"
    },
    {
     "data": {
      "image/png": "[encoded data removed]",
      "text/plain": [
       "<Figure size 432x288 with 1 Axes>"
      ]
     },
     "metadata": {
      "needs_background": "light"
     },
     "output_type": "display_data"
    }
   ],
   "source": [
    "df.loc[df['current_balance']<10000]['current_balance'].plot.box()\n",
    "df.loc[df['current_balance']<10000].shape"
   ]
  },
  {
   "cell_type": "code",
   "execution_count": 303,
   "metadata": {},
   "outputs": [
    {
     "data": {
      "text/plain": [
       "(24120, 21)"
      ]
     },
     "execution_count": 303,
     "metadata": {},
     "output_type": "execute_result"
    },
    {
     "data": {
      "image/png": "[encoded data removed]",
      "text/plain": [
       "<Figure size 432x288 with 1 Axes>"
      ]
     },
     "metadata": {
      "needs_background": "light"
     },
     "output_type": "display_data"
    }
   ],
   "source": [
    "df.loc[df['previous_month_end_balance']<10000]['previous_month_end_balance'].plot.box()\n",
    "df.loc[df['previous_month_end_balance']<10000].shape"
   ]
  },
  {
   "cell_type": "code",
   "execution_count": 308,
   "metadata": {},
   "outputs": [
    {
     "data": {
      "text/plain": [
       "(24223, 21)"
      ]
     },
     "execution_count": 308,
     "metadata": {},
     "output_type": "execute_result"
    },
    {
     "data": {
      "image/png": "[encoded data removed]",
      "text/plain": [
       "<Figure size 432x288 with 1 Axes>"
      ]
     },
     "metadata": {
      "needs_background": "light"
     },
     "output_type": "display_data"
    }
   ],
   "source": [
    "df.loc[df['average_monthly_balance_prevQ']<10000]['average_monthly_balance_prevQ'].plot.box()\n",
    "df.loc[df['average_monthly_balance_prevQ']<10000].shape"
   ]
  },
  {
   "cell_type": "code",
   "execution_count": 306,
   "metadata": {},
   "outputs": [
    {
     "data": {
      "text/plain": [
       "(24310, 21)"
      ]
     },
     "execution_count": 306,
     "metadata": {},
     "output_type": "execute_result"
    },
    {
     "data": {
      "image/png": "[encoded data removed]",
      "text/plain": [
       "<Figure size 432x288 with 1 Axes>"
      ]
     },
     "metadata": {
      "needs_background": "light"
     },
     "output_type": "display_data"
    }
   ],
   "source": [
    "data=df.loc[df['average_monthly_balance_prevQ2']<10000]\n",
    "data.loc[df['average_monthly_balance_prevQ2']>-5000]['average_monthly_balance_prevQ2'].plot.box()\n",
    "df.loc[df['average_monthly_balance_prevQ2']<10000].shape"
   ]
  },
  {
   "cell_type": "code",
   "execution_count": 1,
   "metadata": {},
   "outputs": [
    {
     "ename": "NameError",
     "evalue": "name 'df' is not defined",
     "output_type": "error",
     "traceback": [
      "\u001b[0;31m---------------------------------------------------------------------------\u001b[0m",
      "\u001b[0;31mNameError\u001b[0m                                 Traceback (most recent call last)",
      "\u001b[0;32m<ipython-input-1-a0d08d8a58d6>\u001b[0m in \u001b[0;36m<module>\u001b[0;34m\u001b[0m\n\u001b[0;32m----> 1\u001b[0;31m \u001b[0mdf\u001b[0m\u001b[0;34m.\u001b[0m\u001b[0mloc\u001b[0m\u001b[0;34m[\u001b[0m\u001b[0mdf\u001b[0m\u001b[0;34m[\u001b[0m\u001b[0;34m'current_month_balance'\u001b[0m\u001b[0;34m]\u001b[0m\u001b[0;34m<\u001b[0m\u001b[0;36m12000\u001b[0m\u001b[0;34m]\u001b[0m\u001b[0;34m[\u001b[0m\u001b[0;34m'current_month_balance'\u001b[0m\u001b[0;34m]\u001b[0m\u001b[0;34m.\u001b[0m\u001b[0mplot\u001b[0m\u001b[0;34m.\u001b[0m\u001b[0mbox\u001b[0m\u001b[0;34m(\u001b[0m\u001b[0;34m)\u001b[0m\u001b[0;34m\u001b[0m\u001b[0;34m\u001b[0m\u001b[0m\n\u001b[0m\u001b[1;32m      2\u001b[0m \u001b[0mdf\u001b[0m\u001b[0;34m.\u001b[0m\u001b[0mloc\u001b[0m\u001b[0;34m[\u001b[0m\u001b[0mdf\u001b[0m\u001b[0;34m[\u001b[0m\u001b[0;34m'current_month_balance'\u001b[0m\u001b[0;34m]\u001b[0m\u001b[0;34m<\u001b[0m\u001b[0;36m12000\u001b[0m\u001b[0;34m]\u001b[0m\u001b[0;34m.\u001b[0m\u001b[0mshape\u001b[0m\u001b[0;34m\u001b[0m\u001b[0;34m\u001b[0m\u001b[0m\n",
      "\u001b[0;31mNameError\u001b[0m: name 'df' is not defined"
     ]
    }
   ],
   "source": [
    "df.loc[df['current_month_balance']<12000]['current_month_balance'].plot.box()\n",
    "df.loc[df['current_month_balance']<12000].shape"
   ]
  },
  {
   "cell_type": "code",
   "execution_count": 311,
   "metadata": {},
   "outputs": [
    {
     "data": {
      "text/plain": [
       "(24184, 21)"
      ]
     },
     "execution_count": 311,
     "metadata": {},
     "output_type": "execute_result"
    },
    {
     "data": {
      "image/png": "[encoded data removed]",
      "text/plain": [
       "<Figure size 432x288 with 1 Axes>"
      ]
     },
     "metadata": {
      "needs_background": "light"
     },
     "output_type": "display_data"
    }
   ],
   "source": [
    "df.loc[df[pmb]<10000][pmb].plot.box()\n",
    "df.loc[df[pmb]<10000].shape"
   ]
  },
  {
   "cell_type": "code",
   "execution_count": 321,
   "metadata": {},
   "outputs": [
    {
     "data": {
      "text/html": [
       "<div>\n",
       "<style scoped>\n",
       "    .dataframe tbody tr th:only-of-type {\n",
       "        vertical-align: middle;\n",
       "    }\n",
       "\n",
       "    .dataframe tbody tr th {\n",
       "        vertical-align: top;\n",
       "    }\n",
       "\n",
       "    .dataframe thead th {\n",
       "        text-align: right;\n",
       "    }\n",
       "</style>\n",
       "<table border=\"1\" class=\"dataframe\">\n",
       "  <thead>\n",
       "    <tr style=\"text-align: right;\">\n",
       "      <th></th>\n",
       "      <th>customer_id</th>\n",
       "      <th>vintage</th>\n",
       "      <th>age</th>\n",
       "      <th>gender</th>\n",
       "      <th>dependents</th>\n",
       "      <th>occupation</th>\n",
       "      <th>city</th>\n",
       "      <th>customer_nw_category</th>\n",
       "      <th>branch_code</th>\n",
       "      <th>days_since_last_transaction</th>\n",
       "      <th>...</th>\n",
       "      <th>previous_month_end_balance</th>\n",
       "      <th>average_monthly_balance_prevQ</th>\n",
       "      <th>average_monthly_balance_prevQ2</th>\n",
       "      <th>current_month_credit</th>\n",
       "      <th>previous_month_credit</th>\n",
       "      <th>current_month_debit</th>\n",
       "      <th>previous_month_debit</th>\n",
       "      <th>current_month_balance</th>\n",
       "      <th>previous_month_balance</th>\n",
       "      <th>churn</th>\n",
       "    </tr>\n",
       "  </thead>\n",
       "  <tbody>\n",
       "    <tr>\n",
       "      <th>24095</th>\n",
       "      <td>25712</td>\n",
       "      <td>1192</td>\n",
       "      <td>90</td>\n",
       "      <td>Male</td>\n",
       "      <td>0.0</td>\n",
       "      <td>retired</td>\n",
       "      <td>1020</td>\n",
       "      <td>2</td>\n",
       "      <td>5</td>\n",
       "      <td>18.0</td>\n",
       "      <td>...</td>\n",
       "      <td>24270.54</td>\n",
       "      <td>11728.39</td>\n",
       "      <td>111617.41</td>\n",
       "      <td>12269845.39</td>\n",
       "      <td>0.21</td>\n",
       "      <td>7637857.36</td>\n",
       "      <td>0.21</td>\n",
       "      <td>8399.62</td>\n",
       "      <td>24270.54</td>\n",
       "      <td>1</td>\n",
       "    </tr>\n",
       "  </tbody>\n",
       "</table>\n",
       "<p>1 rows × 21 columns</p>\n",
       "</div>"
      ],
      "text/plain": [
       "       customer_id  vintage  age gender  dependents occupation  city  \\\n",
       "24095        25712     1192   90   Male         0.0    retired  1020   \n",
       "\n",
       "       customer_nw_category  branch_code  days_since_last_transaction  ...  \\\n",
       "24095                     2            5                         18.0  ...   \n",
       "\n",
       "       previous_month_end_balance  average_monthly_balance_prevQ  \\\n",
       "24095                    24270.54                       11728.39   \n",
       "\n",
       "       average_monthly_balance_prevQ2  current_month_credit  \\\n",
       "24095                       111617.41           12269845.39   \n",
       "\n",
       "       previous_month_credit  current_month_debit  previous_month_debit  \\\n",
       "24095                   0.21           7637857.36                  0.21   \n",
       "\n",
       "       current_month_balance  previous_month_balance  churn  \n",
       "24095                8399.62                24270.54      1  \n",
       "\n",
       "[1 rows x 21 columns]"
      ]
     },
     "execution_count": 321,
     "metadata": {},
     "output_type": "execute_result"
    }
   ],
   "source": [
    "df[df['current_month_credit']>10000000]"
   ]
  },
  {
   "cell_type": "code",
   "execution_count": 326,
   "metadata": {},
   "outputs": [
    {
     "data": {
      "text/plain": [
       "(1426, 21)"
      ]
     },
     "execution_count": 326,
     "metadata": {},
     "output_type": "execute_result"
    },
    {
     "data": {
      "image/png": "[encoded data removed]",
      "text/plain": [
       "<Figure size 432x288 with 1 Axes>"
      ]
     },
     "metadata": {
      "needs_background": "light"
     },
     "output_type": "display_data"
    }
   ],
   "source": [
    "df.loc[df[cmc]>10000][cmc].plot.box()\n",
    "df.loc[df[cmc]>10000].shape\n",
    "#Clearly,removing outliers will make us lose a lot of data"
   ]
  },
  {
   "cell_type": "code",
   "execution_count": null,
   "metadata": {},
   "outputs": [],
   "source": []
  },
  {
   "cell_type": "code",
   "execution_count": 281,
   "metadata": {},
   "outputs": [],
   "source": [
    "data=df.loc[df['current_balance']<12000]"
   ]
  },
  {
   "cell_type": "code",
   "execution_count": 284,
   "metadata": {},
   "outputs": [],
   "source": [
    "d=data.loc[df['previous_month_end_balance']<12000]"
   ]
  },
  {
   "cell_type": "code",
   "execution_count": 285,
   "metadata": {},
   "outputs": [
    {
     "data": {
      "text/plain": [
       "(24112, 21)"
      ]
     },
     "execution_count": 285,
     "metadata": {},
     "output_type": "execute_result"
    }
   ],
   "source": [
    "d.loc[df['average_monthly_balance_prevQ']<12000].shape"
   ]
  },
  {
   "cell_type": "code",
   "execution_count": null,
   "metadata": {},
   "outputs": [],
   "source": []
  },
  {
   "cell_type": "code",
   "execution_count": 38,
   "metadata": {},
   "outputs": [],
   "source": [
    "#Current balance has many outliers.Possible to take data lying within 12,000"
   ]
  },
  {
   "cell_type": "code",
   "execution_count": 41,
   "metadata": {},
   "outputs": [
    {
     "data": {
      "text/plain": [
       "<matplotlib.axes._subplots.AxesSubplot at 0x7fc710a2f050>"
      ]
     },
     "execution_count": 41,
     "metadata": {},
     "output_type": "execute_result"
    },
    {
     "data": {
      "image/png": "[encoded data removed]",
      "text/plain": [
       "<Figure size 432x288 with 1 Axes>"
      ]
     },
     "metadata": {
      "needs_background": "light"
     },
     "output_type": "display_data"
    }
   ],
   "source": [
    "df.loc[df['previous_month_end_balance']<20000]['previous_month_end_balance'].plot.hist(bins=50)"
   ]
  },
  {
   "cell_type": "code",
   "execution_count": 42,
   "metadata": {},
   "outputs": [
    {
     "data": {
      "text/plain": [
       "(26791, 21)"
      ]
     },
     "execution_count": 42,
     "metadata": {},
     "output_type": "execute_result"
    }
   ],
   "source": [
    "df.loc[df['previous_month_end_balance']<20000].shape"
   ]
  },
  {
   "cell_type": "code",
   "execution_count": 49,
   "metadata": {},
   "outputs": [
    {
     "data": {
      "text/plain": [
       "<matplotlib.axes._subplots.AxesSubplot at 0x7fc703880c10>"
      ]
     },
     "execution_count": 49,
     "metadata": {},
     "output_type": "execute_result"
    },
    {
     "data": {
      "image/png": "[encoded data removed]",
      "text/plain": [
       "<Figure size 432x288 with 1 Axes>"
      ]
     },
     "metadata": {
      "needs_background": "light"
     },
     "output_type": "display_data"
    }
   ],
   "source": [
    "df.loc[df['average_monthly_balance_prevQ']<30000]['average_monthly_balance_prevQ'].plot.hist(bins=50)"
   ]
  },
  {
   "cell_type": "code",
   "execution_count": 276,
   "metadata": {},
   "outputs": [
    {
     "data": {
      "text/plain": [
       "<matplotlib.axes._subplots.AxesSubplot at 0x7fc6fad8d810>"
      ]
     },
     "execution_count": 276,
     "metadata": {},
     "output_type": "execute_result"
    },
    {
     "data": {
      "image/png": "[encoded data removed]",
      "text/plain": [
       "<Figure size 432x288 with 1 Axes>"
      ]
     },
     "metadata": {
      "needs_background": "light"
     },
     "output_type": "display_data"
    }
   ],
   "source": [
    "df.loc[df['average_monthly_balance_prevQ']<12000]['average_monthly_balance_prevQ'].plot.box()"
   ]
  },
  {
   "cell_type": "code",
   "execution_count": 52,
   "metadata": {},
   "outputs": [
    {
     "data": {
      "text/plain": [
       "<matplotlib.axes._subplots.AxesSubplot at 0x7fc7035d8210>"
      ]
     },
     "execution_count": 52,
     "metadata": {},
     "output_type": "execute_result"
    },
    {
     "data": {
      "image/png": "[encoded data removed]",
      "text/plain": [
       "<Figure size 432x288 with 1 Axes>"
      ]
     },
     "metadata": {
      "needs_background": "light"
     },
     "output_type": "display_data"
    }
   ],
   "source": [
    "df.loc[df['average_monthly_balance_prevQ2']<30000]['average_monthly_balance_prevQ2'].plot.hist(bins=50)"
   ]
  },
  {
   "cell_type": "code",
   "execution_count": 53,
   "metadata": {},
   "outputs": [
    {
     "data": {
      "text/plain": [
       "<matplotlib.axes._subplots.AxesSubplot at 0x7fc7036cef50>"
      ]
     },
     "execution_count": 53,
     "metadata": {},
     "output_type": "execute_result"
    },
    {
     "data": {
      "image/png": "[encoded data removed]",
      "text/plain": [
       "<Figure size 432x288 with 1 Axes>"
      ]
     },
     "metadata": {
      "needs_background": "light"
     },
     "output_type": "display_data"
    }
   ],
   "source": [
    "df.loc[df['average_monthly_balance_prevQ2']<30000]['average_monthly_balance_prevQ2'].plot.box()"
   ]
  },
  {
   "cell_type": "code",
   "execution_count": 86,
   "metadata": {},
   "outputs": [
    {
     "data": {
      "text/plain": [
       "<matplotlib.axes._subplots.AxesSubplot at 0x7fc701c2e150>"
      ]
     },
     "execution_count": 86,
     "metadata": {},
     "output_type": "execute_result"
    },
    {
     "data": {
      "image/png": "[encoded data removed]",
      "text/plain": [
       "<Figure size 432x288 with 1 Axes>"
      ]
     },
     "metadata": {
      "needs_background": "light"
     },
     "output_type": "display_data"
    }
   ],
   "source": [
    "df.loc[df['current_month_credit']<1]['current_month_credit'].plot.hist(bins=50)"
   ]
  },
  {
   "cell_type": "code",
   "execution_count": 80,
   "metadata": {},
   "outputs": [
    {
     "data": {
      "text/plain": [
       "<matplotlib.axes._subplots.AxesSubplot at 0x7fc701dac350>"
      ]
     },
     "execution_count": 80,
     "metadata": {},
     "output_type": "execute_result"
    },
    {
     "data": {
      "image/png": "[encoded data removed]",
      "text/plain": [
       "<Figure size 432x288 with 1 Axes>"
      ]
     },
     "metadata": {
      "needs_background": "light"
     },
     "output_type": "display_data"
    }
   ],
   "source": [
    "df.loc[df['current_month_credit']<1]['current_month_credit'].plot.box()"
   ]
  },
  {
   "cell_type": "code",
   "execution_count": 84,
   "metadata": {},
   "outputs": [],
   "source": [
    "#The median current month credit is less than 1\n",
    "#However, dropping anything above 1 means dropping almost 10,000 rows\n",
    "#From .describe(),we can see prev_month credit is same"
   ]
  },
  {
   "cell_type": "code",
   "execution_count": 88,
   "metadata": {},
   "outputs": [
    {
     "data": {
      "text/plain": [
       "<matplotlib.axes._subplots.AxesSubplot at 0x7fc701f2f910>"
      ]
     },
     "execution_count": 88,
     "metadata": {},
     "output_type": "execute_result"
    },
    {
     "data": {
      "image/png": "[encoded data removed]",
      "text/plain": [
       "<Figure size 432x288 with 1 Axes>"
      ]
     },
     "metadata": {
      "needs_background": "light"
     },
     "output_type": "display_data"
    }
   ],
   "source": [
    "df.loc[df['previous_month_credit']<750]['previous_month_credit'].plot.hist(bins=50)"
   ]
  },
  {
   "cell_type": "code",
   "execution_count": 89,
   "metadata": {},
   "outputs": [
    {
     "data": {
      "text/plain": [
       "<matplotlib.axes._subplots.AxesSubplot at 0x7fc702397350>"
      ]
     },
     "execution_count": 89,
     "metadata": {},
     "output_type": "execute_result"
    },
    {
     "data": {
      "image/png": "[encoded data removed]",
      "text/plain": [
       "<Figure size 432x288 with 1 Axes>"
      ]
     },
     "metadata": {
      "needs_background": "light"
     },
     "output_type": "display_data"
    }
   ],
   "source": [
    "df.loc[df['current_month_debit']<2000]['current_month_debit'].plot.hist(bins=50)"
   ]
  },
  {
   "cell_type": "code",
   "execution_count": 91,
   "metadata": {},
   "outputs": [
    {
     "data": {
      "text/plain": [
       "<matplotlib.axes._subplots.AxesSubplot at 0x7fc701faaa50>"
      ]
     },
     "execution_count": 91,
     "metadata": {},
     "output_type": "execute_result"
    },
    {
     "data": {
      "image/png": "[encoded data removed]",
      "text/plain": [
       "<Figure size 432x288 with 1 Axes>"
      ]
     },
     "metadata": {
      "needs_background": "light"
     },
     "output_type": "display_data"
    }
   ],
   "source": [
    "df.loc[df['previous_month_debit']<2000]['previous_month_debit'].plot.hist(bins=50)"
   ]
  },
  {
   "cell_type": "code",
   "execution_count": 107,
   "metadata": {},
   "outputs": [
    {
     "data": {
      "text/plain": [
       "<matplotlib.axes._subplots.AxesSubplot at 0x7fc70120b290>"
      ]
     },
     "execution_count": 107,
     "metadata": {},
     "output_type": "execute_result"
    },
    {
     "data": {
      "image/png": "[encoded data removed]",
      "text/plain": [
       "<Figure size 432x288 with 1 Axes>"
      ]
     },
     "metadata": {
      "needs_background": "light"
     },
     "output_type": "display_data"
    }
   ],
   "source": [
    "np.sqrt(df.loc[df['current_month_balance']<20000]['current_month_balance']+1000).plot.hist(bins=50)"
   ]
  },
  {
   "cell_type": "code",
   "execution_count": 108,
   "metadata": {},
   "outputs": [
    {
     "data": {
      "text/plain": [
       "(26812, 21)"
      ]
     },
     "execution_count": 108,
     "metadata": {},
     "output_type": "execute_result"
    }
   ],
   "source": [
    "df.loc[df['current_month_balance']<20000].shape"
   ]
  },
  {
   "cell_type": "code",
   "execution_count": 109,
   "metadata": {
    "scrolled": true
   },
   "outputs": [
    {
     "data": {
      "text/plain": [
       "<matplotlib.axes._subplots.AxesSubplot at 0x7fc701122650>"
      ]
     },
     "execution_count": 109,
     "metadata": {},
     "output_type": "execute_result"
    },
    {
     "data": {
      "image/png": "[encoded data removed]",
      "text/plain": [
       "<Figure size 432x288 with 1 Axes>"
      ]
     },
     "metadata": {
      "needs_background": "light"
     },
     "output_type": "display_data"
    }
   ],
   "source": [
    "np.sqrt(df.loc[df['current_month_balance']<20000]['current_month_balance']+1000).plot.hist(bins=50)"
   ]
  },
  {
   "cell_type": "code",
   "execution_count": 179,
   "metadata": {},
   "outputs": [
    {
     "data": {
      "text/plain": [
       "<matplotlib.axes._subplots.AxesSubplot at 0x7fc700cf8910>"
      ]
     },
     "execution_count": 179,
     "metadata": {},
     "output_type": "execute_result"
    },
    {
     "data": {
      "image/png": "[encoded data removed]",
      "text/plain": [
       "<Figure size 432x288 with 1 Axes>"
      ]
     },
     "metadata": {
      "needs_background": "light"
     },
     "output_type": "display_data"
    }
   ],
   "source": [
    "df['dependents'].plot.box()"
   ]
  },
  {
   "cell_type": "code",
   "execution_count": 266,
   "metadata": {},
   "outputs": [
    {
     "data": {
      "text/plain": [
       "0    23122\n",
       "1     5260\n",
       "Name: churn, dtype: int64"
      ]
     },
     "execution_count": 266,
     "metadata": {},
     "output_type": "execute_result"
    }
   ],
   "source": [
    "df['churn'].value_counts()"
   ]
  },
  {
   "cell_type": "markdown",
   "metadata": {},
   "source": [
    "# Bivariate Analysis"
   ]
  },
  {
   "cell_type": "code",
   "execution_count": 110,
   "metadata": {},
   "outputs": [
    {
     "data": {
      "text/html": [
       "<div>\n",
       "<style scoped>\n",
       "    .dataframe tbody tr th:only-of-type {\n",
       "        vertical-align: middle;\n",
       "    }\n",
       "\n",
       "    .dataframe tbody tr th {\n",
       "        vertical-align: top;\n",
       "    }\n",
       "\n",
       "    .dataframe thead th {\n",
       "        text-align: right;\n",
       "    }\n",
       "</style>\n",
       "<table border=\"1\" class=\"dataframe\">\n",
       "  <thead>\n",
       "    <tr style=\"text-align: right;\">\n",
       "      <th></th>\n",
       "      <th>customer_id</th>\n",
       "      <th>vintage</th>\n",
       "      <th>age</th>\n",
       "      <th>dependents</th>\n",
       "      <th>city</th>\n",
       "      <th>customer_nw_category</th>\n",
       "      <th>branch_code</th>\n",
       "      <th>days_since_last_transaction</th>\n",
       "      <th>current_balance</th>\n",
       "      <th>previous_month_end_balance</th>\n",
       "      <th>average_monthly_balance_prevQ</th>\n",
       "      <th>average_monthly_balance_prevQ2</th>\n",
       "      <th>current_month_credit</th>\n",
       "      <th>previous_month_credit</th>\n",
       "      <th>current_month_debit</th>\n",
       "      <th>previous_month_debit</th>\n",
       "      <th>current_month_balance</th>\n",
       "      <th>previous_month_balance</th>\n",
       "      <th>churn</th>\n",
       "    </tr>\n",
       "  </thead>\n",
       "  <tbody>\n",
       "    <tr>\n",
       "      <th>customer_id</th>\n",
       "      <td>1.000000</td>\n",
       "      <td>-0.006972</td>\n",
       "      <td>-0.000442</td>\n",
       "      <td>-0.008616</td>\n",
       "      <td>0.000743</td>\n",
       "      <td>0.009618</td>\n",
       "      <td>-0.000286</td>\n",
       "      <td>0.010267</td>\n",
       "      <td>0.006589</td>\n",
       "      <td>0.005819</td>\n",
       "      <td>0.004485</td>\n",
       "      <td>-0.002532</td>\n",
       "      <td>0.002494</td>\n",
       "      <td>-0.006414</td>\n",
       "      <td>0.002603</td>\n",
       "      <td>-0.008760</td>\n",
       "      <td>0.005140</td>\n",
       "      <td>0.004553</td>\n",
       "      <td>-0.002723</td>\n",
       "    </tr>\n",
       "    <tr>\n",
       "      <th>vintage</th>\n",
       "      <td>-0.006972</td>\n",
       "      <td>1.000000</td>\n",
       "      <td>0.216906</td>\n",
       "      <td>0.028743</td>\n",
       "      <td>0.042871</td>\n",
       "      <td>-0.165805</td>\n",
       "      <td>-0.396470</td>\n",
       "      <td>-0.092947</td>\n",
       "      <td>0.001386</td>\n",
       "      <td>0.002127</td>\n",
       "      <td>0.001375</td>\n",
       "      <td>-0.001502</td>\n",
       "      <td>0.002830</td>\n",
       "      <td>0.026655</td>\n",
       "      <td>0.004670</td>\n",
       "      <td>0.021885</td>\n",
       "      <td>-0.000151</td>\n",
       "      <td>0.001492</td>\n",
       "      <td>-0.068964</td>\n",
       "    </tr>\n",
       "    <tr>\n",
       "      <th>age</th>\n",
       "      <td>-0.000442</td>\n",
       "      <td>0.216906</td>\n",
       "      <td>1.000000</td>\n",
       "      <td>-0.000612</td>\n",
       "      <td>0.015439</td>\n",
       "      <td>-0.076532</td>\n",
       "      <td>-0.058990</td>\n",
       "      <td>-0.016679</td>\n",
       "      <td>0.054346</td>\n",
       "      <td>0.058342</td>\n",
       "      <td>0.061708</td>\n",
       "      <td>0.059607</td>\n",
       "      <td>0.023840</td>\n",
       "      <td>0.029961</td>\n",
       "      <td>0.027702</td>\n",
       "      <td>0.033296</td>\n",
       "      <td>0.057662</td>\n",
       "      <td>0.060297</td>\n",
       "      <td>-0.020012</td>\n",
       "    </tr>\n",
       "    <tr>\n",
       "      <th>dependents</th>\n",
       "      <td>-0.008616</td>\n",
       "      <td>0.028743</td>\n",
       "      <td>-0.000612</td>\n",
       "      <td>1.000000</td>\n",
       "      <td>0.001892</td>\n",
       "      <td>0.013134</td>\n",
       "      <td>0.020141</td>\n",
       "      <td>-0.079834</td>\n",
       "      <td>-0.003070</td>\n",
       "      <td>0.000216</td>\n",
       "      <td>0.001213</td>\n",
       "      <td>0.002949</td>\n",
       "      <td>0.003260</td>\n",
       "      <td>0.025054</td>\n",
       "      <td>0.008207</td>\n",
       "      <td>0.032021</td>\n",
       "      <td>-0.000652</td>\n",
       "      <td>0.001239</td>\n",
       "      <td>0.033487</td>\n",
       "    </tr>\n",
       "    <tr>\n",
       "      <th>city</th>\n",
       "      <td>0.000743</td>\n",
       "      <td>0.042871</td>\n",
       "      <td>0.015439</td>\n",
       "      <td>0.001892</td>\n",
       "      <td>1.000000</td>\n",
       "      <td>0.006613</td>\n",
       "      <td>-0.061234</td>\n",
       "      <td>-0.004309</td>\n",
       "      <td>-0.005654</td>\n",
       "      <td>-0.004089</td>\n",
       "      <td>-0.006298</td>\n",
       "      <td>-0.007891</td>\n",
       "      <td>0.004118</td>\n",
       "      <td>0.008087</td>\n",
       "      <td>0.001465</td>\n",
       "      <td>0.005995</td>\n",
       "      <td>-0.005796</td>\n",
       "      <td>-0.005839</td>\n",
       "      <td>-0.001585</td>\n",
       "    </tr>\n",
       "    <tr>\n",
       "      <th>customer_nw_category</th>\n",
       "      <td>0.009618</td>\n",
       "      <td>-0.165805</td>\n",
       "      <td>-0.076532</td>\n",
       "      <td>0.013134</td>\n",
       "      <td>0.006613</td>\n",
       "      <td>1.000000</td>\n",
       "      <td>0.235059</td>\n",
       "      <td>0.049531</td>\n",
       "      <td>-0.058314</td>\n",
       "      <td>-0.059854</td>\n",
       "      <td>-0.059535</td>\n",
       "      <td>-0.047010</td>\n",
       "      <td>-0.025254</td>\n",
       "      <td>-0.072374</td>\n",
       "      <td>-0.035917</td>\n",
       "      <td>-0.071721</td>\n",
       "      <td>-0.058648</td>\n",
       "      <td>-0.059113</td>\n",
       "      <td>0.006551</td>\n",
       "    </tr>\n",
       "    <tr>\n",
       "      <th>branch_code</th>\n",
       "      <td>-0.000286</td>\n",
       "      <td>-0.396470</td>\n",
       "      <td>-0.058990</td>\n",
       "      <td>0.020141</td>\n",
       "      <td>-0.061234</td>\n",
       "      <td>0.235059</td>\n",
       "      <td>1.000000</td>\n",
       "      <td>0.038708</td>\n",
       "      <td>0.000181</td>\n",
       "      <td>0.000214</td>\n",
       "      <td>0.001955</td>\n",
       "      <td>0.001310</td>\n",
       "      <td>-0.013988</td>\n",
       "      <td>-0.023849</td>\n",
       "      <td>-0.016944</td>\n",
       "      <td>-0.017584</td>\n",
       "      <td>0.001031</td>\n",
       "      <td>0.002080</td>\n",
       "      <td>0.035469</td>\n",
       "    </tr>\n",
       "    <tr>\n",
       "      <th>days_since_last_transaction</th>\n",
       "      <td>0.010267</td>\n",
       "      <td>-0.092947</td>\n",
       "      <td>-0.016679</td>\n",
       "      <td>-0.079834</td>\n",
       "      <td>-0.004309</td>\n",
       "      <td>0.049531</td>\n",
       "      <td>0.038708</td>\n",
       "      <td>1.000000</td>\n",
       "      <td>-0.019990</td>\n",
       "      <td>-0.014400</td>\n",
       "      <td>-0.012709</td>\n",
       "      <td>-0.006384</td>\n",
       "      <td>-0.033131</td>\n",
       "      <td>-0.071657</td>\n",
       "      <td>-0.039165</td>\n",
       "      <td>-0.070192</td>\n",
       "      <td>-0.017837</td>\n",
       "      <td>-0.011738</td>\n",
       "      <td>-0.055830</td>\n",
       "    </tr>\n",
       "    <tr>\n",
       "      <th>current_balance</th>\n",
       "      <td>0.006589</td>\n",
       "      <td>0.001386</td>\n",
       "      <td>0.054346</td>\n",
       "      <td>-0.003070</td>\n",
       "      <td>-0.005654</td>\n",
       "      <td>-0.058314</td>\n",
       "      <td>0.000181</td>\n",
       "      <td>-0.019990</td>\n",
       "      <td>1.000000</td>\n",
       "      <td>0.947276</td>\n",
       "      <td>0.958307</td>\n",
       "      <td>0.714600</td>\n",
       "      <td>0.030371</td>\n",
       "      <td>0.061754</td>\n",
       "      <td>0.044412</td>\n",
       "      <td>0.081247</td>\n",
       "      <td>0.983412</td>\n",
       "      <td>0.942207</td>\n",
       "      <td>-0.024181</td>\n",
       "    </tr>\n",
       "    <tr>\n",
       "      <th>previous_month_end_balance</th>\n",
       "      <td>0.005819</td>\n",
       "      <td>0.002127</td>\n",
       "      <td>0.058342</td>\n",
       "      <td>0.000216</td>\n",
       "      <td>-0.004089</td>\n",
       "      <td>-0.059854</td>\n",
       "      <td>0.000214</td>\n",
       "      <td>-0.014400</td>\n",
       "      <td>0.947276</td>\n",
       "      <td>1.000000</td>\n",
       "      <td>0.970530</td>\n",
       "      <td>0.722998</td>\n",
       "      <td>0.032493</td>\n",
       "      <td>0.114222</td>\n",
       "      <td>0.066329</td>\n",
       "      <td>0.109606</td>\n",
       "      <td>0.974714</td>\n",
       "      <td>0.969605</td>\n",
       "      <td>0.006886</td>\n",
       "    </tr>\n",
       "    <tr>\n",
       "      <th>average_monthly_balance_prevQ</th>\n",
       "      <td>0.004485</td>\n",
       "      <td>0.001375</td>\n",
       "      <td>0.061708</td>\n",
       "      <td>0.001213</td>\n",
       "      <td>-0.006298</td>\n",
       "      <td>-0.059535</td>\n",
       "      <td>0.001955</td>\n",
       "      <td>-0.012709</td>\n",
       "      <td>0.958307</td>\n",
       "      <td>0.970530</td>\n",
       "      <td>1.000000</td>\n",
       "      <td>0.763495</td>\n",
       "      <td>0.033639</td>\n",
       "      <td>0.085699</td>\n",
       "      <td>0.060579</td>\n",
       "      <td>0.121272</td>\n",
       "      <td>0.976290</td>\n",
       "      <td>0.994038</td>\n",
       "      <td>0.011960</td>\n",
       "    </tr>\n",
       "    <tr>\n",
       "      <th>average_monthly_balance_prevQ2</th>\n",
       "      <td>-0.002532</td>\n",
       "      <td>-0.001502</td>\n",
       "      <td>0.059607</td>\n",
       "      <td>0.002949</td>\n",
       "      <td>-0.007891</td>\n",
       "      <td>-0.047010</td>\n",
       "      <td>0.001310</td>\n",
       "      <td>-0.006384</td>\n",
       "      <td>0.714600</td>\n",
       "      <td>0.722998</td>\n",
       "      <td>0.763495</td>\n",
       "      <td>1.000000</td>\n",
       "      <td>0.036271</td>\n",
       "      <td>0.062264</td>\n",
       "      <td>0.045239</td>\n",
       "      <td>0.102519</td>\n",
       "      <td>0.725826</td>\n",
       "      <td>0.736635</td>\n",
       "      <td>0.018376</td>\n",
       "    </tr>\n",
       "    <tr>\n",
       "      <th>current_month_credit</th>\n",
       "      <td>0.002494</td>\n",
       "      <td>0.002830</td>\n",
       "      <td>0.023840</td>\n",
       "      <td>0.003260</td>\n",
       "      <td>0.004118</td>\n",
       "      <td>-0.025254</td>\n",
       "      <td>-0.013988</td>\n",
       "      <td>-0.033131</td>\n",
       "      <td>0.030371</td>\n",
       "      <td>0.032493</td>\n",
       "      <td>0.033639</td>\n",
       "      <td>0.036271</td>\n",
       "      <td>1.000000</td>\n",
       "      <td>0.168561</td>\n",
       "      <td>0.937021</td>\n",
       "      <td>0.135729</td>\n",
       "      <td>0.034182</td>\n",
       "      <td>0.038254</td>\n",
       "      <td>0.020755</td>\n",
       "    </tr>\n",
       "    <tr>\n",
       "      <th>previous_month_credit</th>\n",
       "      <td>-0.006414</td>\n",
       "      <td>0.026655</td>\n",
       "      <td>0.029961</td>\n",
       "      <td>0.025054</td>\n",
       "      <td>0.008087</td>\n",
       "      <td>-0.072374</td>\n",
       "      <td>-0.023849</td>\n",
       "      <td>-0.071657</td>\n",
       "      <td>0.061754</td>\n",
       "      <td>0.114222</td>\n",
       "      <td>0.085699</td>\n",
       "      <td>0.062264</td>\n",
       "      <td>0.168561</td>\n",
       "      <td>1.000000</td>\n",
       "      <td>0.165092</td>\n",
       "      <td>0.733953</td>\n",
       "      <td>0.085320</td>\n",
       "      <td>0.108496</td>\n",
       "      <td>0.042179</td>\n",
       "    </tr>\n",
       "    <tr>\n",
       "      <th>current_month_debit</th>\n",
       "      <td>0.002603</td>\n",
       "      <td>0.004670</td>\n",
       "      <td>0.027702</td>\n",
       "      <td>0.008207</td>\n",
       "      <td>0.001465</td>\n",
       "      <td>-0.035917</td>\n",
       "      <td>-0.016944</td>\n",
       "      <td>-0.039165</td>\n",
       "      <td>0.044412</td>\n",
       "      <td>0.066329</td>\n",
       "      <td>0.060579</td>\n",
       "      <td>0.045239</td>\n",
       "      <td>0.937021</td>\n",
       "      <td>0.165092</td>\n",
       "      <td>1.000000</td>\n",
       "      <td>0.191755</td>\n",
       "      <td>0.069720</td>\n",
       "      <td>0.063375</td>\n",
       "      <td>0.048041</td>\n",
       "    </tr>\n",
       "    <tr>\n",
       "      <th>previous_month_debit</th>\n",
       "      <td>-0.008760</td>\n",
       "      <td>0.021885</td>\n",
       "      <td>0.033296</td>\n",
       "      <td>0.032021</td>\n",
       "      <td>0.005995</td>\n",
       "      <td>-0.071721</td>\n",
       "      <td>-0.017584</td>\n",
       "      <td>-0.070192</td>\n",
       "      <td>0.081247</td>\n",
       "      <td>0.109606</td>\n",
       "      <td>0.121272</td>\n",
       "      <td>0.102519</td>\n",
       "      <td>0.135729</td>\n",
       "      <td>0.733953</td>\n",
       "      <td>0.191755</td>\n",
       "      <td>1.000000</td>\n",
       "      <td>0.102010</td>\n",
       "      <td>0.139723</td>\n",
       "      <td>0.073058</td>\n",
       "    </tr>\n",
       "    <tr>\n",
       "      <th>current_month_balance</th>\n",
       "      <td>0.005140</td>\n",
       "      <td>-0.000151</td>\n",
       "      <td>0.057662</td>\n",
       "      <td>-0.000652</td>\n",
       "      <td>-0.005796</td>\n",
       "      <td>-0.058648</td>\n",
       "      <td>0.001031</td>\n",
       "      <td>-0.017837</td>\n",
       "      <td>0.983412</td>\n",
       "      <td>0.974714</td>\n",
       "      <td>0.976290</td>\n",
       "      <td>0.725826</td>\n",
       "      <td>0.034182</td>\n",
       "      <td>0.085320</td>\n",
       "      <td>0.069720</td>\n",
       "      <td>0.102010</td>\n",
       "      <td>1.000000</td>\n",
       "      <td>0.963276</td>\n",
       "      <td>-0.006391</td>\n",
       "    </tr>\n",
       "    <tr>\n",
       "      <th>previous_month_balance</th>\n",
       "      <td>0.004553</td>\n",
       "      <td>0.001492</td>\n",
       "      <td>0.060297</td>\n",
       "      <td>0.001239</td>\n",
       "      <td>-0.005839</td>\n",
       "      <td>-0.059113</td>\n",
       "      <td>0.002080</td>\n",
       "      <td>-0.011738</td>\n",
       "      <td>0.942207</td>\n",
       "      <td>0.969605</td>\n",
       "      <td>0.994038</td>\n",
       "      <td>0.736635</td>\n",
       "      <td>0.038254</td>\n",
       "      <td>0.108496</td>\n",
       "      <td>0.063375</td>\n",
       "      <td>0.139723</td>\n",
       "      <td>0.963276</td>\n",
       "      <td>1.000000</td>\n",
       "      <td>0.014593</td>\n",
       "    </tr>\n",
       "    <tr>\n",
       "      <th>churn</th>\n",
       "      <td>-0.002723</td>\n",
       "      <td>-0.068964</td>\n",
       "      <td>-0.020012</td>\n",
       "      <td>0.033487</td>\n",
       "      <td>-0.001585</td>\n",
       "      <td>0.006551</td>\n",
       "      <td>0.035469</td>\n",
       "      <td>-0.055830</td>\n",
       "      <td>-0.024181</td>\n",
       "      <td>0.006886</td>\n",
       "      <td>0.011960</td>\n",
       "      <td>0.018376</td>\n",
       "      <td>0.020755</td>\n",
       "      <td>0.042179</td>\n",
       "      <td>0.048041</td>\n",
       "      <td>0.073058</td>\n",
       "      <td>-0.006391</td>\n",
       "      <td>0.014593</td>\n",
       "      <td>1.000000</td>\n",
       "    </tr>\n",
       "  </tbody>\n",
       "</table>\n",
       "</div>"
      ],
      "text/plain": [
       "                                customer_id   vintage       age  dependents  \\\n",
       "customer_id                        1.000000 -0.006972 -0.000442   -0.008616   \n",
       "vintage                           -0.006972  1.000000  0.216906    0.028743   \n",
       "age                               -0.000442  0.216906  1.000000   -0.000612   \n",
       "dependents                        -0.008616  0.028743 -0.000612    1.000000   \n",
       "city                               0.000743  0.042871  0.015439    0.001892   \n",
       "customer_nw_category               0.009618 -0.165805 -0.076532    0.013134   \n",
       "branch_code                       -0.000286 -0.396470 -0.058990    0.020141   \n",
       "days_since_last_transaction        0.010267 -0.092947 -0.016679   -0.079834   \n",
       "current_balance                    0.006589  0.001386  0.054346   -0.003070   \n",
       "previous_month_end_balance         0.005819  0.002127  0.058342    0.000216   \n",
       "average_monthly_balance_prevQ      0.004485  0.001375  0.061708    0.001213   \n",
       "average_monthly_balance_prevQ2    -0.002532 -0.001502  0.059607    0.002949   \n",
       "current_month_credit               0.002494  0.002830  0.023840    0.003260   \n",
       "previous_month_credit             -0.006414  0.026655  0.029961    0.025054   \n",
       "current_month_debit                0.002603  0.004670  0.027702    0.008207   \n",
       "previous_month_debit              -0.008760  0.021885  0.033296    0.032021   \n",
       "current_month_balance              0.005140 -0.000151  0.057662   -0.000652   \n",
       "previous_month_balance             0.004553  0.001492  0.060297    0.001239   \n",
       "churn                             -0.002723 -0.068964 -0.020012    0.033487   \n",
       "\n",
       "                                    city  customer_nw_category  branch_code  \\\n",
       "customer_id                     0.000743              0.009618    -0.000286   \n",
       "vintage                         0.042871             -0.165805    -0.396470   \n",
       "age                             0.015439             -0.076532    -0.058990   \n",
       "dependents                      0.001892              0.013134     0.020141   \n",
       "city                            1.000000              0.006613    -0.061234   \n",
       "customer_nw_category            0.006613              1.000000     0.235059   \n",
       "branch_code                    -0.061234              0.235059     1.000000   \n",
       "days_since_last_transaction    -0.004309              0.049531     0.038708   \n",
       "current_balance                -0.005654             -0.058314     0.000181   \n",
       "previous_month_end_balance     -0.004089             -0.059854     0.000214   \n",
       "average_monthly_balance_prevQ  -0.006298             -0.059535     0.001955   \n",
       "average_monthly_balance_prevQ2 -0.007891             -0.047010     0.001310   \n",
       "current_month_credit            0.004118             -0.025254    -0.013988   \n",
       "previous_month_credit           0.008087             -0.072374    -0.023849   \n",
       "current_month_debit             0.001465             -0.035917    -0.016944   \n",
       "previous_month_debit            0.005995             -0.071721    -0.017584   \n",
       "current_month_balance          -0.005796             -0.058648     0.001031   \n",
       "previous_month_balance         -0.005839             -0.059113     0.002080   \n",
       "churn                          -0.001585              0.006551     0.035469   \n",
       "\n",
       "                                days_since_last_transaction  current_balance  \\\n",
       "customer_id                                        0.010267         0.006589   \n",
       "vintage                                           -0.092947         0.001386   \n",
       "age                                               -0.016679         0.054346   \n",
       "dependents                                        -0.079834        -0.003070   \n",
       "city                                              -0.004309        -0.005654   \n",
       "customer_nw_category                               0.049531        -0.058314   \n",
       "branch_code                                        0.038708         0.000181   \n",
       "days_since_last_transaction                        1.000000        -0.019990   \n",
       "current_balance                                   -0.019990         1.000000   \n",
       "previous_month_end_balance                        -0.014400         0.947276   \n",
       "average_monthly_balance_prevQ                     -0.012709         0.958307   \n",
       "average_monthly_balance_prevQ2                    -0.006384         0.714600   \n",
       "current_month_credit                              -0.033131         0.030371   \n",
       "previous_month_credit                             -0.071657         0.061754   \n",
       "current_month_debit                               -0.039165         0.044412   \n",
       "previous_month_debit                              -0.070192         0.081247   \n",
       "current_month_balance                             -0.017837         0.983412   \n",
       "previous_month_balance                            -0.011738         0.942207   \n",
       "churn                                             -0.055830        -0.024181   \n",
       "\n",
       "                                previous_month_end_balance  \\\n",
       "customer_id                                       0.005819   \n",
       "vintage                                           0.002127   \n",
       "age                                               0.058342   \n",
       "dependents                                        0.000216   \n",
       "city                                             -0.004089   \n",
       "customer_nw_category                             -0.059854   \n",
       "branch_code                                       0.000214   \n",
       "days_since_last_transaction                      -0.014400   \n",
       "current_balance                                   0.947276   \n",
       "previous_month_end_balance                        1.000000   \n",
       "average_monthly_balance_prevQ                     0.970530   \n",
       "average_monthly_balance_prevQ2                    0.722998   \n",
       "current_month_credit                              0.032493   \n",
       "previous_month_credit                             0.114222   \n",
       "current_month_debit                               0.066329   \n",
       "previous_month_debit                              0.109606   \n",
       "current_month_balance                             0.974714   \n",
       "previous_month_balance                            0.969605   \n",
       "churn                                             0.006886   \n",
       "\n",
       "                                average_monthly_balance_prevQ  \\\n",
       "customer_id                                          0.004485   \n",
       "vintage                                              0.001375   \n",
       "age                                                  0.061708   \n",
       "dependents                                           0.001213   \n",
       "city                                                -0.006298   \n",
       "customer_nw_category                                -0.059535   \n",
       "branch_code                                          0.001955   \n",
       "days_since_last_transaction                         -0.012709   \n",
       "current_balance                                      0.958307   \n",
       "previous_month_end_balance                           0.970530   \n",
       "average_monthly_balance_prevQ                        1.000000   \n",
       "average_monthly_balance_prevQ2                       0.763495   \n",
       "current_month_credit                                 0.033639   \n",
       "previous_month_credit                                0.085699   \n",
       "current_month_debit                                  0.060579   \n",
       "previous_month_debit                                 0.121272   \n",
       "current_month_balance                                0.976290   \n",
       "previous_month_balance                               0.994038   \n",
       "churn                                                0.011960   \n",
       "\n",
       "                                average_monthly_balance_prevQ2  \\\n",
       "customer_id                                          -0.002532   \n",
       "vintage                                              -0.001502   \n",
       "age                                                   0.059607   \n",
       "dependents                                            0.002949   \n",
       "city                                                 -0.007891   \n",
       "customer_nw_category                                 -0.047010   \n",
       "branch_code                                           0.001310   \n",
       "days_since_last_transaction                          -0.006384   \n",
       "current_balance                                       0.714600   \n",
       "previous_month_end_balance                            0.722998   \n",
       "average_monthly_balance_prevQ                         0.763495   \n",
       "average_monthly_balance_prevQ2                        1.000000   \n",
       "current_month_credit                                  0.036271   \n",
       "previous_month_credit                                 0.062264   \n",
       "current_month_debit                                   0.045239   \n",
       "previous_month_debit                                  0.102519   \n",
       "current_month_balance                                 0.725826   \n",
       "previous_month_balance                                0.736635   \n",
       "churn                                                 0.018376   \n",
       "\n",
       "                                current_month_credit  previous_month_credit  \\\n",
       "customer_id                                 0.002494              -0.006414   \n",
       "vintage                                     0.002830               0.026655   \n",
       "age                                         0.023840               0.029961   \n",
       "dependents                                  0.003260               0.025054   \n",
       "city                                        0.004118               0.008087   \n",
       "customer_nw_category                       -0.025254              -0.072374   \n",
       "branch_code                                -0.013988              -0.023849   \n",
       "days_since_last_transaction                -0.033131              -0.071657   \n",
       "current_balance                             0.030371               0.061754   \n",
       "previous_month_end_balance                  0.032493               0.114222   \n",
       "average_monthly_balance_prevQ               0.033639               0.085699   \n",
       "average_monthly_balance_prevQ2              0.036271               0.062264   \n",
       "current_month_credit                        1.000000               0.168561   \n",
       "previous_month_credit                       0.168561               1.000000   \n",
       "current_month_debit                         0.937021               0.165092   \n",
       "previous_month_debit                        0.135729               0.733953   \n",
       "current_month_balance                       0.034182               0.085320   \n",
       "previous_month_balance                      0.038254               0.108496   \n",
       "churn                                       0.020755               0.042179   \n",
       "\n",
       "                                current_month_debit  previous_month_debit  \\\n",
       "customer_id                                0.002603             -0.008760   \n",
       "vintage                                    0.004670              0.021885   \n",
       "age                                        0.027702              0.033296   \n",
       "dependents                                 0.008207              0.032021   \n",
       "city                                       0.001465              0.005995   \n",
       "customer_nw_category                      -0.035917             -0.071721   \n",
       "branch_code                               -0.016944             -0.017584   \n",
       "days_since_last_transaction               -0.039165             -0.070192   \n",
       "current_balance                            0.044412              0.081247   \n",
       "previous_month_end_balance                 0.066329              0.109606   \n",
       "average_monthly_balance_prevQ              0.060579              0.121272   \n",
       "average_monthly_balance_prevQ2             0.045239              0.102519   \n",
       "current_month_credit                       0.937021              0.135729   \n",
       "previous_month_credit                      0.165092              0.733953   \n",
       "current_month_debit                        1.000000              0.191755   \n",
       "previous_month_debit                       0.191755              1.000000   \n",
       "current_month_balance                      0.069720              0.102010   \n",
       "previous_month_balance                     0.063375              0.139723   \n",
       "churn                                      0.048041              0.073058   \n",
       "\n",
       "                                current_month_balance  previous_month_balance  \\\n",
       "customer_id                                  0.005140                0.004553   \n",
       "vintage                                     -0.000151                0.001492   \n",
       "age                                          0.057662                0.060297   \n",
       "dependents                                  -0.000652                0.001239   \n",
       "city                                        -0.005796               -0.005839   \n",
       "customer_nw_category                        -0.058648               -0.059113   \n",
       "branch_code                                  0.001031                0.002080   \n",
       "days_since_last_transaction                 -0.017837               -0.011738   \n",
       "current_balance                              0.983412                0.942207   \n",
       "previous_month_end_balance                   0.974714                0.969605   \n",
       "average_monthly_balance_prevQ                0.976290                0.994038   \n",
       "average_monthly_balance_prevQ2               0.725826                0.736635   \n",
       "current_month_credit                         0.034182                0.038254   \n",
       "previous_month_credit                        0.085320                0.108496   \n",
       "current_month_debit                          0.069720                0.063375   \n",
       "previous_month_debit                         0.102010                0.139723   \n",
       "current_month_balance                        1.000000                0.963276   \n",
       "previous_month_balance                       0.963276                1.000000   \n",
       "churn                                       -0.006391                0.014593   \n",
       "\n",
       "                                   churn  \n",
       "customer_id                    -0.002723  \n",
       "vintage                        -0.068964  \n",
       "age                            -0.020012  \n",
       "dependents                      0.033487  \n",
       "city                           -0.001585  \n",
       "customer_nw_category            0.006551  \n",
       "branch_code                     0.035469  \n",
       "days_since_last_transaction    -0.055830  \n",
       "current_balance                -0.024181  \n",
       "previous_month_end_balance      0.006886  \n",
       "average_monthly_balance_prevQ   0.011960  \n",
       "average_monthly_balance_prevQ2  0.018376  \n",
       "current_month_credit            0.020755  \n",
       "previous_month_credit           0.042179  \n",
       "current_month_debit             0.048041  \n",
       "previous_month_debit            0.073058  \n",
       "current_month_balance          -0.006391  \n",
       "previous_month_balance          0.014593  \n",
       "churn                           1.000000  "
      ]
     },
     "execution_count": 110,
     "metadata": {},
     "output_type": "execute_result"
    }
   ],
   "source": [
    "df.corr()"
   ]
  },
  {
   "cell_type": "code",
   "execution_count": 111,
   "metadata": {},
   "outputs": [
    {
     "data": {
      "text/plain": [
       "<matplotlib.axes._subplots.AxesSubplot at 0x7fc700e1bd10>"
      ]
     },
     "execution_count": 111,
     "metadata": {},
     "output_type": "execute_result"
    },
    {
     "data": {
      "image/png": "[encoded data removed]",
      "text/plain": [
       "<Figure size 432x288 with 1 Axes>"
      ]
     },
     "metadata": {
      "needs_background": "light"
     },
     "output_type": "display_data"
    }
   ],
   "source": [
    "#Analyse age and vintage\n",
    "df.plot.scatter('age','vintage')"
   ]
  },
  {
   "cell_type": "code",
   "execution_count": 118,
   "metadata": {},
   "outputs": [
    {
     "data": {
      "text/plain": [
       "<matplotlib.collections.PathCollection at 0x7fc6eaddce10>"
      ]
     },
     "execution_count": 118,
     "metadata": {},
     "output_type": "execute_result"
    },
    {
     "data": {
      "image/png": "[encoded data removed]",
      "text/plain": [
       "<Figure size 432x288 with 1 Axes>"
      ]
     },
     "metadata": {
      "needs_background": "light"
     },
     "output_type": "display_data"
    }
   ],
   "source": [
    "#Analyse current balance and prev month end balance\n",
    "x=df.loc[df['current_balance']<30000]['current_balance']\n",
    "y=df.loc[df['current_balance']<30000]['previous_month_end_balance']\n",
    "plt.scatter(x,y)"
   ]
  },
  {
   "cell_type": "code",
   "execution_count": 119,
   "metadata": {},
   "outputs": [
    {
     "data": {
      "text/plain": [
       "<matplotlib.collections.PathCollection at 0x7fc6ead495d0>"
      ]
     },
     "execution_count": 119,
     "metadata": {},
     "output_type": "execute_result"
    },
    {
     "data": {
      "image/png": "[encoded data removed]",
      "text/plain": [
       "<Figure size 432x288 with 1 Axes>"
      ]
     },
     "metadata": {
      "needs_background": "light"
     },
     "output_type": "display_data"
    }
   ],
   "source": [
    "x=df.loc[df['current_balance']<30000]['current_balance']\n",
    "y=df.loc[df['current_balance']<30000]['average_monthly_balance_prevQ']\n",
    "plt.scatter(x,y)"
   ]
  },
  {
   "cell_type": "code",
   "execution_count": 127,
   "metadata": {},
   "outputs": [
    {
     "name": "stdout",
     "output_type": "stream",
     "text": [
      "0.7245718669006768\n"
     ]
    },
    {
     "data": {
      "text/plain": [
       "<matplotlib.collections.PathCollection at 0x7fc6e9421890>"
      ]
     },
     "execution_count": 127,
     "metadata": {},
     "output_type": "execute_result"
    },
    {
     "data": {
      "image/png": "[encoded data removed]",
      "text/plain": [
       "<Figure size 432x288 with 1 Axes>"
      ]
     },
     "metadata": {
      "needs_background": "light"
     },
     "output_type": "display_data"
    }
   ],
   "source": [
    "x=df.loc[df['current_balance']<30000]['current_balance']\n",
    "y=df.loc[df['current_balance']<30000]['current_month_balance']\n",
    "print(x.corr(y))\n",
    "plt.scatter(x,y)"
   ]
  },
  {
   "cell_type": "code",
   "execution_count": 129,
   "metadata": {},
   "outputs": [
    {
     "data": {
      "text/plain": [
       "0.4772376667627051"
      ]
     },
     "execution_count": 129,
     "metadata": {},
     "output_type": "execute_result"
    }
   ],
   "source": [
    "x=df.loc[df['current_balance']<30000]['current_balance']\n",
    "y=df.loc[df['current_balance']<30000]['previous_month_balance']\n",
    "x.corr(y)"
   ]
  },
  {
   "cell_type": "code",
   "execution_count": 130,
   "metadata": {},
   "outputs": [],
   "source": [
    "#Many of the correlations of >0.95 shown in corr() table are due to outliers\n",
    "#Notice how corr comes down when they are not considered"
   ]
  },
  {
   "cell_type": "code",
   "execution_count": 141,
   "metadata": {
    "scrolled": true
   },
   "outputs": [
    {
     "data": {
      "text/plain": [
       "churn\n",
       "0    7579.267826\n",
       "1    6887.874426\n",
       "Name: current_month_balance, dtype: float64"
      ]
     },
     "execution_count": 141,
     "metadata": {},
     "output_type": "execute_result"
    }
   ],
   "source": [
    "df.groupby('churn')['current_month_balance'].mean()"
   ]
  },
  {
   "cell_type": "code",
   "execution_count": 145,
   "metadata": {},
   "outputs": [
    {
     "data": {
      "text/plain": [
       "churn\n",
       "0    2670.323390\n",
       "1    6786.948224\n",
       "Name: current_month_credit, dtype: float64"
      ]
     },
     "execution_count": 145,
     "metadata": {},
     "output_type": "execute_result"
    }
   ],
   "source": [
    "df.groupby('churn')['current_month_credit'].mean()"
   ]
  },
  {
   "cell_type": "code",
   "execution_count": 144,
   "metadata": {},
   "outputs": [
    {
     "data": {
      "text/plain": [
       "churn\n",
       "0    2467.586989\n",
       "1    8894.855785\n",
       "Name: current_month_debit, dtype: float64"
      ]
     },
     "execution_count": 144,
     "metadata": {},
     "output_type": "execute_result"
    }
   ],
   "source": [
    "df.groupby('churn')['current_month_debit'].mean()"
   ]
  },
  {
   "cell_type": "code",
   "execution_count": 146,
   "metadata": {},
   "outputs": [
    {
     "data": {
      "text/plain": [
       "churn\n",
       "0    48.378298\n",
       "1    47.461217\n",
       "Name: age, dtype: float64"
      ]
     },
     "execution_count": 146,
     "metadata": {},
     "output_type": "execute_result"
    }
   ],
   "source": [
    "df.groupby('churn')['age'].mean()"
   ]
  },
  {
   "cell_type": "code",
   "execution_count": 158,
   "metadata": {
    "scrolled": true
   },
   "outputs": [
    {
     "data": {
      "text/plain": [
       "churn\n",
       "0    46.243268\n",
       "1    43.293872\n",
       "Name: vintage, dtype: float64"
      ]
     },
     "execution_count": 158,
     "metadata": {},
     "output_type": "execute_result"
    }
   ],
   "source": [
    "df.groupby('churn')['vintage'].mean()"
   ]
  },
  {
   "cell_type": "code",
   "execution_count": 159,
   "metadata": {},
   "outputs": [
    {
     "name": "stdout",
     "output_type": "stream",
     "text": [
      "***  current_month_balance  ***\n",
      "\n",
      "gender\n",
      "Female    6423.555371\n",
      "Male      7389.013915\n",
      "Name: current_month_balance, dtype: float64 \n",
      "\n",
      "***  current_month_credit  ***\n",
      "\n",
      "gender\n",
      "Female    2251.921145\n",
      "Male      4035.692208\n",
      "Name: current_month_credit, dtype: float64 \n",
      "\n",
      "***  current_month_debit  ***\n",
      "\n",
      "gender\n",
      "Female    2672.832396\n",
      "Male      4076.060357\n",
      "Name: current_month_debit, dtype: float64 \n",
      "\n",
      "***  previous_month_balance  ***\n",
      "\n",
      "gender\n",
      "Female    6533.850829\n",
      "Male      7421.493478\n",
      "Name: previous_month_balance, dtype: float64 \n",
      "\n",
      "***  previous_month_credit  ***\n",
      "\n",
      "gender\n",
      "Female    2342.253927\n",
      "Male      3753.678121\n",
      "Name: previous_month_credit, dtype: float64 \n",
      "\n",
      "***  previous_month_debit  ***\n",
      "\n",
      "gender\n",
      "Female    2521.188909\n",
      "Male      3729.175149\n",
      "Name: previous_month_debit, dtype: float64 \n",
      "\n",
      "***  average_monthly_balance_prevQ  ***\n",
      "\n",
      "gender\n",
      "Female    6526.645941\n",
      "Male      7422.922377\n",
      "Name: average_monthly_balance_prevQ, dtype: float64 \n",
      "\n"
     ]
    }
   ],
   "source": [
    "continuous=['current_month_balance',\n",
    "            'current_month_credit',\n",
    "            'current_month_debit',\n",
    "            'previous_month_balance','previous_month_credit','previous_month_debit',\n",
    "           'average_monthly_balance_prevQ']\n",
    "for i in continuous:\n",
    "    print('*** ',i,' ***\\n')\n",
    "    print(df.groupby('gender')[i].mean(),'\\n')"
   ]
  },
  {
   "cell_type": "code",
   "execution_count": 162,
   "metadata": {},
   "outputs": [
    {
     "data": {
      "text/plain": [
       "gender\n",
       "Female    2297.087536\n",
       "Male      3894.685164\n",
       "Name: avg_credit, dtype: float64"
      ]
     },
     "execution_count": 162,
     "metadata": {},
     "output_type": "execute_result"
    }
   ],
   "source": [
    "#current month and previous month credit can be used to impute missing gender values\n",
    "df['avg_credit']=(df['current_month_credit']+df['previous_month_credit'])/2\n",
    "df.groupby('gender')['avg_credit'].mean()"
   ]
  },
  {
   "cell_type": "code",
   "execution_count": 219,
   "metadata": {},
   "outputs": [
    {
     "name": "stdout",
     "output_type": "stream",
     "text": [
      "   gender and occupation \n",
      "\n",
      "occupation  company  retired  salaried  self_employed  student\n",
      "gender                                                        \n",
      "Female           10      389      1838           8477     1006\n",
      "Male             30     1635      4866           8999     1052 \n",
      "\n",
      "   gender and customer_nw_category \n",
      "\n",
      "customer_nw_category     1     2     3\n",
      "gender                                \n",
      "Female                1801  6107  3832\n",
      "Male                  1910  8452  6280 \n",
      "\n",
      "   gender and churn \n",
      "\n",
      "churn       0     1\n",
      "gender             \n",
      "Female   9668  2072\n",
      "Male    13454  3188 \n",
      "\n",
      "   gender and dependents \n",
      "\n",
      "dependents    0.0   1.0   2.0  3.0\n",
      "gender                            \n",
      "Female       9726   346   324   75\n",
      "Male        11709  1049  1826  864 \n",
      "\n",
      "   occupation and customer_nw_category \n",
      "\n",
      "customer_nw_category     1     2     3\n",
      "occupation                            \n",
      "company                  6    17    17\n",
      "retired                232  1047   745\n",
      "salaried               800  3270  2634\n",
      "self_employed         2330  9091  6055\n",
      "student                338  1099   621 \n",
      "\n",
      "   occupation and churn \n",
      "\n",
      "churn              0     1\n",
      "occupation                \n",
      "company           36     4\n",
      "retired         1719   305\n",
      "salaried        5557  1147\n",
      "self_employed  14009  3467\n",
      "student         1734   324 \n",
      "\n",
      "   occupation and dependents \n",
      "\n",
      "dependents       0.0  1.0   2.0  3.0\n",
      "occupation                          \n",
      "company           31    1     2    1\n",
      "retired         1762   65    65   18\n",
      "salaried        5043  461   581  280\n",
      "self_employed  12777  846  1492  639\n",
      "student         1769   14     8    0 \n",
      "\n",
      "   customer_nw_category and churn \n",
      "\n",
      "churn                     0     1\n",
      "customer_nw_category             \n",
      "1                      3001   710\n",
      "2                     11953  2606\n",
      "3                      8168  1944 \n",
      "\n",
      "   customer_nw_category and dependents \n",
      "\n",
      "dependents              0.0  1.0   2.0  3.0\n",
      "customer_nw_category                       \n",
      "1                      2894  214   291   95\n",
      "2                     11026  708  1110  480\n",
      "3                      7515  473   749  364 \n",
      "\n",
      "   churn and dependents \n",
      "\n",
      "dependents    0.0   1.0   2.0  3.0\n",
      "churn                             \n",
      "0           17700  1076  1665  745\n",
      "1            3735   319   485  194 \n",
      "\n"
     ]
    }
   ],
   "source": [
    "l=['gender','occupation','customer_nw_category','churn','dependents']\n",
    "for i in range(0,5):\n",
    "    for j in range(i+1,5):\n",
    "        print('  ',l[i],'and',l[j],'\\n')\n",
    "        print(pd.crosstab(index=df[l[i]],columns=df[l[j]]),'\\n')"
   ]
  },
  {
   "cell_type": "code",
   "execution_count": 227,
   "metadata": {},
   "outputs": [
    {
     "name": "stderr",
     "output_type": "stream",
     "text": [
      "/home/asm01/miniconda3/envs/asm/lib/python3.7/site-packages/ipykernel_launcher.py:13: SettingWithCopyWarning: \n",
      "A value is trying to be set on a copy of a slice from a DataFrame\n",
      "\n",
      "See the caveats in the documentation: https://pandas.pydata.org/pandas-docs/stable/user_guide/indexing.html#returning-a-view-versus-a-copy\n",
      "  del sys.path[0]\n",
      "/home/asm01/miniconda3/envs/asm/lib/python3.7/site-packages/ipykernel_launcher.py:9: SettingWithCopyWarning: \n",
      "A value is trying to be set on a copy of a slice from a DataFrame\n",
      "\n",
      "See the caveats in the documentation: https://pandas.pydata.org/pandas-docs/stable/user_guide/indexing.html#returning-a-view-versus-a-copy\n",
      "  if __name__ == '__main__':\n",
      "/home/asm01/miniconda3/envs/asm/lib/python3.7/site-packages/ipykernel_launcher.py:7: SettingWithCopyWarning: \n",
      "A value is trying to be set on a copy of a slice from a DataFrame\n",
      "\n",
      "See the caveats in the documentation: https://pandas.pydata.org/pandas-docs/stable/user_guide/indexing.html#returning-a-view-versus-a-copy\n",
      "  import sys\n",
      "/home/asm01/miniconda3/envs/asm/lib/python3.7/site-packages/ipykernel_launcher.py:5: SettingWithCopyWarning: \n",
      "A value is trying to be set on a copy of a slice from a DataFrame\n",
      "\n",
      "See the caveats in the documentation: https://pandas.pydata.org/pandas-docs/stable/user_guide/indexing.html#returning-a-view-versus-a-copy\n",
      "  \"\"\"\n"
     ]
    }
   ],
   "source": [
    "#Imputing missing gender values\n",
    "for i in range(len(df)):\n",
    "    if df['gender'][i]!='Male' and df['gender'][i]!='Female':\n",
    "        if df['occupation'][i]=='retired':\n",
    "            df['gender'][i]='Male'\n",
    "        elif df['occupation'][i]=='salaried':\n",
    "            df['gender'][i]='Male'\n",
    "        elif df['customer_nw_category'][i]==3:\n",
    "            df['gender'][i]='Male'\n",
    "        elif df['dependents'][i]>=2:\n",
    "            df['gender'][i]='Male'\n",
    "        else:\n",
    "            df['gender'][i]='Female'"
   ]
  },
  {
   "cell_type": "code",
   "execution_count": 228,
   "metadata": {},
   "outputs": [
    {
     "data": {
      "text/plain": [
       "0.0     21435\n",
       "2.0      2150\n",
       "1.0      1395\n",
       "3.0       701\n",
       "4.0       179\n",
       "5.0        41\n",
       "6.0         8\n",
       "7.0         3\n",
       "36.0        1\n",
       "52.0        1\n",
       "25.0        1\n",
       "9.0         1\n",
       "50.0        1\n",
       "32.0        1\n",
       "8.0         1\n",
       "Name: dependents, dtype: int64"
      ]
     },
     "execution_count": 228,
     "metadata": {},
     "output_type": "execute_result"
    }
   ],
   "source": [
    "df['dependents'].value_counts()"
   ]
  },
  {
   "cell_type": "code",
   "execution_count": 229,
   "metadata": {},
   "outputs": [
    {
     "name": "stderr",
     "output_type": "stream",
     "text": [
      "/home/asm01/miniconda3/envs/asm/lib/python3.7/site-packages/ipykernel_launcher.py:4: SettingWithCopyWarning: \n",
      "A value is trying to be set on a copy of a slice from a DataFrame\n",
      "\n",
      "See the caveats in the documentation: https://pandas.pydata.org/pandas-docs/stable/user_guide/indexing.html#returning-a-view-versus-a-copy\n",
      "  after removing the cwd from sys.path.\n"
     ]
    }
   ],
   "source": [
    "#Convert dependents into categorical\n",
    "for i in range(len(df)):\n",
    "    if df['dependents'][i]>2:\n",
    "        df['dependents'][i]=3"
   ]
  },
  {
   "cell_type": "code",
   "execution_count": 214,
   "metadata": {},
   "outputs": [
    {
     "data": {
      "text/plain": [
       "0.0    21435\n",
       "2.0     2150\n",
       "1.0     1395\n",
       "3.0      939\n",
       "Name: dependents, dtype: int64"
      ]
     },
     "execution_count": 214,
     "metadata": {},
     "output_type": "execute_result"
    }
   ],
   "source": [
    "df['dependents'].value_counts()"
   ]
  },
  {
   "cell_type": "code",
   "execution_count": 236,
   "metadata": {},
   "outputs": [],
   "source": [
    "df=df.astype({'dependents':'object','city':'object'})"
   ]
  },
  {
   "cell_type": "code",
   "execution_count": 231,
   "metadata": {},
   "outputs": [
    {
     "data": {
      "text/plain": [
       "0          0\n",
       "1          0\n",
       "2          0\n",
       "3        NaN\n",
       "4          2\n",
       "        ... \n",
       "28377      0\n",
       "28378      0\n",
       "28379      0\n",
       "28380      3\n",
       "28381      0\n",
       "Name: dependents, Length: 28382, dtype: object"
      ]
     },
     "execution_count": 231,
     "metadata": {},
     "output_type": "execute_result"
    }
   ],
   "source": [
    "df['dependents']"
   ]
  },
  {
   "cell_type": "code",
   "execution_count": 264,
   "metadata": {},
   "outputs": [],
   "source": [
    "df['dependents']=df['dependents'].fillna(0)\n",
    "df['occupation']=df['occupation'].fillna('self_employed')"
   ]
  },
  {
   "cell_type": "code",
   "execution_count": 233,
   "metadata": {},
   "outputs": [
    {
     "data": {
      "text/html": [
       "<div>\n",
       "<style scoped>\n",
       "    .dataframe tbody tr th:only-of-type {\n",
       "        vertical-align: middle;\n",
       "    }\n",
       "\n",
       "    .dataframe tbody tr th {\n",
       "        vertical-align: top;\n",
       "    }\n",
       "\n",
       "    .dataframe thead th {\n",
       "        text-align: right;\n",
       "    }\n",
       "</style>\n",
       "<table border=\"1\" class=\"dataframe\">\n",
       "  <thead>\n",
       "    <tr style=\"text-align: right;\">\n",
       "      <th></th>\n",
       "      <th>customer_id</th>\n",
       "      <th>vintage</th>\n",
       "      <th>age</th>\n",
       "      <th>gender</th>\n",
       "      <th>dependents</th>\n",
       "      <th>occupation</th>\n",
       "      <th>city</th>\n",
       "      <th>customer_nw_category</th>\n",
       "      <th>branch_code</th>\n",
       "      <th>days_since_last_transaction</th>\n",
       "      <th>...</th>\n",
       "      <th>previous_month_end_balance</th>\n",
       "      <th>average_monthly_balance_prevQ</th>\n",
       "      <th>average_monthly_balance_prevQ2</th>\n",
       "      <th>current_month_credit</th>\n",
       "      <th>previous_month_credit</th>\n",
       "      <th>current_month_debit</th>\n",
       "      <th>previous_month_debit</th>\n",
       "      <th>current_month_balance</th>\n",
       "      <th>previous_month_balance</th>\n",
       "      <th>churn</th>\n",
       "    </tr>\n",
       "  </thead>\n",
       "  <tbody>\n",
       "    <tr>\n",
       "      <th>0</th>\n",
       "      <td>1</td>\n",
       "      <td>3135</td>\n",
       "      <td>66</td>\n",
       "      <td>Male</td>\n",
       "      <td>0.0</td>\n",
       "      <td>self_employed</td>\n",
       "      <td>187.0</td>\n",
       "      <td>2</td>\n",
       "      <td>755</td>\n",
       "      <td>224.0</td>\n",
       "      <td>...</td>\n",
       "      <td>1458.71</td>\n",
       "      <td>1458.71</td>\n",
       "      <td>1449.07</td>\n",
       "      <td>0.20</td>\n",
       "      <td>0.20</td>\n",
       "      <td>0.20</td>\n",
       "      <td>0.20</td>\n",
       "      <td>1458.71</td>\n",
       "      <td>1458.71</td>\n",
       "      <td>0</td>\n",
       "    </tr>\n",
       "    <tr>\n",
       "      <th>1</th>\n",
       "      <td>2</td>\n",
       "      <td>310</td>\n",
       "      <td>35</td>\n",
       "      <td>Male</td>\n",
       "      <td>0.0</td>\n",
       "      <td>self_employed</td>\n",
       "      <td>NaN</td>\n",
       "      <td>2</td>\n",
       "      <td>3214</td>\n",
       "      <td>60.0</td>\n",
       "      <td>...</td>\n",
       "      <td>8704.66</td>\n",
       "      <td>7799.26</td>\n",
       "      <td>12419.41</td>\n",
       "      <td>0.56</td>\n",
       "      <td>0.56</td>\n",
       "      <td>5486.27</td>\n",
       "      <td>100.56</td>\n",
       "      <td>6496.78</td>\n",
       "      <td>8787.61</td>\n",
       "      <td>0</td>\n",
       "    </tr>\n",
       "    <tr>\n",
       "      <th>2</th>\n",
       "      <td>4</td>\n",
       "      <td>2356</td>\n",
       "      <td>31</td>\n",
       "      <td>Male</td>\n",
       "      <td>0.0</td>\n",
       "      <td>salaried</td>\n",
       "      <td>146.0</td>\n",
       "      <td>2</td>\n",
       "      <td>41</td>\n",
       "      <td>NaN</td>\n",
       "      <td>...</td>\n",
       "      <td>5815.29</td>\n",
       "      <td>4910.17</td>\n",
       "      <td>2815.94</td>\n",
       "      <td>0.61</td>\n",
       "      <td>0.61</td>\n",
       "      <td>6046.73</td>\n",
       "      <td>259.23</td>\n",
       "      <td>5006.28</td>\n",
       "      <td>5070.14</td>\n",
       "      <td>0</td>\n",
       "    </tr>\n",
       "    <tr>\n",
       "      <th>3</th>\n",
       "      <td>5</td>\n",
       "      <td>478</td>\n",
       "      <td>90</td>\n",
       "      <td>Female</td>\n",
       "      <td>0.0</td>\n",
       "      <td>self_employed</td>\n",
       "      <td>1020.0</td>\n",
       "      <td>2</td>\n",
       "      <td>582</td>\n",
       "      <td>147.0</td>\n",
       "      <td>...</td>\n",
       "      <td>2291.91</td>\n",
       "      <td>2084.54</td>\n",
       "      <td>1006.54</td>\n",
       "      <td>0.47</td>\n",
       "      <td>0.47</td>\n",
       "      <td>0.47</td>\n",
       "      <td>2143.33</td>\n",
       "      <td>2291.91</td>\n",
       "      <td>1669.79</td>\n",
       "      <td>1</td>\n",
       "    </tr>\n",
       "    <tr>\n",
       "      <th>4</th>\n",
       "      <td>6</td>\n",
       "      <td>2531</td>\n",
       "      <td>42</td>\n",
       "      <td>Male</td>\n",
       "      <td>2.0</td>\n",
       "      <td>self_employed</td>\n",
       "      <td>1494.0</td>\n",
       "      <td>3</td>\n",
       "      <td>388</td>\n",
       "      <td>58.0</td>\n",
       "      <td>...</td>\n",
       "      <td>1401.72</td>\n",
       "      <td>1643.31</td>\n",
       "      <td>1871.12</td>\n",
       "      <td>0.33</td>\n",
       "      <td>714.61</td>\n",
       "      <td>588.62</td>\n",
       "      <td>1538.06</td>\n",
       "      <td>1157.15</td>\n",
       "      <td>1677.16</td>\n",
       "      <td>1</td>\n",
       "    </tr>\n",
       "    <tr>\n",
       "      <th>...</th>\n",
       "      <td>...</td>\n",
       "      <td>...</td>\n",
       "      <td>...</td>\n",
       "      <td>...</td>\n",
       "      <td>...</td>\n",
       "      <td>...</td>\n",
       "      <td>...</td>\n",
       "      <td>...</td>\n",
       "      <td>...</td>\n",
       "      <td>...</td>\n",
       "      <td>...</td>\n",
       "      <td>...</td>\n",
       "      <td>...</td>\n",
       "      <td>...</td>\n",
       "      <td>...</td>\n",
       "      <td>...</td>\n",
       "      <td>...</td>\n",
       "      <td>...</td>\n",
       "      <td>...</td>\n",
       "      <td>...</td>\n",
       "      <td>...</td>\n",
       "    </tr>\n",
       "    <tr>\n",
       "      <th>28377</th>\n",
       "      <td>30297</td>\n",
       "      <td>1845</td>\n",
       "      <td>10</td>\n",
       "      <td>Female</td>\n",
       "      <td>0.0</td>\n",
       "      <td>student</td>\n",
       "      <td>1020.0</td>\n",
       "      <td>2</td>\n",
       "      <td>1207</td>\n",
       "      <td>70.0</td>\n",
       "      <td>...</td>\n",
       "      <td>1076.43</td>\n",
       "      <td>2282.19</td>\n",
       "      <td>2787.70</td>\n",
       "      <td>0.30</td>\n",
       "      <td>0.30</td>\n",
       "      <td>0.30</td>\n",
       "      <td>0.30</td>\n",
       "      <td>1076.43</td>\n",
       "      <td>1076.43</td>\n",
       "      <td>0</td>\n",
       "    </tr>\n",
       "    <tr>\n",
       "      <th>28378</th>\n",
       "      <td>30298</td>\n",
       "      <td>4919</td>\n",
       "      <td>34</td>\n",
       "      <td>Female</td>\n",
       "      <td>0.0</td>\n",
       "      <td>self_employed</td>\n",
       "      <td>1046.0</td>\n",
       "      <td>2</td>\n",
       "      <td>223</td>\n",
       "      <td>14.0</td>\n",
       "      <td>...</td>\n",
       "      <td>4069.21</td>\n",
       "      <td>3668.83</td>\n",
       "      <td>3865.55</td>\n",
       "      <td>1.71</td>\n",
       "      <td>2.29</td>\n",
       "      <td>901.00</td>\n",
       "      <td>1014.07</td>\n",
       "      <td>3738.54</td>\n",
       "      <td>3690.32</td>\n",
       "      <td>0</td>\n",
       "    </tr>\n",
       "    <tr>\n",
       "      <th>28379</th>\n",
       "      <td>30299</td>\n",
       "      <td>297</td>\n",
       "      <td>47</td>\n",
       "      <td>Male</td>\n",
       "      <td>0.0</td>\n",
       "      <td>salaried</td>\n",
       "      <td>1096.0</td>\n",
       "      <td>2</td>\n",
       "      <td>588</td>\n",
       "      <td>0.0</td>\n",
       "      <td>...</td>\n",
       "      <td>61017.55</td>\n",
       "      <td>53444.81</td>\n",
       "      <td>21925.81</td>\n",
       "      <td>4666.84</td>\n",
       "      <td>3883.06</td>\n",
       "      <td>168.23</td>\n",
       "      <td>71.80</td>\n",
       "      <td>61078.50</td>\n",
       "      <td>57564.24</td>\n",
       "      <td>1</td>\n",
       "    </tr>\n",
       "    <tr>\n",
       "      <th>28380</th>\n",
       "      <td>30300</td>\n",
       "      <td>2585</td>\n",
       "      <td>50</td>\n",
       "      <td>Male</td>\n",
       "      <td>3.0</td>\n",
       "      <td>self_employed</td>\n",
       "      <td>1219.0</td>\n",
       "      <td>3</td>\n",
       "      <td>274</td>\n",
       "      <td>NaN</td>\n",
       "      <td>...</td>\n",
       "      <td>1625.55</td>\n",
       "      <td>1683.20</td>\n",
       "      <td>1857.42</td>\n",
       "      <td>0.20</td>\n",
       "      <td>0.20</td>\n",
       "      <td>0.20</td>\n",
       "      <td>0.20</td>\n",
       "      <td>1625.55</td>\n",
       "      <td>1625.55</td>\n",
       "      <td>0</td>\n",
       "    </tr>\n",
       "    <tr>\n",
       "      <th>28381</th>\n",
       "      <td>30301</td>\n",
       "      <td>2349</td>\n",
       "      <td>18</td>\n",
       "      <td>Male</td>\n",
       "      <td>0.0</td>\n",
       "      <td>student</td>\n",
       "      <td>1232.0</td>\n",
       "      <td>2</td>\n",
       "      <td>474</td>\n",
       "      <td>59.0</td>\n",
       "      <td>...</td>\n",
       "      <td>2821.34</td>\n",
       "      <td>3213.44</td>\n",
       "      <td>4447.45</td>\n",
       "      <td>0.11</td>\n",
       "      <td>7.44</td>\n",
       "      <td>714.40</td>\n",
       "      <td>1094.09</td>\n",
       "      <td>2402.62</td>\n",
       "      <td>3260.58</td>\n",
       "      <td>1</td>\n",
       "    </tr>\n",
       "  </tbody>\n",
       "</table>\n",
       "<p>28382 rows × 21 columns</p>\n",
       "</div>"
      ],
      "text/plain": [
       "       customer_id  vintage  age  gender  dependents     occupation    city  \\\n",
       "0                1     3135   66    Male         0.0  self_employed   187.0   \n",
       "1                2      310   35    Male         0.0  self_employed     NaN   \n",
       "2                4     2356   31    Male         0.0       salaried   146.0   \n",
       "3                5      478   90  Female         0.0  self_employed  1020.0   \n",
       "4                6     2531   42    Male         2.0  self_employed  1494.0   \n",
       "...            ...      ...  ...     ...         ...            ...     ...   \n",
       "28377        30297     1845   10  Female         0.0        student  1020.0   \n",
       "28378        30298     4919   34  Female         0.0  self_employed  1046.0   \n",
       "28379        30299      297   47    Male         0.0       salaried  1096.0   \n",
       "28380        30300     2585   50    Male         3.0  self_employed  1219.0   \n",
       "28381        30301     2349   18    Male         0.0        student  1232.0   \n",
       "\n",
       "       customer_nw_category  branch_code  days_since_last_transaction  ...  \\\n",
       "0                         2          755                        224.0  ...   \n",
       "1                         2         3214                         60.0  ...   \n",
       "2                         2           41                          NaN  ...   \n",
       "3                         2          582                        147.0  ...   \n",
       "4                         3          388                         58.0  ...   \n",
       "...                     ...          ...                          ...  ...   \n",
       "28377                     2         1207                         70.0  ...   \n",
       "28378                     2          223                         14.0  ...   \n",
       "28379                     2          588                          0.0  ...   \n",
       "28380                     3          274                          NaN  ...   \n",
       "28381                     2          474                         59.0  ...   \n",
       "\n",
       "       previous_month_end_balance  average_monthly_balance_prevQ  \\\n",
       "0                         1458.71                        1458.71   \n",
       "1                         8704.66                        7799.26   \n",
       "2                         5815.29                        4910.17   \n",
       "3                         2291.91                        2084.54   \n",
       "4                         1401.72                        1643.31   \n",
       "...                           ...                            ...   \n",
       "28377                     1076.43                        2282.19   \n",
       "28378                     4069.21                        3668.83   \n",
       "28379                    61017.55                       53444.81   \n",
       "28380                     1625.55                        1683.20   \n",
       "28381                     2821.34                        3213.44   \n",
       "\n",
       "       average_monthly_balance_prevQ2  current_month_credit  \\\n",
       "0                             1449.07                  0.20   \n",
       "1                            12419.41                  0.56   \n",
       "2                             2815.94                  0.61   \n",
       "3                             1006.54                  0.47   \n",
       "4                             1871.12                  0.33   \n",
       "...                               ...                   ...   \n",
       "28377                         2787.70                  0.30   \n",
       "28378                         3865.55                  1.71   \n",
       "28379                        21925.81               4666.84   \n",
       "28380                         1857.42                  0.20   \n",
       "28381                         4447.45                  0.11   \n",
       "\n",
       "       previous_month_credit  current_month_debit  previous_month_debit  \\\n",
       "0                       0.20                 0.20                  0.20   \n",
       "1                       0.56              5486.27                100.56   \n",
       "2                       0.61              6046.73                259.23   \n",
       "3                       0.47                 0.47               2143.33   \n",
       "4                     714.61               588.62               1538.06   \n",
       "...                      ...                  ...                   ...   \n",
       "28377                   0.30                 0.30                  0.30   \n",
       "28378                   2.29               901.00               1014.07   \n",
       "28379                3883.06               168.23                 71.80   \n",
       "28380                   0.20                 0.20                  0.20   \n",
       "28381                   7.44               714.40               1094.09   \n",
       "\n",
       "       current_month_balance  previous_month_balance  churn  \n",
       "0                    1458.71                 1458.71      0  \n",
       "1                    6496.78                 8787.61      0  \n",
       "2                    5006.28                 5070.14      0  \n",
       "3                    2291.91                 1669.79      1  \n",
       "4                    1157.15                 1677.16      1  \n",
       "...                      ...                     ...    ...  \n",
       "28377                1076.43                 1076.43      0  \n",
       "28378                3738.54                 3690.32      0  \n",
       "28379               61078.50                57564.24      1  \n",
       "28380                1625.55                 1625.55      0  \n",
       "28381                2402.62                 3260.58      1  \n",
       "\n",
       "[28382 rows x 21 columns]"
      ]
     },
     "execution_count": 233,
     "metadata": {},
     "output_type": "execute_result"
    }
   ],
   "source": [
    "df"
   ]
  },
  {
   "cell_type": "code",
   "execution_count": 240,
   "metadata": {
    "scrolled": true
   },
   "outputs": [
    {
     "name": "stdout",
     "output_type": "stream",
     "text": [
      "*** gender ***\n",
      "\n",
      "gender\n",
      "Female    78.783906\n",
      "Male      64.016768\n",
      "Name: days_since_last_transaction, dtype: float64 \n",
      "\n",
      "*** occupation ***\n",
      "\n",
      "occupation\n",
      "company          72.029412\n",
      "retired          68.125490\n",
      "salaried         62.867931\n",
      "self_employed    70.655480\n",
      "student          92.476278\n",
      "Name: days_since_last_transaction, dtype: float64 \n",
      "\n",
      "*** customer_nw_category ***\n",
      "\n",
      "customer_nw_category\n",
      "1    56.485035\n",
      "2    71.599922\n",
      "3    72.844684\n",
      "Name: days_since_last_transaction, dtype: float64 \n",
      "\n",
      "*** churn ***\n",
      "\n",
      "churn\n",
      "0    72.386771\n",
      "1    60.271518\n",
      "Name: days_since_last_transaction, dtype: float64 \n",
      "\n",
      "*** dependents ***\n",
      "\n",
      "dependents\n",
      "0.0    74.269514\n",
      "1.0    50.563677\n",
      "2.0    48.149831\n",
      "3.0    49.329171\n",
      "Name: days_since_last_transaction, dtype: float64 \n",
      "\n"
     ]
    }
   ],
   "source": [
    "l=['gender','occupation','customer_nw_category','churn','dependents']\n",
    "for i in l:\n",
    "    print('***',i,'***\\n')\n",
    "    print(df.groupby(i)['days_since_last_transaction'].mean(),'\\n')"
   ]
  },
  {
   "cell_type": "code",
   "execution_count": 246,
   "metadata": {},
   "outputs": [
    {
     "data": {
      "text/html": [
       "<div>\n",
       "<style scoped>\n",
       "    .dataframe tbody tr th:only-of-type {\n",
       "        vertical-align: middle;\n",
       "    }\n",
       "\n",
       "    .dataframe tbody tr th {\n",
       "        vertical-align: top;\n",
       "    }\n",
       "\n",
       "    .dataframe thead th {\n",
       "        text-align: right;\n",
       "    }\n",
       "</style>\n",
       "<table border=\"1\" class=\"dataframe\">\n",
       "  <thead>\n",
       "    <tr style=\"text-align: right;\">\n",
       "      <th></th>\n",
       "      <th>customer_id</th>\n",
       "      <th>vintage</th>\n",
       "      <th>age</th>\n",
       "      <th>gender</th>\n",
       "      <th>dependents</th>\n",
       "      <th>occupation</th>\n",
       "      <th>city</th>\n",
       "      <th>customer_nw_category</th>\n",
       "      <th>branch_code</th>\n",
       "      <th>days_since_last_transaction</th>\n",
       "      <th>...</th>\n",
       "      <th>previous_month_end_balance</th>\n",
       "      <th>average_monthly_balance_prevQ</th>\n",
       "      <th>average_monthly_balance_prevQ2</th>\n",
       "      <th>current_month_credit</th>\n",
       "      <th>previous_month_credit</th>\n",
       "      <th>current_month_debit</th>\n",
       "      <th>previous_month_debit</th>\n",
       "      <th>current_month_balance</th>\n",
       "      <th>previous_month_balance</th>\n",
       "      <th>churn</th>\n",
       "    </tr>\n",
       "  </thead>\n",
       "  <tbody>\n",
       "    <tr>\n",
       "      <th>2</th>\n",
       "      <td>4</td>\n",
       "      <td>2356</td>\n",
       "      <td>31</td>\n",
       "      <td>Male</td>\n",
       "      <td>0</td>\n",
       "      <td>salaried</td>\n",
       "      <td>146</td>\n",
       "      <td>2</td>\n",
       "      <td>41</td>\n",
       "      <td>NaN</td>\n",
       "      <td>...</td>\n",
       "      <td>5815.29</td>\n",
       "      <td>4910.17</td>\n",
       "      <td>2815.94</td>\n",
       "      <td>0.61</td>\n",
       "      <td>0.61</td>\n",
       "      <td>6046.73</td>\n",
       "      <td>259.23</td>\n",
       "      <td>5006.28</td>\n",
       "      <td>5070.14</td>\n",
       "      <td>0</td>\n",
       "    </tr>\n",
       "    <tr>\n",
       "      <th>15</th>\n",
       "      <td>17</td>\n",
       "      <td>1934</td>\n",
       "      <td>51</td>\n",
       "      <td>Female</td>\n",
       "      <td>0</td>\n",
       "      <td>self_employed</td>\n",
       "      <td>1232</td>\n",
       "      <td>3</td>\n",
       "      <td>149</td>\n",
       "      <td>NaN</td>\n",
       "      <td>...</td>\n",
       "      <td>1994.84</td>\n",
       "      <td>1829.43</td>\n",
       "      <td>2415.57</td>\n",
       "      <td>0.16</td>\n",
       "      <td>0.16</td>\n",
       "      <td>128.66</td>\n",
       "      <td>360.70</td>\n",
       "      <td>1960.91</td>\n",
       "      <td>1840.23</td>\n",
       "      <td>0</td>\n",
       "    </tr>\n",
       "    <tr>\n",
       "      <th>21</th>\n",
       "      <td>24</td>\n",
       "      <td>2083</td>\n",
       "      <td>29</td>\n",
       "      <td>Female</td>\n",
       "      <td>0</td>\n",
       "      <td>self_employed</td>\n",
       "      <td>1020</td>\n",
       "      <td>2</td>\n",
       "      <td>1106</td>\n",
       "      <td>NaN</td>\n",
       "      <td>...</td>\n",
       "      <td>5149.74</td>\n",
       "      <td>5569.58</td>\n",
       "      <td>4826.60</td>\n",
       "      <td>0.47</td>\n",
       "      <td>0.47</td>\n",
       "      <td>357.61</td>\n",
       "      <td>786.19</td>\n",
       "      <td>5029.05</td>\n",
       "      <td>5744.21</td>\n",
       "      <td>1</td>\n",
       "    </tr>\n",
       "    <tr>\n",
       "      <th>25</th>\n",
       "      <td>28</td>\n",
       "      <td>606</td>\n",
       "      <td>76</td>\n",
       "      <td>Male</td>\n",
       "      <td>0</td>\n",
       "      <td>self_employed</td>\n",
       "      <td>1533</td>\n",
       "      <td>3</td>\n",
       "      <td>881</td>\n",
       "      <td>NaN</td>\n",
       "      <td>...</td>\n",
       "      <td>14289.26</td>\n",
       "      <td>14289.26</td>\n",
       "      <td>14443.43</td>\n",
       "      <td>0.64</td>\n",
       "      <td>0.64</td>\n",
       "      <td>0.64</td>\n",
       "      <td>0.64</td>\n",
       "      <td>14289.26</td>\n",
       "      <td>14289.26</td>\n",
       "      <td>0</td>\n",
       "    </tr>\n",
       "    <tr>\n",
       "      <th>29</th>\n",
       "      <td>32</td>\n",
       "      <td>2204</td>\n",
       "      <td>33</td>\n",
       "      <td>Female</td>\n",
       "      <td>0</td>\n",
       "      <td>salaried</td>\n",
       "      <td>834</td>\n",
       "      <td>2</td>\n",
       "      <td>14</td>\n",
       "      <td>NaN</td>\n",
       "      <td>...</td>\n",
       "      <td>6161.67</td>\n",
       "      <td>6163.13</td>\n",
       "      <td>6156.28</td>\n",
       "      <td>0.11</td>\n",
       "      <td>0.11</td>\n",
       "      <td>0.11</td>\n",
       "      <td>0.11</td>\n",
       "      <td>6152.98</td>\n",
       "      <td>6165.44</td>\n",
       "      <td>0</td>\n",
       "    </tr>\n",
       "    <tr>\n",
       "      <th>...</th>\n",
       "      <td>...</td>\n",
       "      <td>...</td>\n",
       "      <td>...</td>\n",
       "      <td>...</td>\n",
       "      <td>...</td>\n",
       "      <td>...</td>\n",
       "      <td>...</td>\n",
       "      <td>...</td>\n",
       "      <td>...</td>\n",
       "      <td>...</td>\n",
       "      <td>...</td>\n",
       "      <td>...</td>\n",
       "      <td>...</td>\n",
       "      <td>...</td>\n",
       "      <td>...</td>\n",
       "      <td>...</td>\n",
       "      <td>...</td>\n",
       "      <td>...</td>\n",
       "      <td>...</td>\n",
       "      <td>...</td>\n",
       "      <td>...</td>\n",
       "    </tr>\n",
       "    <tr>\n",
       "      <th>28363</th>\n",
       "      <td>30283</td>\n",
       "      <td>3409</td>\n",
       "      <td>26</td>\n",
       "      <td>Female</td>\n",
       "      <td>0</td>\n",
       "      <td>student</td>\n",
       "      <td>334</td>\n",
       "      <td>2</td>\n",
       "      <td>82</td>\n",
       "      <td>NaN</td>\n",
       "      <td>...</td>\n",
       "      <td>7422.94</td>\n",
       "      <td>7422.94</td>\n",
       "      <td>7375.91</td>\n",
       "      <td>0.01</td>\n",
       "      <td>0.01</td>\n",
       "      <td>0.01</td>\n",
       "      <td>0.01</td>\n",
       "      <td>7422.94</td>\n",
       "      <td>7422.94</td>\n",
       "      <td>0</td>\n",
       "    </tr>\n",
       "    <tr>\n",
       "      <th>28364</th>\n",
       "      <td>30284</td>\n",
       "      <td>1936</td>\n",
       "      <td>72</td>\n",
       "      <td>Male</td>\n",
       "      <td>0</td>\n",
       "      <td>self_employed</td>\n",
       "      <td>656</td>\n",
       "      <td>2</td>\n",
       "      <td>1964</td>\n",
       "      <td>NaN</td>\n",
       "      <td>...</td>\n",
       "      <td>3453.68</td>\n",
       "      <td>3551.89</td>\n",
       "      <td>3615.19</td>\n",
       "      <td>0.44</td>\n",
       "      <td>0.44</td>\n",
       "      <td>0.44</td>\n",
       "      <td>214.73</td>\n",
       "      <td>3453.68</td>\n",
       "      <td>3540.40</td>\n",
       "      <td>0</td>\n",
       "    </tr>\n",
       "    <tr>\n",
       "      <th>28365</th>\n",
       "      <td>30285</td>\n",
       "      <td>3853</td>\n",
       "      <td>35</td>\n",
       "      <td>Male</td>\n",
       "      <td>0</td>\n",
       "      <td>self_employed</td>\n",
       "      <td>223</td>\n",
       "      <td>2</td>\n",
       "      <td>187</td>\n",
       "      <td>NaN</td>\n",
       "      <td>...</td>\n",
       "      <td>2535.64</td>\n",
       "      <td>2616.38</td>\n",
       "      <td>3212.75</td>\n",
       "      <td>0.56</td>\n",
       "      <td>0.56</td>\n",
       "      <td>214.84</td>\n",
       "      <td>0.56</td>\n",
       "      <td>2454.36</td>\n",
       "      <td>2535.64</td>\n",
       "      <td>0</td>\n",
       "    </tr>\n",
       "    <tr>\n",
       "      <th>28376</th>\n",
       "      <td>30296</td>\n",
       "      <td>2155</td>\n",
       "      <td>85</td>\n",
       "      <td>Male</td>\n",
       "      <td>0</td>\n",
       "      <td>retired</td>\n",
       "      <td>1589</td>\n",
       "      <td>2</td>\n",
       "      <td>389</td>\n",
       "      <td>NaN</td>\n",
       "      <td>...</td>\n",
       "      <td>1741.50</td>\n",
       "      <td>1741.50</td>\n",
       "      <td>1730.46</td>\n",
       "      <td>0.04</td>\n",
       "      <td>0.04</td>\n",
       "      <td>0.04</td>\n",
       "      <td>0.04</td>\n",
       "      <td>1741.50</td>\n",
       "      <td>1741.50</td>\n",
       "      <td>0</td>\n",
       "    </tr>\n",
       "    <tr>\n",
       "      <th>28380</th>\n",
       "      <td>30300</td>\n",
       "      <td>2585</td>\n",
       "      <td>50</td>\n",
       "      <td>Male</td>\n",
       "      <td>3</td>\n",
       "      <td>self_employed</td>\n",
       "      <td>1219</td>\n",
       "      <td>3</td>\n",
       "      <td>274</td>\n",
       "      <td>NaN</td>\n",
       "      <td>...</td>\n",
       "      <td>1625.55</td>\n",
       "      <td>1683.20</td>\n",
       "      <td>1857.42</td>\n",
       "      <td>0.20</td>\n",
       "      <td>0.20</td>\n",
       "      <td>0.20</td>\n",
       "      <td>0.20</td>\n",
       "      <td>1625.55</td>\n",
       "      <td>1625.55</td>\n",
       "      <td>0</td>\n",
       "    </tr>\n",
       "  </tbody>\n",
       "</table>\n",
       "<p>3223 rows × 21 columns</p>\n",
       "</div>"
      ],
      "text/plain": [
       "       customer_id  vintage  age  gender dependents     occupation  city  \\\n",
       "2                4     2356   31    Male          0       salaried   146   \n",
       "15              17     1934   51  Female          0  self_employed  1232   \n",
       "21              24     2083   29  Female          0  self_employed  1020   \n",
       "25              28      606   76    Male          0  self_employed  1533   \n",
       "29              32     2204   33  Female          0       salaried   834   \n",
       "...            ...      ...  ...     ...        ...            ...   ...   \n",
       "28363        30283     3409   26  Female          0        student   334   \n",
       "28364        30284     1936   72    Male          0  self_employed   656   \n",
       "28365        30285     3853   35    Male          0  self_employed   223   \n",
       "28376        30296     2155   85    Male          0        retired  1589   \n",
       "28380        30300     2585   50    Male          3  self_employed  1219   \n",
       "\n",
       "       customer_nw_category  branch_code  days_since_last_transaction  ...  \\\n",
       "2                         2           41                          NaN  ...   \n",
       "15                        3          149                          NaN  ...   \n",
       "21                        2         1106                          NaN  ...   \n",
       "25                        3          881                          NaN  ...   \n",
       "29                        2           14                          NaN  ...   \n",
       "...                     ...          ...                          ...  ...   \n",
       "28363                     2           82                          NaN  ...   \n",
       "28364                     2         1964                          NaN  ...   \n",
       "28365                     2          187                          NaN  ...   \n",
       "28376                     2          389                          NaN  ...   \n",
       "28380                     3          274                          NaN  ...   \n",
       "\n",
       "       previous_month_end_balance  average_monthly_balance_prevQ  \\\n",
       "2                         5815.29                        4910.17   \n",
       "15                        1994.84                        1829.43   \n",
       "21                        5149.74                        5569.58   \n",
       "25                       14289.26                       14289.26   \n",
       "29                        6161.67                        6163.13   \n",
       "...                           ...                            ...   \n",
       "28363                     7422.94                        7422.94   \n",
       "28364                     3453.68                        3551.89   \n",
       "28365                     2535.64                        2616.38   \n",
       "28376                     1741.50                        1741.50   \n",
       "28380                     1625.55                        1683.20   \n",
       "\n",
       "       average_monthly_balance_prevQ2  current_month_credit  \\\n",
       "2                             2815.94                  0.61   \n",
       "15                            2415.57                  0.16   \n",
       "21                            4826.60                  0.47   \n",
       "25                           14443.43                  0.64   \n",
       "29                            6156.28                  0.11   \n",
       "...                               ...                   ...   \n",
       "28363                         7375.91                  0.01   \n",
       "28364                         3615.19                  0.44   \n",
       "28365                         3212.75                  0.56   \n",
       "28376                         1730.46                  0.04   \n",
       "28380                         1857.42                  0.20   \n",
       "\n",
       "       previous_month_credit  current_month_debit  previous_month_debit  \\\n",
       "2                       0.61              6046.73                259.23   \n",
       "15                      0.16               128.66                360.70   \n",
       "21                      0.47               357.61                786.19   \n",
       "25                      0.64                 0.64                  0.64   \n",
       "29                      0.11                 0.11                  0.11   \n",
       "...                      ...                  ...                   ...   \n",
       "28363                   0.01                 0.01                  0.01   \n",
       "28364                   0.44                 0.44                214.73   \n",
       "28365                   0.56               214.84                  0.56   \n",
       "28376                   0.04                 0.04                  0.04   \n",
       "28380                   0.20                 0.20                  0.20   \n",
       "\n",
       "       current_month_balance  previous_month_balance  churn  \n",
       "2                    5006.28                 5070.14      0  \n",
       "15                   1960.91                 1840.23      0  \n",
       "21                   5029.05                 5744.21      1  \n",
       "25                  14289.26                14289.26      0  \n",
       "29                   6152.98                 6165.44      0  \n",
       "...                      ...                     ...    ...  \n",
       "28363                7422.94                 7422.94      0  \n",
       "28364                3453.68                 3540.40      0  \n",
       "28365                2454.36                 2535.64      0  \n",
       "28376                1741.50                 1741.50      0  \n",
       "28380                1625.55                 1625.55      0  \n",
       "\n",
       "[3223 rows x 21 columns]"
      ]
     },
     "execution_count": 246,
     "metadata": {},
     "output_type": "execute_result"
    }
   ],
   "source": [
    "df[df['days_since_last_transaction'].isnull()==True]"
   ]
  },
  {
   "cell_type": "code",
   "execution_count": 247,
   "metadata": {},
   "outputs": [
    {
     "name": "stderr",
     "output_type": "stream",
     "text": [
      "/home/asm01/miniconda3/envs/asm/lib/python3.7/site-packages/ipykernel_launcher.py:5: SettingWithCopyWarning: \n",
      "A value is trying to be set on a copy of a slice from a DataFrame\n",
      "\n",
      "See the caveats in the documentation: https://pandas.pydata.org/pandas-docs/stable/user_guide/indexing.html#returning-a-view-versus-a-copy\n",
      "  \"\"\"\n",
      "/home/asm01/miniconda3/envs/asm/lib/python3.7/site-packages/ipykernel_launcher.py:11: SettingWithCopyWarning: \n",
      "A value is trying to be set on a copy of a slice from a DataFrame\n",
      "\n",
      "See the caveats in the documentation: https://pandas.pydata.org/pandas-docs/stable/user_guide/indexing.html#returning-a-view-versus-a-copy\n",
      "  # This is added back by InteractiveShellApp.init_path()\n",
      "/home/asm01/miniconda3/envs/asm/lib/python3.7/site-packages/ipykernel_launcher.py:7: SettingWithCopyWarning: \n",
      "A value is trying to be set on a copy of a slice from a DataFrame\n",
      "\n",
      "See the caveats in the documentation: https://pandas.pydata.org/pandas-docs/stable/user_guide/indexing.html#returning-a-view-versus-a-copy\n",
      "  import sys\n",
      "/home/asm01/miniconda3/envs/asm/lib/python3.7/site-packages/ipykernel_launcher.py:9: SettingWithCopyWarning: \n",
      "A value is trying to be set on a copy of a slice from a DataFrame\n",
      "\n",
      "See the caveats in the documentation: https://pandas.pydata.org/pandas-docs/stable/user_guide/indexing.html#returning-a-view-versus-a-copy\n",
      "  if __name__ == '__main__':\n"
     ]
    }
   ],
   "source": [
    "mean_days=np.mean(df['days_since_last_transaction'])\n",
    "for i in range(len(df)):\n",
    "    if pd.isnull(df['days_since_last_transaction'][i])==True:\n",
    "        if df['dependents'][i]==0:\n",
    "            df['days_since_last_transaction'][i]=74\n",
    "        elif df['customer_nw_category'][i]==1:\n",
    "            df['days_since_last_transaction'][i]=56\n",
    "        elif df['occupation'][i]=='student':\n",
    "            df['days_since_last_transaction'][i]=92\n",
    "        else:\n",
    "            df['days_since_last_transaction'][i]=mean_days"
   ]
  },
  {
   "cell_type": "code",
   "execution_count": 265,
   "metadata": {},
   "outputs": [
    {
     "data": {
      "text/plain": [
       "customer_id                         0\n",
       "vintage                             0\n",
       "age                                 0\n",
       "gender                              0\n",
       "dependents                          0\n",
       "occupation                          0\n",
       "city                              803\n",
       "customer_nw_category                0\n",
       "branch_code                         0\n",
       "days_since_last_transaction         0\n",
       "current_balance                     0\n",
       "previous_month_end_balance          0\n",
       "average_monthly_balance_prevQ       0\n",
       "average_monthly_balance_prevQ2      0\n",
       "current_month_credit                0\n",
       "previous_month_credit               0\n",
       "current_month_debit                 0\n",
       "previous_month_debit                0\n",
       "current_month_balance               0\n",
       "previous_month_balance              0\n",
       "churn                               0\n",
       "dtype: int64"
      ]
     },
     "execution_count": 265,
     "metadata": {},
     "output_type": "execute_result"
    }
   ],
   "source": [
    "df.isnull().sum()"
   ]
  },
  {
   "cell_type": "code",
   "execution_count": null,
   "metadata": {},
   "outputs": [],
   "source": [
    "#Right now not taking city and branch_code variable"
   ]
  }
 ],
 "metadata": {
  "kernelspec": {
   "display_name": "Python 3",
   "language": "python",
   "name": "python3"
  },
  "language_info": {
   "codemirror_mode": {
    "name": "ipython",
    "version": 3
   },
   "file_extension": ".py",
   "mimetype": "text/x-python",
   "name": "python",
   "nbconvert_exporter": "python",
   "pygments_lexer": "ipython3",
   "version": "3.7.6"
  }
 },
 "nbformat": 4,
 "nbformat_minor": 4
}
